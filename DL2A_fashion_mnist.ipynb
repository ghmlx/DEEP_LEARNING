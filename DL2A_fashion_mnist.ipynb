{
  "cells": [
    {
      "cell_type": "markdown",
      "metadata": {
        "id": "TL_DvhN7yoFE"
      },
      "source": [
        "This lab session in an introduction to feed-forward neural network with pytorch. We use the dataset Fashion-MNIST (see for more details this website https://github.com/zalandoresearch/fashion-mnist). The dataset contains 60000 and 10000 images for respectively training and testing. Each image is 28x28 pixels, for a total of 784 per image.  An image is presented to the neural network as a flat vector of 784 component. \n",
        "\n",
        "\n",
        "In this lab session, you will experiment different kind of feed-forward networks, starting with simple models,  and then increasing their complexity. \n",
        "\n",
        "First load and test python and pytorch. Your notebook is supposed to work with python 3 (see the top right corner of the notebook).\n",
        "\n"
      ]
    },
    {
      "cell_type": "code",
      "execution_count": 1,
      "metadata": {
        "colab": {
          "base_uri": "https://localhost:8080/"
        },
        "id": "Jicr7EG3yoFK",
        "outputId": "89bc6f2d-9a02-4338-cf62-8a72b42a7a54"
      },
      "outputs": [
        {
          "output_type": "stream",
          "name": "stdout",
          "text": [
            "2.0.0+cu118\n"
          ]
        }
      ],
      "source": [
        "import torch as th\n",
        "import torch.nn as nn\n",
        "\n",
        "import numpy as np\n",
        "import pickle\n",
        "import math\n",
        "import matplotlib\n",
        "import matplotlib.pyplot as plt \n",
        "%matplotlib inline\n",
        "%config InlineBackend.figure_formats=['svg']\n",
        "%config InlineBackend.figure_format = 'svg'\n",
        "print(th.__version__) # should be greater or equal to 1.0\n"
      ]
    },
    {
      "cell_type": "markdown",
      "metadata": {
        "id": "Dk5jtD4tyoFN"
      },
      "source": [
        "# Dataset\n",
        "\n",
        "To simplify, just download and / or read the picke file provided. \n"
      ]
    },
    {
      "cell_type": "code",
      "execution_count": 2,
      "metadata": {
        "scrolled": true,
        "colab": {
          "base_uri": "https://localhost:8080/",
          "height": 346
        },
        "id": "5_BfcZuByoFN",
        "outputId": "35489620-120f-43b8-c90c-deb01df6b2a6"
      },
      "outputs": [
        {
          "output_type": "error",
          "ename": "FileNotFoundError",
          "evalue": "ignored",
          "traceback": [
            "\u001b[0;31m---------------------------------------------------------------------------\u001b[0m",
            "\u001b[0;31mFileNotFoundError\u001b[0m                         Traceback (most recent call last)",
            "\u001b[0;32m<ipython-input-2-a2888ef31486>\u001b[0m in \u001b[0;36m<cell line: 2>\u001b[0;34m()\u001b[0m\n\u001b[1;32m      1\u001b[0m \u001b[0;32mimport\u001b[0m \u001b[0mgzip\u001b[0m\u001b[0;34m\u001b[0m\u001b[0;34m\u001b[0m\u001b[0m\n\u001b[0;32m----> 2\u001b[0;31m \u001b[0mfp\u001b[0m \u001b[0;34m=\u001b[0m \u001b[0mgzip\u001b[0m\u001b[0;34m.\u001b[0m\u001b[0mopen\u001b[0m\u001b[0;34m(\u001b[0m\u001b[0;34m'fashion-mnist.pk.gz'\u001b[0m\u001b[0;34m,\u001b[0m\u001b[0;34m'rb'\u001b[0m\u001b[0;34m)\u001b[0m\u001b[0;34m\u001b[0m\u001b[0;34m\u001b[0m\u001b[0m\n\u001b[0m\u001b[1;32m      3\u001b[0m \u001b[0mallXtrain\u001b[0m\u001b[0;34m,\u001b[0m \u001b[0mallYtrain\u001b[0m\u001b[0;34m,\u001b[0m \u001b[0mXtest\u001b[0m\u001b[0;34m,\u001b[0m \u001b[0mYtest\u001b[0m\u001b[0;34m,\u001b[0m \u001b[0mclasslist\u001b[0m  \u001b[0;34m=\u001b[0m \u001b[0mpickle\u001b[0m\u001b[0;34m.\u001b[0m\u001b[0mload\u001b[0m\u001b[0;34m(\u001b[0m\u001b[0mfp\u001b[0m\u001b[0;34m)\u001b[0m\u001b[0;34m\u001b[0m\u001b[0;34m\u001b[0m\u001b[0m\n",
            "\u001b[0;32m/usr/lib/python3.10/gzip.py\u001b[0m in \u001b[0;36mopen\u001b[0;34m(filename, mode, compresslevel, encoding, errors, newline)\u001b[0m\n\u001b[1;32m     56\u001b[0m     \u001b[0mgz_mode\u001b[0m \u001b[0;34m=\u001b[0m \u001b[0mmode\u001b[0m\u001b[0;34m.\u001b[0m\u001b[0mreplace\u001b[0m\u001b[0;34m(\u001b[0m\u001b[0;34m\"t\"\u001b[0m\u001b[0;34m,\u001b[0m \u001b[0;34m\"\"\u001b[0m\u001b[0;34m)\u001b[0m\u001b[0;34m\u001b[0m\u001b[0;34m\u001b[0m\u001b[0m\n\u001b[1;32m     57\u001b[0m     \u001b[0;32mif\u001b[0m \u001b[0misinstance\u001b[0m\u001b[0;34m(\u001b[0m\u001b[0mfilename\u001b[0m\u001b[0;34m,\u001b[0m \u001b[0;34m(\u001b[0m\u001b[0mstr\u001b[0m\u001b[0;34m,\u001b[0m \u001b[0mbytes\u001b[0m\u001b[0;34m,\u001b[0m \u001b[0mos\u001b[0m\u001b[0;34m.\u001b[0m\u001b[0mPathLike\u001b[0m\u001b[0;34m)\u001b[0m\u001b[0;34m)\u001b[0m\u001b[0;34m:\u001b[0m\u001b[0;34m\u001b[0m\u001b[0;34m\u001b[0m\u001b[0m\n\u001b[0;32m---> 58\u001b[0;31m         \u001b[0mbinary_file\u001b[0m \u001b[0;34m=\u001b[0m \u001b[0mGzipFile\u001b[0m\u001b[0;34m(\u001b[0m\u001b[0mfilename\u001b[0m\u001b[0;34m,\u001b[0m \u001b[0mgz_mode\u001b[0m\u001b[0;34m,\u001b[0m \u001b[0mcompresslevel\u001b[0m\u001b[0;34m)\u001b[0m\u001b[0;34m\u001b[0m\u001b[0;34m\u001b[0m\u001b[0m\n\u001b[0m\u001b[1;32m     59\u001b[0m     \u001b[0;32melif\u001b[0m \u001b[0mhasattr\u001b[0m\u001b[0;34m(\u001b[0m\u001b[0mfilename\u001b[0m\u001b[0;34m,\u001b[0m \u001b[0;34m\"read\"\u001b[0m\u001b[0;34m)\u001b[0m \u001b[0;32mor\u001b[0m \u001b[0mhasattr\u001b[0m\u001b[0;34m(\u001b[0m\u001b[0mfilename\u001b[0m\u001b[0;34m,\u001b[0m \u001b[0;34m\"write\"\u001b[0m\u001b[0;34m)\u001b[0m\u001b[0;34m:\u001b[0m\u001b[0;34m\u001b[0m\u001b[0;34m\u001b[0m\u001b[0m\n\u001b[1;32m     60\u001b[0m         \u001b[0mbinary_file\u001b[0m \u001b[0;34m=\u001b[0m \u001b[0mGzipFile\u001b[0m\u001b[0;34m(\u001b[0m\u001b[0;32mNone\u001b[0m\u001b[0;34m,\u001b[0m \u001b[0mgz_mode\u001b[0m\u001b[0;34m,\u001b[0m \u001b[0mcompresslevel\u001b[0m\u001b[0;34m,\u001b[0m \u001b[0mfilename\u001b[0m\u001b[0;34m)\u001b[0m\u001b[0;34m\u001b[0m\u001b[0;34m\u001b[0m\u001b[0m\n",
            "\u001b[0;32m/usr/lib/python3.10/gzip.py\u001b[0m in \u001b[0;36m__init__\u001b[0;34m(self, filename, mode, compresslevel, fileobj, mtime)\u001b[0m\n\u001b[1;32m    172\u001b[0m             \u001b[0mmode\u001b[0m \u001b[0;34m+=\u001b[0m \u001b[0;34m'b'\u001b[0m\u001b[0;34m\u001b[0m\u001b[0;34m\u001b[0m\u001b[0m\n\u001b[1;32m    173\u001b[0m         \u001b[0;32mif\u001b[0m \u001b[0mfileobj\u001b[0m \u001b[0;32mis\u001b[0m \u001b[0;32mNone\u001b[0m\u001b[0;34m:\u001b[0m\u001b[0;34m\u001b[0m\u001b[0;34m\u001b[0m\u001b[0m\n\u001b[0;32m--> 174\u001b[0;31m             \u001b[0mfileobj\u001b[0m \u001b[0;34m=\u001b[0m \u001b[0mself\u001b[0m\u001b[0;34m.\u001b[0m\u001b[0mmyfileobj\u001b[0m \u001b[0;34m=\u001b[0m \u001b[0mbuiltins\u001b[0m\u001b[0;34m.\u001b[0m\u001b[0mopen\u001b[0m\u001b[0;34m(\u001b[0m\u001b[0mfilename\u001b[0m\u001b[0;34m,\u001b[0m \u001b[0mmode\u001b[0m \u001b[0;32mor\u001b[0m \u001b[0;34m'rb'\u001b[0m\u001b[0;34m)\u001b[0m\u001b[0;34m\u001b[0m\u001b[0;34m\u001b[0m\u001b[0m\n\u001b[0m\u001b[1;32m    175\u001b[0m         \u001b[0;32mif\u001b[0m \u001b[0mfilename\u001b[0m \u001b[0;32mis\u001b[0m \u001b[0;32mNone\u001b[0m\u001b[0;34m:\u001b[0m\u001b[0;34m\u001b[0m\u001b[0;34m\u001b[0m\u001b[0m\n\u001b[1;32m    176\u001b[0m             \u001b[0mfilename\u001b[0m \u001b[0;34m=\u001b[0m \u001b[0mgetattr\u001b[0m\u001b[0;34m(\u001b[0m\u001b[0mfileobj\u001b[0m\u001b[0;34m,\u001b[0m \u001b[0;34m'name'\u001b[0m\u001b[0;34m,\u001b[0m \u001b[0;34m''\u001b[0m\u001b[0;34m)\u001b[0m\u001b[0;34m\u001b[0m\u001b[0;34m\u001b[0m\u001b[0m\n",
            "\u001b[0;31mFileNotFoundError\u001b[0m: [Errno 2] No such file or directory: 'fashion-mnist.pk.gz'"
          ]
        }
      ],
      "source": [
        "import gzip\n",
        "fp = gzip.open('fashion-mnist.pk.gz','rb')\n",
        "allXtrain, allYtrain, Xtest, Ytest, classlist  = pickle.load(fp) "
      ]
    },
    {
      "cell_type": "markdown",
      "metadata": {
        "id": "SBF4p5SoyoFO"
      },
      "source": [
        "**Important**: The dataset is split in two parts, the training set and the test set.\n",
        "For thorough study and evaluation of machine learning models, a good practice is to consider the data in 3 parts: \n",
        "- the **training** set to learn the model parameters;\n",
        "- the **validation** set to tune the hyper parameters and some design choices (the number and the size of the hidden layers, the dropout probability, ...);\n",
        "- the **test** set to evaluate the model at the end. \n",
        "\n",
        "\n",
        "For the moment, we leave the test set and focus on the training set. \n",
        "To spare time, we will only consider the first 20000 images for training in the following set of experiments. And we also build a validation set to compare the results we obtain with different hyper-parameters. \n",
        "\n",
        "\n"
      ]
    },
    {
      "cell_type": "code",
      "execution_count": null,
      "metadata": {
        "id": "2BQh4CY4yoFO",
        "outputId": "6cb4bda4-adb4-4a98-97c5-b936dbe0a4ea"
      },
      "outputs": [
        {
          "name": "stdout",
          "output_type": "stream",
          "text": [
            "Training   shape: torch.Size([20000, 784])\n",
            "Validation shape: torch.Size([10000, 784])\n"
          ]
        }
      ],
      "source": [
        "Xtrain, Ytrain  = allXtrain[:20000], allYtrain[:20000]\n",
        "Xvalid, Yvalid  = allXtrain[20000:30000], allYtrain[20000:30000]\n",
        "\n",
        "print(\"Training   shape:\" ,Xtrain.shape)\n",
        "print(\"Validation shape:\" ,Xvalid.shape)\n",
        "\n",
        "print(\"Training   shape:\" ,Ytrain.shape)\n",
        "print(\"Validation shape:\" ,Yvalid.shape)\n",
        "\n",
        "#Y takes values from 0 to 9(include)"
      ]
    },
    {
      "cell_type": "markdown",
      "metadata": {
        "id": "miO8WdbmyoFP"
      },
      "source": [
        "To better understand the dataset explore the training set made of Xtrain and Ytrain. \n",
        "- Look at the dimension and type of the tensors\n",
        "- Print also the classlist variable. \n",
        "- Then look at some example to check consistency. \n",
        "\n",
        "For that purpose you can plot an image like this: "
      ]
    },
    {
      "cell_type": "code",
      "execution_count": null,
      "metadata": {
        "id": "5fnfglvEyoFR"
      },
      "outputs": [],
      "source": [
        "\n",
        "def afficherObjEtiquette(i):\n",
        "    plt.imshow(Xtrain[i].numpy().reshape(28,28) , matplotlib.pyplot.cm.gray)\n",
        "    print(\"Ytrain[\"+ str(i) +\"] = \", Ytrain[i].numpy())\n",
        "    \n",
        "def distributionY(start = 0, stop = 20000):\n",
        "    plottingY = Ytrain[start : stop]\n",
        "    \n",
        "    plt.plot(plottingY.numpy())\n",
        "\n"
      ]
    },
    {
      "cell_type": "code",
      "execution_count": null,
      "metadata": {
        "id": "tS73aX_3yoFS",
        "outputId": "a7512473-414a-43ca-8ad1-e2a4532bddb0"
      },
      "outputs": [
        {
          "name": "stdout",
          "output_type": "stream",
          "text": [
            "Ytrain[6] =  7\n"
          ]
        },
        {
          "data": {
            "image/svg+xml": "<?xml version=\"1.0\" encoding=\"utf-8\" standalone=\"no\"?>\n<!DOCTYPE svg PUBLIC \"-//W3C//DTD SVG 1.1//EN\"\n  \"http://www.w3.org/Graphics/SVG/1.1/DTD/svg11.dtd\">\n<svg xmlns:xlink=\"http://www.w3.org/1999/xlink\" width=\"300.237pt\" height=\"297.190125pt\" viewBox=\"0 0 300.237 297.190125\" xmlns=\"http://www.w3.org/2000/svg\" version=\"1.1\">\n <metadata>\n  <rdf:RDF xmlns:dc=\"http://purl.org/dc/elements/1.1/\" xmlns:cc=\"http://creativecommons.org/ns#\" xmlns:rdf=\"http://www.w3.org/1999/02/22-rdf-syntax-ns#\">\n   <cc:Work>\n    <dc:type rdf:resource=\"http://purl.org/dc/dcmitype/StillImage\"/>\n    <dc:date>2023-03-31T13:54:12.121038</dc:date>\n    <dc:format>image/svg+xml</dc:format>\n    <dc:creator>\n     <cc:Agent>\n      <dc:title>Matplotlib v3.7.1, https://matplotlib.org/</dc:title>\n     </cc:Agent>\n    </dc:creator>\n   </cc:Work>\n  </rdf:RDF>\n </metadata>\n <defs>\n  <style type=\"text/css\">*{stroke-linejoin: round; stroke-linecap: butt}</style>\n </defs>\n <g id=\"figure_1\">\n  <g id=\"patch_1\">\n   <path d=\"M -0 297.190125 \nL 300.237 297.190125 \nL 300.237 0 \nL -0 0 \nz\n\" style=\"fill: #ffffff\"/>\n  </g>\n  <g id=\"axes_1\">\n   <g id=\"patch_2\">\n    <path d=\"M 26.925 273.312 \nL 293.037 273.312 \nL 293.037 7.2 \nL 26.925 7.2 \nz\n\" style=\"fill: #ffffff\"/>\n   </g>\n   <g clip-path=\"url(#p0b6f379f45)\">\n    <image xlink:href=\"data:image/png;base64,\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\" id=\"image7c5ba80cbb\" transform=\"scale(1 -1) translate(0 -266.4)\" x=\"26.925\" y=\"-6.912\" width=\"266.4\" height=\"266.4\"/>\n   </g>\n   <g id=\"matplotlib.axis_1\">\n    <g id=\"xtick_1\">\n     <g id=\"line2d_1\">\n      <defs>\n       <path id=\"mda7c80880c\" d=\"M 0 0 \nL 0 3.5 \n\" style=\"stroke: #000000; stroke-width: 0.8\"/>\n      </defs>\n      <g>\n       <use xlink:href=\"#mda7c80880c\" x=\"31.677\" y=\"273.312\" style=\"stroke: #000000; stroke-width: 0.8\"/>\n      </g>\n     </g>\n     <g id=\"text_1\">\n      <!-- 0 -->\n      <g transform=\"translate(28.49575 287.910437) scale(0.1 -0.1)\">\n       <defs>\n        <path id=\"DejaVuSans-30\" d=\"M 2034 4250 \nQ 1547 4250 1301 3770 \nQ 1056 3291 1056 2328 \nQ 1056 1369 1301 889 \nQ 1547 409 2034 409 \nQ 2525 409 2770 889 \nQ 3016 1369 3016 2328 \nQ 3016 3291 2770 3770 \nQ 2525 4250 2034 4250 \nz\nM 2034 4750 \nQ 2819 4750 3233 4129 \nQ 3647 3509 3647 2328 \nQ 3647 1150 3233 529 \nQ 2819 -91 2034 -91 \nQ 1250 -91 836 529 \nQ 422 1150 422 2328 \nQ 422 3509 836 4129 \nQ 1250 4750 2034 4750 \nz\n\" transform=\"scale(0.015625)\"/>\n       </defs>\n       <use xlink:href=\"#DejaVuSans-30\"/>\n      </g>\n     </g>\n    </g>\n    <g id=\"xtick_2\">\n     <g id=\"line2d_2\">\n      <g>\n       <use xlink:href=\"#mda7c80880c\" x=\"79.197\" y=\"273.312\" style=\"stroke: #000000; stroke-width: 0.8\"/>\n      </g>\n     </g>\n     <g id=\"text_2\">\n      <!-- 5 -->\n      <g transform=\"translate(76.01575 287.910437) scale(0.1 -0.1)\">\n       <defs>\n        <path id=\"DejaVuSans-35\" d=\"M 691 4666 \nL 3169 4666 \nL 3169 4134 \nL 1269 4134 \nL 1269 2991 \nQ 1406 3038 1543 3061 \nQ 1681 3084 1819 3084 \nQ 2600 3084 3056 2656 \nQ 3513 2228 3513 1497 \nQ 3513 744 3044 326 \nQ 2575 -91 1722 -91 \nQ 1428 -91 1123 -41 \nQ 819 9 494 109 \nL 494 744 \nQ 775 591 1075 516 \nQ 1375 441 1709 441 \nQ 2250 441 2565 725 \nQ 2881 1009 2881 1497 \nQ 2881 1984 2565 2268 \nQ 2250 2553 1709 2553 \nQ 1456 2553 1204 2497 \nQ 953 2441 691 2322 \nL 691 4666 \nz\n\" transform=\"scale(0.015625)\"/>\n       </defs>\n       <use xlink:href=\"#DejaVuSans-35\"/>\n      </g>\n     </g>\n    </g>\n    <g id=\"xtick_3\">\n     <g id=\"line2d_3\">\n      <g>\n       <use xlink:href=\"#mda7c80880c\" x=\"126.717\" y=\"273.312\" style=\"stroke: #000000; stroke-width: 0.8\"/>\n      </g>\n     </g>\n     <g id=\"text_3\">\n      <!-- 10 -->\n      <g transform=\"translate(120.3545 287.910437) scale(0.1 -0.1)\">\n       <defs>\n        <path id=\"DejaVuSans-31\" d=\"M 794 531 \nL 1825 531 \nL 1825 4091 \nL 703 3866 \nL 703 4441 \nL 1819 4666 \nL 2450 4666 \nL 2450 531 \nL 3481 531 \nL 3481 0 \nL 794 0 \nL 794 531 \nz\n\" transform=\"scale(0.015625)\"/>\n       </defs>\n       <use xlink:href=\"#DejaVuSans-31\"/>\n       <use xlink:href=\"#DejaVuSans-30\" x=\"63.623047\"/>\n      </g>\n     </g>\n    </g>\n    <g id=\"xtick_4\">\n     <g id=\"line2d_4\">\n      <g>\n       <use xlink:href=\"#mda7c80880c\" x=\"174.237\" y=\"273.312\" style=\"stroke: #000000; stroke-width: 0.8\"/>\n      </g>\n     </g>\n     <g id=\"text_4\">\n      <!-- 15 -->\n      <g transform=\"translate(167.8745 287.910437) scale(0.1 -0.1)\">\n       <use xlink:href=\"#DejaVuSans-31\"/>\n       <use xlink:href=\"#DejaVuSans-35\" x=\"63.623047\"/>\n      </g>\n     </g>\n    </g>\n    <g id=\"xtick_5\">\n     <g id=\"line2d_5\">\n      <g>\n       <use xlink:href=\"#mda7c80880c\" x=\"221.757\" y=\"273.312\" style=\"stroke: #000000; stroke-width: 0.8\"/>\n      </g>\n     </g>\n     <g id=\"text_5\">\n      <!-- 20 -->\n      <g transform=\"translate(215.3945 287.910437) scale(0.1 -0.1)\">\n       <defs>\n        <path id=\"DejaVuSans-32\" d=\"M 1228 531 \nL 3431 531 \nL 3431 0 \nL 469 0 \nL 469 531 \nQ 828 903 1448 1529 \nQ 2069 2156 2228 2338 \nQ 2531 2678 2651 2914 \nQ 2772 3150 2772 3378 \nQ 2772 3750 2511 3984 \nQ 2250 4219 1831 4219 \nQ 1534 4219 1204 4116 \nQ 875 4013 500 3803 \nL 500 4441 \nQ 881 4594 1212 4672 \nQ 1544 4750 1819 4750 \nQ 2544 4750 2975 4387 \nQ 3406 4025 3406 3419 \nQ 3406 3131 3298 2873 \nQ 3191 2616 2906 2266 \nQ 2828 2175 2409 1742 \nQ 1991 1309 1228 531 \nz\n\" transform=\"scale(0.015625)\"/>\n       </defs>\n       <use xlink:href=\"#DejaVuSans-32\"/>\n       <use xlink:href=\"#DejaVuSans-30\" x=\"63.623047\"/>\n      </g>\n     </g>\n    </g>\n    <g id=\"xtick_6\">\n     <g id=\"line2d_6\">\n      <g>\n       <use xlink:href=\"#mda7c80880c\" x=\"269.277\" y=\"273.312\" style=\"stroke: #000000; stroke-width: 0.8\"/>\n      </g>\n     </g>\n     <g id=\"text_6\">\n      <!-- 25 -->\n      <g transform=\"translate(262.9145 287.910437) scale(0.1 -0.1)\">\n       <use xlink:href=\"#DejaVuSans-32\"/>\n       <use xlink:href=\"#DejaVuSans-35\" x=\"63.623047\"/>\n      </g>\n     </g>\n    </g>\n   </g>\n   <g id=\"matplotlib.axis_2\">\n    <g id=\"ytick_1\">\n     <g id=\"line2d_7\">\n      <defs>\n       <path id=\"m7cb33491af\" d=\"M 0 0 \nL -3.5 0 \n\" style=\"stroke: #000000; stroke-width: 0.8\"/>\n      </defs>\n      <g>\n       <use xlink:href=\"#m7cb33491af\" x=\"26.925\" y=\"11.952\" style=\"stroke: #000000; stroke-width: 0.8\"/>\n      </g>\n     </g>\n     <g id=\"text_7\">\n      <!-- 0 -->\n      <g transform=\"translate(13.5625 15.751219) scale(0.1 -0.1)\">\n       <use xlink:href=\"#DejaVuSans-30\"/>\n      </g>\n     </g>\n    </g>\n    <g id=\"ytick_2\">\n     <g id=\"line2d_8\">\n      <g>\n       <use xlink:href=\"#m7cb33491af\" x=\"26.925\" y=\"59.472\" style=\"stroke: #000000; stroke-width: 0.8\"/>\n      </g>\n     </g>\n     <g id=\"text_8\">\n      <!-- 5 -->\n      <g transform=\"translate(13.5625 63.271219) scale(0.1 -0.1)\">\n       <use xlink:href=\"#DejaVuSans-35\"/>\n      </g>\n     </g>\n    </g>\n    <g id=\"ytick_3\">\n     <g id=\"line2d_9\">\n      <g>\n       <use xlink:href=\"#m7cb33491af\" x=\"26.925\" y=\"106.992\" style=\"stroke: #000000; stroke-width: 0.8\"/>\n      </g>\n     </g>\n     <g id=\"text_9\">\n      <!-- 10 -->\n      <g transform=\"translate(7.2 110.791219) scale(0.1 -0.1)\">\n       <use xlink:href=\"#DejaVuSans-31\"/>\n       <use xlink:href=\"#DejaVuSans-30\" x=\"63.623047\"/>\n      </g>\n     </g>\n    </g>\n    <g id=\"ytick_4\">\n     <g id=\"line2d_10\">\n      <g>\n       <use xlink:href=\"#m7cb33491af\" x=\"26.925\" y=\"154.512\" style=\"stroke: #000000; stroke-width: 0.8\"/>\n      </g>\n     </g>\n     <g id=\"text_10\">\n      <!-- 15 -->\n      <g transform=\"translate(7.2 158.311219) scale(0.1 -0.1)\">\n       <use xlink:href=\"#DejaVuSans-31\"/>\n       <use xlink:href=\"#DejaVuSans-35\" x=\"63.623047\"/>\n      </g>\n     </g>\n    </g>\n    <g id=\"ytick_5\">\n     <g id=\"line2d_11\">\n      <g>\n       <use xlink:href=\"#m7cb33491af\" x=\"26.925\" y=\"202.032\" style=\"stroke: #000000; stroke-width: 0.8\"/>\n      </g>\n     </g>\n     <g id=\"text_11\">\n      <!-- 20 -->\n      <g transform=\"translate(7.2 205.831219) scale(0.1 -0.1)\">\n       <use xlink:href=\"#DejaVuSans-32\"/>\n       <use xlink:href=\"#DejaVuSans-30\" x=\"63.623047\"/>\n      </g>\n     </g>\n    </g>\n    <g id=\"ytick_6\">\n     <g id=\"line2d_12\">\n      <g>\n       <use xlink:href=\"#m7cb33491af\" x=\"26.925\" y=\"249.552\" style=\"stroke: #000000; stroke-width: 0.8\"/>\n      </g>\n     </g>\n     <g id=\"text_12\">\n      <!-- 25 -->\n      <g transform=\"translate(7.2 253.351219) scale(0.1 -0.1)\">\n       <use xlink:href=\"#DejaVuSans-32\"/>\n       <use xlink:href=\"#DejaVuSans-35\" x=\"63.623047\"/>\n      </g>\n     </g>\n    </g>\n   </g>\n   <g id=\"patch_3\">\n    <path d=\"M 26.925 273.312 \nL 26.925 7.2 \n\" style=\"fill: none; stroke: #000000; stroke-width: 0.8; stroke-linejoin: miter; stroke-linecap: square\"/>\n   </g>\n   <g id=\"patch_4\">\n    <path d=\"M 293.037 273.312 \nL 293.037 7.2 \n\" style=\"fill: none; stroke: #000000; stroke-width: 0.8; stroke-linejoin: miter; stroke-linecap: square\"/>\n   </g>\n   <g id=\"patch_5\">\n    <path d=\"M 26.925 273.312 \nL 293.037 273.312 \n\" style=\"fill: none; stroke: #000000; stroke-width: 0.8; stroke-linejoin: miter; stroke-linecap: square\"/>\n   </g>\n   <g id=\"patch_6\">\n    <path d=\"M 26.925 7.2 \nL 293.037 7.2 \n\" style=\"fill: none; stroke: #000000; stroke-width: 0.8; stroke-linejoin: miter; stroke-linecap: square\"/>\n   </g>\n  </g>\n </g>\n <defs>\n  <clipPath id=\"p0b6f379f45\">\n   <rect x=\"26.925\" y=\"7.2\" width=\"266.112\" height=\"266.112\"/>\n  </clipPath>\n </defs>\n</svg>\n",
            "text/plain": [
              "<Figure size 640x480 with 1 Axes>"
            ]
          },
          "metadata": {},
          "output_type": "display_data"
        }
      ],
      "source": [
        "#distributionY(0, 10000)\n",
        "afficherObjEtiquette(6)"
      ]
    },
    {
      "cell_type": "markdown",
      "metadata": {
        "id": "qYlZJCZ1yoFT"
      },
      "source": [
        "As a first overview of the dataset, we can do a PCA (in 2D) of the training set. The following image represents the result: \n",
        "\n",
        "<img src=\"https://allauzen.github.io/assets/figs/pca-fashion-10-classes.png\" \n",
        "    style=\"width:400px; margin:0px auto;display:block\">\n",
        "\n"
      ]
    },
    {
      "cell_type": "markdown",
      "metadata": {
        "id": "It3XNGqCyoFU"
      },
      "source": [
        "# Feed forward neural network\n",
        "\n",
        "\n",
        "\n",
        "A feedforward model can rely on the pytorch module *Sequential*. \n",
        "A *Sequential* module is a container of ordered modules: the first one takes input data and its output is given to feed the second module, and so on. \n",
        "\n",
        "**Note: ** In pytorch, modules assumed Tensors as input. The input Tensor can contain just one input (online mode) or several inputs (mini-batch). The first dimension of the input Tensor corresponds to the mini-batch, and the second one to the dimension of the example to feed in. For example, with a mini-batch of size B and an image of D pixels, the input Tensor should be of shape (B,D), even if B=1 for one exemple. \n",
        "\n",
        "\n",
        "## Shallow network\n",
        "\n",
        "Let start with a simple model with one input layer and one output layer (without hidden layers). Please refer to the examples provided previously, and propose an implementation of this linear model using the *Sequential* module as container.  To write the model, we must consider the fact that the model is trained in order to maximize the Log-likelihood on the training data. If you look at  https://pytorch.org/docs/stable/nn.html, the documentation of the NNet package of pytorch, there is a section on the loss functions. \n",
        "\n",
        "Two of the proposed loss function can be used for our purpose. The choice of one of them implies the choice of the activation function at the output layer. \n",
        "\n",
        "- What are these two possible choices ? \n",
        "\n",
        "\n",
        "Make a choice and replace the \"None\" in the following cell:"
      ]
    },
    {
      "cell_type": "code",
      "execution_count": null,
      "metadata": {
        "id": "OLUZ81mHyoFU"
      },
      "outputs": [],
      "source": [
        "D_in = 784\n",
        "D_out= 10\n",
        "\n",
        "## TODO : replace \"None\"\n",
        "\n",
        "\n",
        "model =  nn.Sequential(\n",
        "    nn.Linear(D_in,D_out),\n",
        "    nn.LogSoftmax() #LogSoftmax adapted to NLLLoss\n",
        "    )  \n",
        "\n",
        "loss_function = nn.NLLLoss()\n"
      ]
    },
    {
      "cell_type": "code",
      "execution_count": null,
      "metadata": {
        "id": "OLPzMBusyoFV"
      },
      "outputs": [],
      "source": [
        "##note du tableau : \n",
        "\n",
        "\n",
        "# ce qu'on veut, un modèle qui permet :\n",
        "y^~  = softmax(W*x)\n",
        "\n",
        "#on calcule \n",
        "loss(y, y^~)\n",
        "\n",
        "w = w- lr*dl/dw #descente de gradient\n",
        "\n",
        "\n",
        "#en pytorch ce qu'on va faire :\n",
        "A = W*X\n",
        "y = Softmax(A)\n",
        "l = loss(y,y^~)\n",
        "\n",
        "#les tenseurs de pytorch ont en mémoire la manière de leur création\n",
        "#On créé un graph de calcul et donc on peut remonter ce graphe pour propager le gradient, \n",
        "# le calculer et effectuer la descente de gradient\n",
        "\n",
        "#exemple de modèle : \n",
        "modele=nn.Sequential(nn.Linear(D_in,D_out),nn.Sigmoid())  \n",
        "#on crée un modèle sequentiel monocouche\n",
        "#première couche Linear, avec ses dimensions d'entrée et de sortie\n",
        "#ensuite une foncntion softmax, ici sigmoid\n",
        "\n",
        "#optimizer"
      ]
    },
    {
      "cell_type": "markdown",
      "metadata": {
        "id": "5wm7yLcvyoFV"
      },
      "source": [
        "Then test the code on a minibatch of B examples. The code below corresponds to a prediction on a single image and then on 3 images. Look at the results, their shapes and values. Is it consistent with what you expect ? "
      ]
    },
    {
      "cell_type": "code",
      "execution_count": null,
      "metadata": {
        "id": "VM17ioPZyoFW",
        "outputId": "6d0fc9c1-de20-4037-df0f-81b63af4019d"
      },
      "outputs": [
        {
          "name": "stdout",
          "output_type": "stream",
          "text": [
            "tensor([[   0.0000, -264.6289, -101.8997, -225.5114, -114.7138, -131.5432,\n",
            "         -200.1093, -156.5332, -183.8911, -157.3939]],\n",
            "       grad_fn=<LogSoftmaxBackward0>)\n",
            "dim_pred :  torch.Size([1, 10])\n",
            "tensor([[   0.0000, -264.6289, -101.8997, -225.5114, -114.7138, -131.5432,\n",
            "         -200.1093, -156.5332, -183.8911, -157.3939],\n",
            "        [ -17.8012, -347.6303,    0.0000, -260.6024,  -97.4239, -133.4476,\n",
            "         -125.1684, -126.3950, -161.1967,  -56.4889],\n",
            "        [ -32.9810,  -90.9989,   -1.0307,  -82.0705,  -13.3751,  -50.2544,\n",
            "          -49.5226,  -55.1217,  -56.9710,   -0.4413]],\n",
            "       grad_fn=<LogSoftmaxBackward0>)\n"
          ]
        },
        {
          "name": "stderr",
          "output_type": "stream",
          "text": [
            "c:\\Users\\marti\\venv\\lib\\site-packages\\torch\\nn\\modules\\container.py:217: UserWarning: Implicit dimension choice for log_softmax has been deprecated. Change the call to include dim=X as an argument.\n",
            "  input = module(input)\n"
          ]
        }
      ],
      "source": [
        "B=1\n",
        "i = 0\n",
        "pred = model(Xtrain[i:i+B])\n",
        "# explore \n",
        "print(pred)\n",
        "dim_pred = pred.shape\n",
        "print(\"dim_pred : \", dim_pred )\n",
        "#la sortie est une logProbabilité de taille D_out, \n",
        "B=3\n",
        "i = 0\n",
        "pred = model(Xtrain[i:i+B])\n",
        "print(pred)"
      ]
    },
    {
      "cell_type": "markdown",
      "metadata": {
        "id": "yRg_8FRSyoFW"
      },
      "source": [
        "Do the same with the loss function. "
      ]
    },
    {
      "cell_type": "code",
      "execution_count": null,
      "metadata": {
        "id": "qpp1SChryoFW",
        "outputId": "9a41750a-e02f-4a7c-8424-e9214a95341c"
      },
      "outputs": [
        {
          "name": "stdout",
          "output_type": "stream",
          "text": [
            "tensor(17.8012, grad_fn=<NllLossBackward0>)\n",
            "tensor(64.5543, grad_fn=<NllLossBackward0>)\n"
          ]
        }
      ],
      "source": [
        "B=1\n",
        "i = 1\n",
        "pred = model(Xtrain[i:i+B])\n",
        "loss = loss_function(pred, Ytrain[i:i+B])\n",
        "print(loss)\n",
        "# explore \n",
        "B=3\n",
        "i = 1\n",
        "pred = model(Xtrain[i:i+B])\n",
        "loss = loss_function(pred, Ytrain[i:i+B]) #calcule le cout (écart à ce qu'on avait) et donne le gradient correspondant\n",
        "print(loss)"
      ]
    },
    {
      "cell_type": "markdown",
      "metadata": {
        "id": "RnCpjtL6yoFX"
      },
      "source": [
        "## Online learning  and mini-batch\n",
        "\n",
        "We will start by writing the code for training a model. The code should be as generic as possible to handle different kind of model. Afterwards, you will wrap your code in a function. \n",
        "\n",
        "We will use the Adam optimizer with an initial learning rate of 0.001.  \n",
        "\n",
        "The following cell contains examples of code that can be useful to train the model:  \n",
        "- Init. of the model and the optimizer.  \n",
        "- Ideas the iterate over the dataset in a random order\n",
        "- Mini-batch processing \n",
        "- Forward and backward pass"
      ]
    },
    {
      "cell_type": "code",
      "execution_count": null,
      "metadata": {
        "id": "ilGMfw8-yoFX",
        "outputId": "e225dd71-1338-46e2-9d87-30aa69c6ccb0"
      },
      "outputs": [
        {
          "name": "stdout",
          "output_type": "stream",
          "text": [
            "Ntrain,Nvalid 20000 10000\n",
            "batch_size, nbatch 200 100\n",
            "Loss function:  96.65274047851562\n",
            "Loss function:  57.345741271972656\n"
          ]
        }
      ],
      "source": [
        "### The model, the loss and optimizer\n",
        "model=nn.Sequential(nn.Linear(D_in,D_out),\n",
        "                    nn.LogSoftmax(dim=1))\n",
        "optimizer=th.optim.Adam(model.parameters(),lr=0.001)\n",
        "loss_fn=nn.NLLLoss()\n",
        "\n",
        "### Mini-batching and shuffle \n",
        "Ntrain = Xtrain.shape[0] \n",
        "Nvalid = Xvalid.shape[0]\n",
        "print(\"Ntrain,Nvalid\", Ntrain,Nvalid)\n",
        "idx = np.arange(Ntrain) # Generate the indices \n",
        "batch_size = 200\n",
        "nbatch = int(Ntrain/batch_size) # the number of batches\n",
        "print(\"batch_size, nbatch\", batch_size, nbatch)\n",
        "\n",
        "np.random.shuffle(idx) # random order of indices \n",
        "bi = 2 # a random choice\n",
        "ids = idx[bi*batch_size:(bi+1)*batch_size] # Get indices\n",
        "images = Xtrain[ids]  # Get the images\n",
        "labels = Ytrain[ids]  # The Labels\n",
        "optimizer.zero_grad()\n",
        "logprobs=model(images) # inference \n",
        "loss=loss_fn(logprobs,labels) # compute the loss\n",
        "print(\"Loss function: \",loss.item())     \n",
        "loss.backward() # Back propagation\n",
        "optimizer.step() # update the parameters\n",
        "# Note: just for illustration and checking, we can recompute \n",
        "# the loss on the same minibatch, but after the update. \n",
        "logprobs=model(images) # inference \n",
        "loss=loss_fn(logprobs,labels) # compute the loss\n",
        "print(\"Loss function: \",loss.item()) # better print ! \n"
      ]
    },
    {
      "cell_type": "markdown",
      "metadata": {
        "id": "QQUhUfanyoFY"
      },
      "source": [
        "Given the previous example, write the \"full\" training: \n",
        "- Init. of everything useful\n",
        "- The training loop, \n",
        "- ... \n",
        "\n",
        "Remember that we need the values of the loss function both on the train and on the validation set. "
      ]
    },
    {
      "cell_type": "code",
      "execution_count": null,
      "metadata": {
        "id": "_FMHGwOAyoFY",
        "outputId": "3bc63a41-fdfa-4eaa-a8a9-edd5f4f9757e"
      },
      "outputs": [
        {
          "name": "stdout",
          "output_type": "stream",
          "text": [
            "Ntrain,Nvalid 20000 10000\n",
            "batch_size, nbatch 200 100\n"
          ]
        },
        {
          "data": {
            "text/plain": [
              "[<matplotlib.lines.Line2D at 0x1b9c16480d0>]"
            ]
          },
          "execution_count": 61,
          "metadata": {},
          "output_type": "execute_result"
        },
        {
          "data": {
            "image/svg+xml": "<?xml version=\"1.0\" encoding=\"utf-8\" standalone=\"no\"?>\n<!DOCTYPE svg PUBLIC \"-//W3C//DTD SVG 1.1//EN\"\n  \"http://www.w3.org/Graphics/SVG/1.1/DTD/svg11.dtd\">\n<svg xmlns:xlink=\"http://www.w3.org/1999/xlink\" width=\"397.6075pt\" height=\"297.190125pt\" viewBox=\"0 0 397.6075 297.190125\" xmlns=\"http://www.w3.org/2000/svg\" version=\"1.1\">\n <metadata>\n  <rdf:RDF xmlns:dc=\"http://purl.org/dc/elements/1.1/\" xmlns:cc=\"http://creativecommons.org/ns#\" xmlns:rdf=\"http://www.w3.org/1999/02/22-rdf-syntax-ns#\">\n   <cc:Work>\n    <dc:type rdf:resource=\"http://purl.org/dc/dcmitype/StillImage\"/>\n    <dc:date>2023-03-31T16:07:15.394822</dc:date>\n    <dc:format>image/svg+xml</dc:format>\n    <dc:creator>\n     <cc:Agent>\n      <dc:title>Matplotlib v3.7.1, https://matplotlib.org/</dc:title>\n     </cc:Agent>\n    </dc:creator>\n   </cc:Work>\n  </rdf:RDF>\n </metadata>\n <defs>\n  <style type=\"text/css\">*{stroke-linejoin: round; stroke-linecap: butt}</style>\n </defs>\n <g id=\"figure_1\">\n  <g id=\"patch_1\">\n   <path d=\"M 0 297.190125 \nL 397.6075 297.190125 \nL 397.6075 0 \nL 0 0 \nz\n\" style=\"fill: #ffffff\"/>\n  </g>\n  <g id=\"axes_1\">\n   <g id=\"patch_2\">\n    <path d=\"M 33.2875 273.312 \nL 390.4075 273.312 \nL 390.4075 7.2 \nL 33.2875 7.2 \nz\n\" style=\"fill: #ffffff\"/>\n   </g>\n   <g id=\"matplotlib.axis_1\">\n    <g id=\"xtick_1\">\n     <g id=\"line2d_1\">\n      <defs>\n       <path id=\"ma9128fc463\" d=\"M 0 0 \nL 0 3.5 \n\" style=\"stroke: #000000; stroke-width: 0.8\"/>\n      </defs>\n      <g>\n       <use xlink:href=\"#ma9128fc463\" x=\"49.520227\" y=\"273.312\" style=\"stroke: #000000; stroke-width: 0.8\"/>\n      </g>\n     </g>\n     <g id=\"text_1\">\n      <!-- 0 -->\n      <g transform=\"translate(46.338977 287.910437) scale(0.1 -0.1)\">\n       <defs>\n        <path id=\"DejaVuSans-30\" d=\"M 2034 4250 \nQ 1547 4250 1301 3770 \nQ 1056 3291 1056 2328 \nQ 1056 1369 1301 889 \nQ 1547 409 2034 409 \nQ 2525 409 2770 889 \nQ 3016 1369 3016 2328 \nQ 3016 3291 2770 3770 \nQ 2525 4250 2034 4250 \nz\nM 2034 4750 \nQ 2819 4750 3233 4129 \nQ 3647 3509 3647 2328 \nQ 3647 1150 3233 529 \nQ 2819 -91 2034 -91 \nQ 1250 -91 836 529 \nQ 422 1150 422 2328 \nQ 422 3509 836 4129 \nQ 1250 4750 2034 4750 \nz\n\" transform=\"scale(0.015625)\"/>\n       </defs>\n       <use xlink:href=\"#DejaVuSans-30\"/>\n      </g>\n     </g>\n    </g>\n    <g id=\"xtick_2\">\n     <g id=\"line2d_2\">\n      <g>\n       <use xlink:href=\"#ma9128fc463\" x=\"93.098019\" y=\"273.312\" style=\"stroke: #000000; stroke-width: 0.8\"/>\n      </g>\n     </g>\n     <g id=\"text_2\">\n      <!-- 20 -->\n      <g transform=\"translate(86.735519 287.910437) scale(0.1 -0.1)\">\n       <defs>\n        <path id=\"DejaVuSans-32\" d=\"M 1228 531 \nL 3431 531 \nL 3431 0 \nL 469 0 \nL 469 531 \nQ 828 903 1448 1529 \nQ 2069 2156 2228 2338 \nQ 2531 2678 2651 2914 \nQ 2772 3150 2772 3378 \nQ 2772 3750 2511 3984 \nQ 2250 4219 1831 4219 \nQ 1534 4219 1204 4116 \nQ 875 4013 500 3803 \nL 500 4441 \nQ 881 4594 1212 4672 \nQ 1544 4750 1819 4750 \nQ 2544 4750 2975 4387 \nQ 3406 4025 3406 3419 \nQ 3406 3131 3298 2873 \nQ 3191 2616 2906 2266 \nQ 2828 2175 2409 1742 \nQ 1991 1309 1228 531 \nz\n\" transform=\"scale(0.015625)\"/>\n       </defs>\n       <use xlink:href=\"#DejaVuSans-32\"/>\n       <use xlink:href=\"#DejaVuSans-30\" x=\"63.623047\"/>\n      </g>\n     </g>\n    </g>\n    <g id=\"xtick_3\">\n     <g id=\"line2d_3\">\n      <g>\n       <use xlink:href=\"#ma9128fc463\" x=\"136.67581\" y=\"273.312\" style=\"stroke: #000000; stroke-width: 0.8\"/>\n      </g>\n     </g>\n     <g id=\"text_3\">\n      <!-- 40 -->\n      <g transform=\"translate(130.31331 287.910437) scale(0.1 -0.1)\">\n       <defs>\n        <path id=\"DejaVuSans-34\" d=\"M 2419 4116 \nL 825 1625 \nL 2419 1625 \nL 2419 4116 \nz\nM 2253 4666 \nL 3047 4666 \nL 3047 1625 \nL 3713 1625 \nL 3713 1100 \nL 3047 1100 \nL 3047 0 \nL 2419 0 \nL 2419 1100 \nL 313 1100 \nL 313 1709 \nL 2253 4666 \nz\n\" transform=\"scale(0.015625)\"/>\n       </defs>\n       <use xlink:href=\"#DejaVuSans-34\"/>\n       <use xlink:href=\"#DejaVuSans-30\" x=\"63.623047\"/>\n      </g>\n     </g>\n    </g>\n    <g id=\"xtick_4\">\n     <g id=\"line2d_4\">\n      <g>\n       <use xlink:href=\"#ma9128fc463\" x=\"180.253601\" y=\"273.312\" style=\"stroke: #000000; stroke-width: 0.8\"/>\n      </g>\n     </g>\n     <g id=\"text_4\">\n      <!-- 60 -->\n      <g transform=\"translate(173.891101 287.910437) scale(0.1 -0.1)\">\n       <defs>\n        <path id=\"DejaVuSans-36\" d=\"M 2113 2584 \nQ 1688 2584 1439 2293 \nQ 1191 2003 1191 1497 \nQ 1191 994 1439 701 \nQ 1688 409 2113 409 \nQ 2538 409 2786 701 \nQ 3034 994 3034 1497 \nQ 3034 2003 2786 2293 \nQ 2538 2584 2113 2584 \nz\nM 3366 4563 \nL 3366 3988 \nQ 3128 4100 2886 4159 \nQ 2644 4219 2406 4219 \nQ 1781 4219 1451 3797 \nQ 1122 3375 1075 2522 \nQ 1259 2794 1537 2939 \nQ 1816 3084 2150 3084 \nQ 2853 3084 3261 2657 \nQ 3669 2231 3669 1497 \nQ 3669 778 3244 343 \nQ 2819 -91 2113 -91 \nQ 1303 -91 875 529 \nQ 447 1150 447 2328 \nQ 447 3434 972 4092 \nQ 1497 4750 2381 4750 \nQ 2619 4750 2861 4703 \nQ 3103 4656 3366 4563 \nz\n\" transform=\"scale(0.015625)\"/>\n       </defs>\n       <use xlink:href=\"#DejaVuSans-36\"/>\n       <use xlink:href=\"#DejaVuSans-30\" x=\"63.623047\"/>\n      </g>\n     </g>\n    </g>\n    <g id=\"xtick_5\">\n     <g id=\"line2d_5\">\n      <g>\n       <use xlink:href=\"#ma9128fc463\" x=\"223.831393\" y=\"273.312\" style=\"stroke: #000000; stroke-width: 0.8\"/>\n      </g>\n     </g>\n     <g id=\"text_5\">\n      <!-- 80 -->\n      <g transform=\"translate(217.468893 287.910437) scale(0.1 -0.1)\">\n       <defs>\n        <path id=\"DejaVuSans-38\" d=\"M 2034 2216 \nQ 1584 2216 1326 1975 \nQ 1069 1734 1069 1313 \nQ 1069 891 1326 650 \nQ 1584 409 2034 409 \nQ 2484 409 2743 651 \nQ 3003 894 3003 1313 \nQ 3003 1734 2745 1975 \nQ 2488 2216 2034 2216 \nz\nM 1403 2484 \nQ 997 2584 770 2862 \nQ 544 3141 544 3541 \nQ 544 4100 942 4425 \nQ 1341 4750 2034 4750 \nQ 2731 4750 3128 4425 \nQ 3525 4100 3525 3541 \nQ 3525 3141 3298 2862 \nQ 3072 2584 2669 2484 \nQ 3125 2378 3379 2068 \nQ 3634 1759 3634 1313 \nQ 3634 634 3220 271 \nQ 2806 -91 2034 -91 \nQ 1263 -91 848 271 \nQ 434 634 434 1313 \nQ 434 1759 690 2068 \nQ 947 2378 1403 2484 \nz\nM 1172 3481 \nQ 1172 3119 1398 2916 \nQ 1625 2713 2034 2713 \nQ 2441 2713 2670 2916 \nQ 2900 3119 2900 3481 \nQ 2900 3844 2670 4047 \nQ 2441 4250 2034 4250 \nQ 1625 4250 1398 4047 \nQ 1172 3844 1172 3481 \nz\n\" transform=\"scale(0.015625)\"/>\n       </defs>\n       <use xlink:href=\"#DejaVuSans-38\"/>\n       <use xlink:href=\"#DejaVuSans-30\" x=\"63.623047\"/>\n      </g>\n     </g>\n    </g>\n    <g id=\"xtick_6\">\n     <g id=\"line2d_6\">\n      <g>\n       <use xlink:href=\"#ma9128fc463\" x=\"267.409184\" y=\"273.312\" style=\"stroke: #000000; stroke-width: 0.8\"/>\n      </g>\n     </g>\n     <g id=\"text_6\">\n      <!-- 100 -->\n      <g transform=\"translate(257.865434 287.910437) scale(0.1 -0.1)\">\n       <defs>\n        <path id=\"DejaVuSans-31\" d=\"M 794 531 \nL 1825 531 \nL 1825 4091 \nL 703 3866 \nL 703 4441 \nL 1819 4666 \nL 2450 4666 \nL 2450 531 \nL 3481 531 \nL 3481 0 \nL 794 0 \nL 794 531 \nz\n\" transform=\"scale(0.015625)\"/>\n       </defs>\n       <use xlink:href=\"#DejaVuSans-31\"/>\n       <use xlink:href=\"#DejaVuSans-30\" x=\"63.623047\"/>\n       <use xlink:href=\"#DejaVuSans-30\" x=\"127.246094\"/>\n      </g>\n     </g>\n    </g>\n    <g id=\"xtick_7\">\n     <g id=\"line2d_7\">\n      <g>\n       <use xlink:href=\"#ma9128fc463\" x=\"310.986975\" y=\"273.312\" style=\"stroke: #000000; stroke-width: 0.8\"/>\n      </g>\n     </g>\n     <g id=\"text_7\">\n      <!-- 120 -->\n      <g transform=\"translate(301.443225 287.910437) scale(0.1 -0.1)\">\n       <use xlink:href=\"#DejaVuSans-31\"/>\n       <use xlink:href=\"#DejaVuSans-32\" x=\"63.623047\"/>\n       <use xlink:href=\"#DejaVuSans-30\" x=\"127.246094\"/>\n      </g>\n     </g>\n    </g>\n    <g id=\"xtick_8\">\n     <g id=\"line2d_8\">\n      <g>\n       <use xlink:href=\"#ma9128fc463\" x=\"354.564767\" y=\"273.312\" style=\"stroke: #000000; stroke-width: 0.8\"/>\n      </g>\n     </g>\n     <g id=\"text_8\">\n      <!-- 140 -->\n      <g transform=\"translate(345.021017 287.910437) scale(0.1 -0.1)\">\n       <use xlink:href=\"#DejaVuSans-31\"/>\n       <use xlink:href=\"#DejaVuSans-34\" x=\"63.623047\"/>\n       <use xlink:href=\"#DejaVuSans-30\" x=\"127.246094\"/>\n      </g>\n     </g>\n    </g>\n   </g>\n   <g id=\"matplotlib.axis_2\">\n    <g id=\"ytick_1\">\n     <g id=\"line2d_9\">\n      <defs>\n       <path id=\"mc2acecd20d\" d=\"M 0 0 \nL -3.5 0 \n\" style=\"stroke: #000000; stroke-width: 0.8\"/>\n      </defs>\n      <g>\n       <use xlink:href=\"#mc2acecd20d\" x=\"33.2875\" y=\"261.217495\" style=\"stroke: #000000; stroke-width: 0.8\"/>\n      </g>\n     </g>\n     <g id=\"text_9\">\n      <!-- 0 -->\n      <g transform=\"translate(19.925 265.016713) scale(0.1 -0.1)\">\n       <use xlink:href=\"#DejaVuSans-30\"/>\n      </g>\n     </g>\n    </g>\n    <g id=\"ytick_2\">\n     <g id=\"line2d_10\">\n      <g>\n       <use xlink:href=\"#mc2acecd20d\" x=\"33.2875\" y=\"213.227054\" style=\"stroke: #000000; stroke-width: 0.8\"/>\n      </g>\n     </g>\n     <g id=\"text_10\">\n      <!-- 20 -->\n      <g transform=\"translate(13.5625 217.026273) scale(0.1 -0.1)\">\n       <use xlink:href=\"#DejaVuSans-32\"/>\n       <use xlink:href=\"#DejaVuSans-30\" x=\"63.623047\"/>\n      </g>\n     </g>\n    </g>\n    <g id=\"ytick_3\">\n     <g id=\"line2d_11\">\n      <g>\n       <use xlink:href=\"#mc2acecd20d\" x=\"33.2875\" y=\"165.236613\" style=\"stroke: #000000; stroke-width: 0.8\"/>\n      </g>\n     </g>\n     <g id=\"text_11\">\n      <!-- 40 -->\n      <g transform=\"translate(13.5625 169.035832) scale(0.1 -0.1)\">\n       <use xlink:href=\"#DejaVuSans-34\"/>\n       <use xlink:href=\"#DejaVuSans-30\" x=\"63.623047\"/>\n      </g>\n     </g>\n    </g>\n    <g id=\"ytick_4\">\n     <g id=\"line2d_12\">\n      <g>\n       <use xlink:href=\"#mc2acecd20d\" x=\"33.2875\" y=\"117.246173\" style=\"stroke: #000000; stroke-width: 0.8\"/>\n      </g>\n     </g>\n     <g id=\"text_12\">\n      <!-- 60 -->\n      <g transform=\"translate(13.5625 121.045392) scale(0.1 -0.1)\">\n       <use xlink:href=\"#DejaVuSans-36\"/>\n       <use xlink:href=\"#DejaVuSans-30\" x=\"63.623047\"/>\n      </g>\n     </g>\n    </g>\n    <g id=\"ytick_5\">\n     <g id=\"line2d_13\">\n      <g>\n       <use xlink:href=\"#mc2acecd20d\" x=\"33.2875\" y=\"69.255732\" style=\"stroke: #000000; stroke-width: 0.8\"/>\n      </g>\n     </g>\n     <g id=\"text_13\">\n      <!-- 80 -->\n      <g transform=\"translate(13.5625 73.054951) scale(0.1 -0.1)\">\n       <use xlink:href=\"#DejaVuSans-38\"/>\n       <use xlink:href=\"#DejaVuSans-30\" x=\"63.623047\"/>\n      </g>\n     </g>\n    </g>\n    <g id=\"ytick_6\">\n     <g id=\"line2d_14\">\n      <g>\n       <use xlink:href=\"#mc2acecd20d\" x=\"33.2875\" y=\"21.265292\" style=\"stroke: #000000; stroke-width: 0.8\"/>\n      </g>\n     </g>\n     <g id=\"text_14\">\n      <!-- 100 -->\n      <g transform=\"translate(7.2 25.06451) scale(0.1 -0.1)\">\n       <use xlink:href=\"#DejaVuSans-31\"/>\n       <use xlink:href=\"#DejaVuSans-30\" x=\"63.623047\"/>\n       <use xlink:href=\"#DejaVuSans-30\" x=\"127.246094\"/>\n      </g>\n     </g>\n    </g>\n   </g>\n   <g id=\"line2d_15\">\n    <path d=\"M 49.520227 19.296 \nL 51.699117 105.286714 \nL 53.878006 139.010047 \nL 56.056896 152.98732 \nL 58.235786 158.319168 \nL 60.414675 165.478091 \nL 62.593565 173.563836 \nL 66.951344 196.820575 \nL 69.130233 205.703989 \nL 71.309123 211.091252 \nL 73.488013 215.407447 \nL 77.845792 224.631321 \nL 80.024681 230.526283 \nL 82.203571 233.619829 \nL 84.38246 234.151635 \nL 86.56135 234.028885 \nL 88.740239 235.137558 \nL 93.098019 239.771849 \nL 95.276908 241.165574 \nL 97.455798 242.343971 \nL 99.634687 243.872636 \nL 101.813577 245.05745 \nL 106.171356 246.647361 \nL 108.350246 247.321568 \nL 110.529135 247.811787 \nL 114.886914 248.971237 \nL 117.065804 249.460078 \nL 119.244693 250.228575 \nL 123.602473 252.151702 \nL 125.781362 252.770796 \nL 127.960252 252.934992 \nL 130.139141 253.225354 \nL 136.67581 254.994789 \nL 141.033589 255.522467 \nL 145.391368 255.934965 \nL 147.570258 256.262582 \nL 154.106926 257.575086 \nL 160.643595 258.161172 \nL 167.180264 258.95428 \nL 188.96916 260.188354 \nL 223.831393 261.033921 \nL 310.986975 261.215209 \nL 374.174773 261.216 \nL 374.174773 261.216 \n\" clip-path=\"url(#pd59afc23e5)\" style=\"fill: none; stroke: #1f77b4; stroke-width: 1.5; stroke-linecap: square\"/>\n   </g>\n   <g id=\"patch_3\">\n    <path d=\"M 33.2875 273.312 \nL 33.2875 7.2 \n\" style=\"fill: none; stroke: #000000; stroke-width: 0.8; stroke-linejoin: miter; stroke-linecap: square\"/>\n   </g>\n   <g id=\"patch_4\">\n    <path d=\"M 390.4075 273.312 \nL 390.4075 7.2 \n\" style=\"fill: none; stroke: #000000; stroke-width: 0.8; stroke-linejoin: miter; stroke-linecap: square\"/>\n   </g>\n   <g id=\"patch_5\">\n    <path d=\"M 33.2875 273.312 \nL 390.4075 273.312 \n\" style=\"fill: none; stroke: #000000; stroke-width: 0.8; stroke-linejoin: miter; stroke-linecap: square\"/>\n   </g>\n   <g id=\"patch_6\">\n    <path d=\"M 33.2875 7.2 \nL 390.4075 7.2 \n\" style=\"fill: none; stroke: #000000; stroke-width: 0.8; stroke-linejoin: miter; stroke-linecap: square\"/>\n   </g>\n  </g>\n </g>\n <defs>\n  <clipPath id=\"pd59afc23e5\">\n   <rect x=\"33.2875\" y=\"7.2\" width=\"357.12\" height=\"266.112\"/>\n  </clipPath>\n </defs>\n</svg>\n",
            "text/plain": [
              "<Figure size 640x480 with 1 Axes>"
            ]
          },
          "metadata": {},
          "output_type": "display_data"
        }
      ],
      "source": [
        "Nepochs= 150\n",
        "\n",
        "### The model, the loss and optimizer\n",
        "model=nn.Sequential(nn.Linear(D_in,D_out),\n",
        "                    nn.LogSoftmax(dim=1))\n",
        "optimizer=th.optim.Adam(model.parameters(),lr=5e-4)\n",
        "loss_fn=nn.NLLLoss()\n",
        "## TODO:\n",
        "\n",
        "### Mini-batching and shuffle \n",
        "Ntrain = Xtrain.shape[0] \n",
        "Nvalid = Xvalid.shape[0]\n",
        "print(\"Ntrain,Nvalid\", Ntrain,Nvalid)\n",
        "idx = np.arange(Ntrain) # Generate the indices \n",
        "batch_size = 200\n",
        "nbatch = int(Ntrain/batch_size) # the number of batches\n",
        "print(\"batch_size, nbatch\", batch_size, nbatch)\n",
        "\n",
        "np.random.shuffle(idx) # random order of indices \n",
        "bi = 2 # a random choice\n",
        "ids = idx[bi*batch_size:(bi+1)*batch_size] # Get indices\n",
        "images = Xtrain[ids]  # Get the images\n",
        "labels = Ytrain[ids]  # The Labels\n",
        "\n",
        "'''\n",
        "optimizer.zero_grad()\n",
        "logprobs=model(images) # inference \n",
        "loss=loss_fn(logprobs,labels) # compute the loss\n",
        "print(\"Loss function: \",loss.item())     \n",
        "loss.backward() # Back propagation\n",
        "optimizer.step() # update the parameters\n",
        "# Note: just for illustration and checking, we can recompute \n",
        "# the loss on the same minibatch, but after the update. \n",
        "logprobs=model(images) # inference \n",
        "loss=loss_fn(logprobs,labels) # compute the loss\n",
        "print(\"Loss function: \",loss.item()) # better print ! \n",
        "'''\n",
        "\n",
        "\n",
        "\n",
        "def verif(Ylogprobs,Yverif, eps =0.001):#inutile, mieux implémenté directement\n",
        "    \"\"\"\n",
        "    Args:\n",
        "        Ylogprobs (tensor size 1, 10): return by the model\n",
        "        Yverif (int value): etiquette de vérification\n",
        "        eps (float): comparaison\n",
        "    return : True if bon résultat\n",
        "    False sinon\n",
        "    \"\"\"\n",
        "    if math.exp(Ylogprobs[Yverif]) > (1-eps):\n",
        "        return True\n",
        "    else :\n",
        "        return False\n",
        "\n",
        "\n",
        "def hardverif(Ylogprobs,Yverif, eps =0.001):\n",
        "    \"\"\"\n",
        "    Args:\n",
        "        Ylogprobs (tensor size 1, 10): return by the model\n",
        "        Yverif (int value): etiquette de vérification\n",
        "        eps (float): comparaison\n",
        "    return : True if bon résultat\n",
        "    False sinon\n",
        "    \"\"\"\n",
        "\n",
        "train_losses = np.zeros(Nepochs)\n",
        "valid_losses = np.zeros(Nepochs)\n",
        "valid_accuracies = np.zeros(Nepochs)\n",
        "\n",
        "for e in range(nbatch)\n",
        "    #j'ai rien compris aux batch\n",
        "    for i in range(Nepochs):\n",
        "        optimizer.zero_grad()\n",
        "        logprobs=model(images) # inference \n",
        "        loss=loss_fn(logprobs,labels) # compute the loss\n",
        "        train_losses[i] = loss.item()\n",
        "        \n",
        "        logprobsValid=model(Xvalid) #test on valid part\n",
        "        valid_losses[i]=loss_fn(logprobsValid,Yvalid).item()\n",
        "        \n",
        "        acc = (th.argmax(logprobsValid,1)==Yvalid).sum()*100/Ntrain\n",
        "        valid_accuracies[i] = acc\n",
        "        #print(\"Loss function: \",loss.item()) \n",
        "        loss.backward() # Back propagation\n",
        "        optimizer.step() # update the parameters\n",
        "        \n",
        "        \n",
        "    \n",
        "plt.plot(train_losses)\n"
      ]
    },
    {
      "cell_type": "markdown",
      "metadata": {
        "id": "i1nn08YJyoFZ"
      },
      "source": [
        "Run the training loop with a batch size of 1 and then of size 200. The difference in terms of computation time should be significant ! We will now only use a batch size of 200. \n",
        "\n",
        "Note that in practice, the learning rate should be adapted to the mini-batch size. \n",
        "\n",
        "Run the previous training code with a batch size of 200 for 30 epochs. We can plot at the results like this\n"
      ]
    },
    {
      "cell_type": "code",
      "execution_count": null,
      "metadata": {
        "id": "IYhSIVRQyoFZ",
        "outputId": "9c6b195b-4154-47a3-e1bb-d55f9f4c3f34"
      },
      "outputs": [
        {
          "data": {
            "text/plain": [
              "(0.0, 32.103750872612)"
            ]
          },
          "execution_count": 62,
          "metadata": {},
          "output_type": "execute_result"
        },
        {
          "data": {
            "image/svg+xml": "<?xml version=\"1.0\" encoding=\"utf-8\" standalone=\"no\"?>\n<!DOCTYPE svg PUBLIC \"-//W3C//DTD SVG 1.1//EN\"\n  \"http://www.w3.org/Graphics/SVG/1.1/DTD/svg11.dtd\">\n<svg xmlns:xlink=\"http://www.w3.org/1999/xlink\" width=\"546.418541pt\" height=\"114.238125pt\" viewBox=\"0 0 546.418541 114.238125\" xmlns=\"http://www.w3.org/2000/svg\" version=\"1.1\">\n <metadata>\n  <rdf:RDF xmlns:dc=\"http://purl.org/dc/elements/1.1/\" xmlns:cc=\"http://creativecommons.org/ns#\" xmlns:rdf=\"http://www.w3.org/1999/02/22-rdf-syntax-ns#\">\n   <cc:Work>\n    <dc:type rdf:resource=\"http://purl.org/dc/dcmitype/StillImage\"/>\n    <dc:date>2023-03-31T16:07:22.334511</dc:date>\n    <dc:format>image/svg+xml</dc:format>\n    <dc:creator>\n     <cc:Agent>\n      <dc:title>Matplotlib v3.7.1, https://matplotlib.org/</dc:title>\n     </cc:Agent>\n    </dc:creator>\n   </cc:Work>\n  </rdf:RDF>\n </metadata>\n <defs>\n  <style type=\"text/css\">*{stroke-linejoin: round; stroke-linecap: butt}</style>\n </defs>\n <g id=\"figure_1\">\n  <g id=\"patch_1\">\n   <path d=\"M 0 114.238125 \nL 546.418541 114.238125 \nL 546.418541 -0 \nL 0 -0 \nz\n\" style=\"fill: #ffffff\"/>\n  </g>\n  <g id=\"axes_1\">\n   <g id=\"patch_2\">\n    <path d=\"M 33.2875 90.36 \nL 180.993382 90.36 \nL 180.993382 7.2 \nL 33.2875 7.2 \nz\n\" style=\"fill: #ffffff\"/>\n   </g>\n   <g id=\"matplotlib.axis_1\">\n    <g id=\"xtick_1\">\n     <g id=\"line2d_1\">\n      <defs>\n       <path id=\"m41fe329727\" d=\"M 0 0 \nL 0 3.5 \n\" style=\"stroke: #000000; stroke-width: 0.8\"/>\n      </defs>\n      <g>\n       <use xlink:href=\"#m41fe329727\" x=\"40.001404\" y=\"90.36\" style=\"stroke: #000000; stroke-width: 0.8\"/>\n      </g>\n     </g>\n     <g id=\"text_1\">\n      <!-- 0 -->\n      <g transform=\"translate(36.820154 104.958438) scale(0.1 -0.1)\">\n       <defs>\n        <path id=\"DejaVuSans-30\" d=\"M 2034 4250 \nQ 1547 4250 1301 3770 \nQ 1056 3291 1056 2328 \nQ 1056 1369 1301 889 \nQ 1547 409 2034 409 \nQ 2525 409 2770 889 \nQ 3016 1369 3016 2328 \nQ 3016 3291 2770 3770 \nQ 2525 4250 2034 4250 \nz\nM 2034 4750 \nQ 2819 4750 3233 4129 \nQ 3647 3509 3647 2328 \nQ 3647 1150 3233 529 \nQ 2819 -91 2034 -91 \nQ 1250 -91 836 529 \nQ 422 1150 422 2328 \nQ 422 3509 836 4129 \nQ 1250 4750 2034 4750 \nz\n\" transform=\"scale(0.015625)\"/>\n       </defs>\n       <use xlink:href=\"#DejaVuSans-30\"/>\n      </g>\n     </g>\n    </g>\n    <g id=\"xtick_2\">\n     <g id=\"line2d_2\">\n      <g>\n       <use xlink:href=\"#m41fe329727\" x=\"85.06116\" y=\"90.36\" style=\"stroke: #000000; stroke-width: 0.8\"/>\n      </g>\n     </g>\n     <g id=\"text_2\">\n      <!-- 50 -->\n      <g transform=\"translate(78.69866 104.958438) scale(0.1 -0.1)\">\n       <defs>\n        <path id=\"DejaVuSans-35\" d=\"M 691 4666 \nL 3169 4666 \nL 3169 4134 \nL 1269 4134 \nL 1269 2991 \nQ 1406 3038 1543 3061 \nQ 1681 3084 1819 3084 \nQ 2600 3084 3056 2656 \nQ 3513 2228 3513 1497 \nQ 3513 744 3044 326 \nQ 2575 -91 1722 -91 \nQ 1428 -91 1123 -41 \nQ 819 9 494 109 \nL 494 744 \nQ 775 591 1075 516 \nQ 1375 441 1709 441 \nQ 2250 441 2565 725 \nQ 2881 1009 2881 1497 \nQ 2881 1984 2565 2268 \nQ 2250 2553 1709 2553 \nQ 1456 2553 1204 2497 \nQ 953 2441 691 2322 \nL 691 4666 \nz\n\" transform=\"scale(0.015625)\"/>\n       </defs>\n       <use xlink:href=\"#DejaVuSans-35\"/>\n       <use xlink:href=\"#DejaVuSans-30\" x=\"63.623047\"/>\n      </g>\n     </g>\n    </g>\n    <g id=\"xtick_3\">\n     <g id=\"line2d_3\">\n      <g>\n       <use xlink:href=\"#m41fe329727\" x=\"130.120917\" y=\"90.36\" style=\"stroke: #000000; stroke-width: 0.8\"/>\n      </g>\n     </g>\n     <g id=\"text_3\">\n      <!-- 100 -->\n      <g transform=\"translate(120.577167 104.958438) scale(0.1 -0.1)\">\n       <defs>\n        <path id=\"DejaVuSans-31\" d=\"M 794 531 \nL 1825 531 \nL 1825 4091 \nL 703 3866 \nL 703 4441 \nL 1819 4666 \nL 2450 4666 \nL 2450 531 \nL 3481 531 \nL 3481 0 \nL 794 0 \nL 794 531 \nz\n\" transform=\"scale(0.015625)\"/>\n       </defs>\n       <use xlink:href=\"#DejaVuSans-31\"/>\n       <use xlink:href=\"#DejaVuSans-30\" x=\"63.623047\"/>\n       <use xlink:href=\"#DejaVuSans-30\" x=\"127.246094\"/>\n      </g>\n     </g>\n    </g>\n    <g id=\"xtick_4\">\n     <g id=\"line2d_4\">\n      <g>\n       <use xlink:href=\"#m41fe329727\" x=\"175.180674\" y=\"90.36\" style=\"stroke: #000000; stroke-width: 0.8\"/>\n      </g>\n     </g>\n     <g id=\"text_4\">\n      <!-- 150 -->\n      <g transform=\"translate(165.636924 104.958438) scale(0.1 -0.1)\">\n       <use xlink:href=\"#DejaVuSans-31\"/>\n       <use xlink:href=\"#DejaVuSans-35\" x=\"63.623047\"/>\n       <use xlink:href=\"#DejaVuSans-30\" x=\"127.246094\"/>\n      </g>\n     </g>\n    </g>\n   </g>\n   <g id=\"matplotlib.axis_2\">\n    <g id=\"ytick_1\">\n     <g id=\"line2d_5\">\n      <defs>\n       <path id=\"mf4f52882ca\" d=\"M 0 0 \nL -3.5 0 \n\" style=\"stroke: #000000; stroke-width: 0.8\"/>\n      </defs>\n      <g>\n       <use xlink:href=\"#mf4f52882ca\" x=\"33.2875\" y=\"90.36\" style=\"stroke: #000000; stroke-width: 0.8\"/>\n      </g>\n     </g>\n     <g id=\"text_5\">\n      <!-- 0 -->\n      <g transform=\"translate(19.925 94.159219) scale(0.1 -0.1)\">\n       <use xlink:href=\"#DejaVuSans-30\"/>\n      </g>\n     </g>\n    </g>\n    <g id=\"ytick_2\">\n     <g id=\"line2d_6\">\n      <g>\n       <use xlink:href=\"#mf4f52882ca\" x=\"33.2875\" y=\"51.082341\" style=\"stroke: #000000; stroke-width: 0.8\"/>\n      </g>\n     </g>\n     <g id=\"text_6\">\n      <!-- 50 -->\n      <g transform=\"translate(13.5625 54.881559) scale(0.1 -0.1)\">\n       <use xlink:href=\"#DejaVuSans-35\"/>\n       <use xlink:href=\"#DejaVuSans-30\" x=\"63.623047\"/>\n      </g>\n     </g>\n    </g>\n    <g id=\"ytick_3\">\n     <g id=\"line2d_7\">\n      <g>\n       <use xlink:href=\"#mf4f52882ca\" x=\"33.2875\" y=\"11.804681\" style=\"stroke: #000000; stroke-width: 0.8\"/>\n      </g>\n     </g>\n     <g id=\"text_7\">\n      <!-- 100 -->\n      <g transform=\"translate(7.2 15.6039) scale(0.1 -0.1)\">\n       <use xlink:href=\"#DejaVuSans-31\"/>\n       <use xlink:href=\"#DejaVuSans-30\" x=\"63.623047\"/>\n       <use xlink:href=\"#DejaVuSans-30\" x=\"127.246094\"/>\n      </g>\n     </g>\n    </g>\n   </g>\n   <g id=\"line2d_8\">\n    <path d=\"M 40.001404 11.159977 \nL 40.902599 39.311533 \nL 41.803794 50.351845 \nL 42.704989 54.927711 \nL 43.606184 56.673246 \nL 45.408575 61.664031 \nL 47.210965 69.277799 \nL 48.11216 72.186043 \nL 49.013355 73.94972 \nL 51.71694 78.382454 \nL 52.618136 80.312341 \nL 53.519331 81.325103 \nL 54.420526 81.499205 \nL 55.321721 81.459019 \nL 56.222916 81.821976 \nL 58.025306 83.339145 \nL 61.630087 85.06954 \nL 64.333672 85.810765 \nL 67.938453 86.510868 \nL 69.740843 87.085945 \nL 71.543233 87.594728 \nL 73.345624 87.743541 \nL 76.049209 88.322817 \nL 82.357575 89.050881 \nL 84.159965 89.226019 \nL 87.764746 89.548057 \nL 92.270721 89.808484 \nL 97.677892 90.023081 \nL 116.60299 90.318975 \nL 159.860356 90.359417 \nL 174.279479 90.359511 \nL 174.279479 90.359511 \n\" clip-path=\"url(#paeb1f4c90c)\" style=\"fill: none; stroke: #1f77b4; stroke-width: 1.5; stroke-linecap: square\"/>\n   </g>\n   <g id=\"patch_3\">\n    <path d=\"M 33.2875 90.36 \nL 33.2875 7.2 \n\" style=\"fill: none; stroke: #000000; stroke-width: 0.8; stroke-linejoin: miter; stroke-linecap: square\"/>\n   </g>\n   <g id=\"patch_4\">\n    <path d=\"M 180.993382 90.36 \nL 180.993382 7.2 \n\" style=\"fill: none; stroke: #000000; stroke-width: 0.8; stroke-linejoin: miter; stroke-linecap: square\"/>\n   </g>\n   <g id=\"patch_5\">\n    <path d=\"M 33.2875 90.36 \nL 180.993382 90.36 \n\" style=\"fill: none; stroke: #000000; stroke-width: 0.8; stroke-linejoin: miter; stroke-linecap: square\"/>\n   </g>\n   <g id=\"patch_6\">\n    <path d=\"M 33.2875 7.2 \nL 180.993382 7.2 \n\" style=\"fill: none; stroke: #000000; stroke-width: 0.8; stroke-linejoin: miter; stroke-linecap: square\"/>\n   </g>\n  </g>\n  <g id=\"axes_2\">\n   <g id=\"patch_7\">\n    <path d=\"M 210.534559 90.36 \nL 358.240441 90.36 \nL 358.240441 7.2 \nL 210.534559 7.2 \nz\n\" style=\"fill: #ffffff\"/>\n   </g>\n   <g id=\"matplotlib.axis_3\">\n    <g id=\"xtick_5\">\n     <g id=\"line2d_9\">\n      <g>\n       <use xlink:href=\"#m41fe329727\" x=\"217.248463\" y=\"90.36\" style=\"stroke: #000000; stroke-width: 0.8\"/>\n      </g>\n     </g>\n     <g id=\"text_8\">\n      <!-- 0 -->\n      <g transform=\"translate(214.067213 104.958438) scale(0.1 -0.1)\">\n       <use xlink:href=\"#DejaVuSans-30\"/>\n      </g>\n     </g>\n    </g>\n    <g id=\"xtick_6\">\n     <g id=\"line2d_10\">\n      <g>\n       <use xlink:href=\"#m41fe329727\" x=\"262.308219\" y=\"90.36\" style=\"stroke: #000000; stroke-width: 0.8\"/>\n      </g>\n     </g>\n     <g id=\"text_9\">\n      <!-- 50 -->\n      <g transform=\"translate(255.945719 104.958438) scale(0.1 -0.1)\">\n       <use xlink:href=\"#DejaVuSans-35\"/>\n       <use xlink:href=\"#DejaVuSans-30\" x=\"63.623047\"/>\n      </g>\n     </g>\n    </g>\n    <g id=\"xtick_7\">\n     <g id=\"line2d_11\">\n      <g>\n       <use xlink:href=\"#m41fe329727\" x=\"307.367976\" y=\"90.36\" style=\"stroke: #000000; stroke-width: 0.8\"/>\n      </g>\n     </g>\n     <g id=\"text_10\">\n      <!-- 100 -->\n      <g transform=\"translate(297.824226 104.958438) scale(0.1 -0.1)\">\n       <use xlink:href=\"#DejaVuSans-31\"/>\n       <use xlink:href=\"#DejaVuSans-30\" x=\"63.623047\"/>\n       <use xlink:href=\"#DejaVuSans-30\" x=\"127.246094\"/>\n      </g>\n     </g>\n    </g>\n    <g id=\"xtick_8\">\n     <g id=\"line2d_12\">\n      <g>\n       <use xlink:href=\"#m41fe329727\" x=\"352.427733\" y=\"90.36\" style=\"stroke: #000000; stroke-width: 0.8\"/>\n      </g>\n     </g>\n     <g id=\"text_11\">\n      <!-- 150 -->\n      <g transform=\"translate(342.883983 104.958438) scale(0.1 -0.1)\">\n       <use xlink:href=\"#DejaVuSans-31\"/>\n       <use xlink:href=\"#DejaVuSans-35\" x=\"63.623047\"/>\n       <use xlink:href=\"#DejaVuSans-30\" x=\"127.246094\"/>\n      </g>\n     </g>\n    </g>\n   </g>\n   <g id=\"matplotlib.axis_4\">\n    <g id=\"ytick_4\">\n     <g id=\"line2d_13\">\n      <g>\n       <use xlink:href=\"#mf4f52882ca\" x=\"210.534559\" y=\"90.36\" style=\"stroke: #000000; stroke-width: 0.8\"/>\n      </g>\n     </g>\n     <g id=\"text_12\">\n      <!-- 0 -->\n      <g transform=\"translate(197.172059 94.159219) scale(0.1 -0.1)\">\n       <use xlink:href=\"#DejaVuSans-30\"/>\n      </g>\n     </g>\n    </g>\n    <g id=\"ytick_5\">\n     <g id=\"line2d_14\">\n      <g>\n       <use xlink:href=\"#mf4f52882ca\" x=\"210.534559\" y=\"69.566715\" style=\"stroke: #000000; stroke-width: 0.8\"/>\n      </g>\n     </g>\n     <g id=\"text_13\">\n      <!-- 25 -->\n      <g transform=\"translate(190.809559 73.365934) scale(0.1 -0.1)\">\n       <defs>\n        <path id=\"DejaVuSans-32\" d=\"M 1228 531 \nL 3431 531 \nL 3431 0 \nL 469 0 \nL 469 531 \nQ 828 903 1448 1529 \nQ 2069 2156 2228 2338 \nQ 2531 2678 2651 2914 \nQ 2772 3150 2772 3378 \nQ 2772 3750 2511 3984 \nQ 2250 4219 1831 4219 \nQ 1534 4219 1204 4116 \nQ 875 4013 500 3803 \nL 500 4441 \nQ 881 4594 1212 4672 \nQ 1544 4750 1819 4750 \nQ 2544 4750 2975 4387 \nQ 3406 4025 3406 3419 \nQ 3406 3131 3298 2873 \nQ 3191 2616 2906 2266 \nQ 2828 2175 2409 1742 \nQ 1991 1309 1228 531 \nz\n\" transform=\"scale(0.015625)\"/>\n       </defs>\n       <use xlink:href=\"#DejaVuSans-32\"/>\n       <use xlink:href=\"#DejaVuSans-35\" x=\"63.623047\"/>\n      </g>\n     </g>\n    </g>\n    <g id=\"ytick_6\">\n     <g id=\"line2d_15\">\n      <g>\n       <use xlink:href=\"#mf4f52882ca\" x=\"210.534559\" y=\"48.773431\" style=\"stroke: #000000; stroke-width: 0.8\"/>\n      </g>\n     </g>\n     <g id=\"text_14\">\n      <!-- 50 -->\n      <g transform=\"translate(190.809559 52.572649) scale(0.1 -0.1)\">\n       <use xlink:href=\"#DejaVuSans-35\"/>\n       <use xlink:href=\"#DejaVuSans-30\" x=\"63.623047\"/>\n      </g>\n     </g>\n    </g>\n    <g id=\"ytick_7\">\n     <g id=\"line2d_16\">\n      <g>\n       <use xlink:href=\"#mf4f52882ca\" x=\"210.534559\" y=\"27.980146\" style=\"stroke: #000000; stroke-width: 0.8\"/>\n      </g>\n     </g>\n     <g id=\"text_15\">\n      <!-- 75 -->\n      <g transform=\"translate(190.809559 31.779365) scale(0.1 -0.1)\">\n       <defs>\n        <path id=\"DejaVuSans-37\" d=\"M 525 4666 \nL 3525 4666 \nL 3525 4397 \nL 1831 0 \nL 1172 0 \nL 2766 4134 \nL 525 4134 \nL 525 4666 \nz\n\" transform=\"scale(0.015625)\"/>\n       </defs>\n       <use xlink:href=\"#DejaVuSans-37\"/>\n       <use xlink:href=\"#DejaVuSans-35\" x=\"63.623047\"/>\n      </g>\n     </g>\n    </g>\n   </g>\n   <g id=\"line2d_17\">\n    <path d=\"M 217.248463 10.741543 \nL 218.149658 38.676098 \nL 219.050853 50.171666 \nL 219.952048 54.363295 \nL 220.853243 55.562665 \nL 221.754438 57.328502 \nL 222.655633 59.560499 \nL 225.359219 70.145249 \nL 227.161609 73.357159 \nL 228.963999 76.443905 \nL 229.865194 77.903388 \nL 230.76639 78.450301 \nL 232.56878 77.820813 \nL 233.469975 77.821517 \nL 237.074756 79.15055 \nL 238.877146 80.235282 \nL 239.778341 80.566456 \nL 240.679536 80.760284 \nL 241.580731 80.785083 \nL 243.383121 80.40908 \nL 244.284317 80.169153 \nL 245.185512 80.058583 \nL 246.086707 80.1399 \nL 248.790292 80.777819 \nL 251.493878 81.097087 \nL 253.296268 81.3361 \nL 266.814195 81.49876 \nL 272.221366 81.547619 \nL 285.739293 81.232757 \nL 351.526537 81.324954 \nL 351.526537 81.324954 \n\" clip-path=\"url(#pbe6eb18dab)\" style=\"fill: none; stroke: #1f77b4; stroke-width: 1.5; stroke-linecap: square\"/>\n   </g>\n   <g id=\"patch_8\">\n    <path d=\"M 210.534559 90.36 \nL 210.534559 7.2 \n\" style=\"fill: none; stroke: #000000; stroke-width: 0.8; stroke-linejoin: miter; stroke-linecap: square\"/>\n   </g>\n   <g id=\"patch_9\">\n    <path d=\"M 358.240441 90.36 \nL 358.240441 7.2 \n\" style=\"fill: none; stroke: #000000; stroke-width: 0.8; stroke-linejoin: miter; stroke-linecap: square\"/>\n   </g>\n   <g id=\"patch_10\">\n    <path d=\"M 210.534559 90.36 \nL 358.240441 90.36 \n\" style=\"fill: none; stroke: #000000; stroke-width: 0.8; stroke-linejoin: miter; stroke-linecap: square\"/>\n   </g>\n   <g id=\"patch_11\">\n    <path d=\"M 210.534559 7.2 \nL 358.240441 7.2 \n\" style=\"fill: none; stroke: #000000; stroke-width: 0.8; stroke-linejoin: miter; stroke-linecap: square\"/>\n   </g>\n  </g>\n  <g id=\"axes_3\">\n   <g id=\"patch_12\">\n    <path d=\"M 387.781618 90.36 \nL 535.4875 90.36 \nL 535.4875 7.2 \nL 387.781618 7.2 \nz\n\" style=\"fill: #ffffff\"/>\n   </g>\n   <g id=\"matplotlib.axis_5\">\n    <g id=\"xtick_9\">\n     <g id=\"line2d_18\">\n      <g>\n       <use xlink:href=\"#m41fe329727\" x=\"394.495521\" y=\"90.36\" style=\"stroke: #000000; stroke-width: 0.8\"/>\n      </g>\n     </g>\n     <g id=\"text_16\">\n      <!-- 0 -->\n      <g transform=\"translate(391.314271 104.958438) scale(0.1 -0.1)\">\n       <use xlink:href=\"#DejaVuSans-30\"/>\n      </g>\n     </g>\n    </g>\n    <g id=\"xtick_10\">\n     <g id=\"line2d_19\">\n      <g>\n       <use xlink:href=\"#m41fe329727\" x=\"439.555278\" y=\"90.36\" style=\"stroke: #000000; stroke-width: 0.8\"/>\n      </g>\n     </g>\n     <g id=\"text_17\">\n      <!-- 50 -->\n      <g transform=\"translate(433.192778 104.958438) scale(0.1 -0.1)\">\n       <use xlink:href=\"#DejaVuSans-35\"/>\n       <use xlink:href=\"#DejaVuSans-30\" x=\"63.623047\"/>\n      </g>\n     </g>\n    </g>\n    <g id=\"xtick_11\">\n     <g id=\"line2d_20\">\n      <g>\n       <use xlink:href=\"#m41fe329727\" x=\"484.615035\" y=\"90.36\" style=\"stroke: #000000; stroke-width: 0.8\"/>\n      </g>\n     </g>\n     <g id=\"text_18\">\n      <!-- 100 -->\n      <g transform=\"translate(475.071285 104.958438) scale(0.1 -0.1)\">\n       <use xlink:href=\"#DejaVuSans-31\"/>\n       <use xlink:href=\"#DejaVuSans-30\" x=\"63.623047\"/>\n       <use xlink:href=\"#DejaVuSans-30\" x=\"127.246094\"/>\n      </g>\n     </g>\n    </g>\n    <g id=\"xtick_12\">\n     <g id=\"line2d_21\">\n      <g>\n       <use xlink:href=\"#m41fe329727\" x=\"529.674791\" y=\"90.36\" style=\"stroke: #000000; stroke-width: 0.8\"/>\n      </g>\n     </g>\n     <g id=\"text_19\">\n      <!-- 150 -->\n      <g transform=\"translate(520.131041 104.958438) scale(0.1 -0.1)\">\n       <use xlink:href=\"#DejaVuSans-31\"/>\n       <use xlink:href=\"#DejaVuSans-35\" x=\"63.623047\"/>\n       <use xlink:href=\"#DejaVuSans-30\" x=\"127.246094\"/>\n      </g>\n     </g>\n    </g>\n   </g>\n   <g id=\"matplotlib.axis_6\">\n    <g id=\"ytick_8\">\n     <g id=\"line2d_22\">\n      <g>\n       <use xlink:href=\"#mf4f52882ca\" x=\"387.781618\" y=\"90.36\" style=\"stroke: #000000; stroke-width: 0.8\"/>\n      </g>\n     </g>\n     <g id=\"text_20\">\n      <!-- 0 -->\n      <g transform=\"translate(374.419118 94.159219) scale(0.1 -0.1)\">\n       <use xlink:href=\"#DejaVuSans-30\"/>\n      </g>\n     </g>\n    </g>\n    <g id=\"ytick_9\">\n     <g id=\"line2d_23\">\n      <g>\n       <use xlink:href=\"#mf4f52882ca\" x=\"387.781618\" y=\"64.456485\" style=\"stroke: #000000; stroke-width: 0.8\"/>\n      </g>\n     </g>\n     <g id=\"text_21\">\n      <!-- 10 -->\n      <g transform=\"translate(368.056618 68.255704) scale(0.1 -0.1)\">\n       <use xlink:href=\"#DejaVuSans-31\"/>\n       <use xlink:href=\"#DejaVuSans-30\" x=\"63.623047\"/>\n      </g>\n     </g>\n    </g>\n    <g id=\"ytick_10\">\n     <g id=\"line2d_24\">\n      <g>\n       <use xlink:href=\"#mf4f52882ca\" x=\"387.781618\" y=\"38.55297\" style=\"stroke: #000000; stroke-width: 0.8\"/>\n      </g>\n     </g>\n     <g id=\"text_22\">\n      <!-- 20 -->\n      <g transform=\"translate(368.056618 42.352188) scale(0.1 -0.1)\">\n       <use xlink:href=\"#DejaVuSans-32\"/>\n       <use xlink:href=\"#DejaVuSans-30\" x=\"63.623047\"/>\n      </g>\n     </g>\n    </g>\n    <g id=\"ytick_11\">\n     <g id=\"line2d_25\">\n      <g>\n       <use xlink:href=\"#mf4f52882ca\" x=\"387.781618\" y=\"12.649454\" style=\"stroke: #000000; stroke-width: 0.8\"/>\n      </g>\n     </g>\n     <g id=\"text_23\">\n      <!-- 30 -->\n      <g transform=\"translate(368.056618 16.448673) scale(0.1 -0.1)\">\n       <defs>\n        <path id=\"DejaVuSans-33\" d=\"M 2597 2516 \nQ 3050 2419 3304 2112 \nQ 3559 1806 3559 1356 \nQ 3559 666 3084 287 \nQ 2609 -91 1734 -91 \nQ 1441 -91 1130 -33 \nQ 819 25 488 141 \nL 488 750 \nQ 750 597 1062 519 \nQ 1375 441 1716 441 \nQ 2309 441 2620 675 \nQ 2931 909 2931 1356 \nQ 2931 1769 2642 2001 \nQ 2353 2234 1838 2234 \nL 1294 2234 \nL 1294 2753 \nL 1863 2753 \nQ 2328 2753 2575 2939 \nQ 2822 3125 2822 3475 \nQ 2822 3834 2567 4026 \nQ 2313 4219 1838 4219 \nQ 1578 4219 1281 4162 \nQ 984 4106 628 3988 \nL 628 4550 \nQ 988 4650 1302 4700 \nQ 1616 4750 1894 4750 \nQ 2613 4750 3031 4423 \nQ 3450 4097 3450 3541 \nQ 3450 3153 3228 2886 \nQ 3006 2619 2597 2516 \nz\n\" transform=\"scale(0.015625)\"/>\n       </defs>\n       <use xlink:href=\"#DejaVuSans-33\"/>\n       <use xlink:href=\"#DejaVuSans-30\" x=\"63.623047\"/>\n      </g>\n     </g>\n    </g>\n   </g>\n   <g id=\"line2d_26\">\n    <path d=\"M 394.495521 74.312772 \nL 395.396717 73.328439 \nL 396.297912 67.241112 \nL 398.100302 53.693575 \nL 399.902692 47.60625 \nL 401.705082 39.835196 \nL 402.606278 37.348456 \nL 403.507473 35.392742 \nL 405.309863 33.41112 \nL 406.211058 31.766246 \nL 407.112253 25.873198 \nL 408.013448 20.770207 \nL 408.914644 18.749731 \nL 409.815839 19.073525 \nL 410.717034 18.270517 \nL 411.618229 17.104857 \nL 412.519424 15.680166 \nL 413.420619 14.8383 \nL 414.321814 14.307278 \nL 415.223009 13.21933 \nL 416.124205 12.32566 \nL 417.0254 11.729881 \nL 418.82779 10.991631 \nL 420.63018 11.069338 \nL 421.531375 10.978676 \nL 423.333766 11.354279 \nL 424.234961 11.147051 \nL 425.136156 11.16 \nL 426.037351 10.978676 \nL 426.938546 11.198859 \nL 428.740936 10.965727 \nL 429.642132 10.434705 \nL 434.148107 10.991631 \nL 435.049302 11.172955 \nL 435.950498 11.108197 \nL 436.851693 11.237713 \nL 438.654083 11.017535 \nL 439.555278 11.134101 \nL 441.357668 10.680787 \nL 443.160059 10.395846 \nL 444.962449 10.654882 \nL 447.666034 10.538316 \nL 449.468425 10.732595 \nL 452.17201 11.00458 \nL 455.77679 11.807588 \nL 458.480376 12.144337 \nL 462.085156 12.092528 \nL 462.986352 11.988917 \nL 464.788742 12.001866 \nL 466.591132 12.04072 \nL 469.294717 12.092528 \nL 471.097108 11.975962 \nL 472.899498 12.157286 \nL 474.701888 12.04072 \nL 475.603083 12.131382 \nL 478.306669 11.975962 \nL 481.010254 12.027771 \nL 483.71384 11.8853 \nL 485.51623 11.859396 \nL 491.824596 11.975962 \nL 495.429376 11.911204 \nL 528.773596 11.820543 \nL 528.773596 11.820543 \n\" clip-path=\"url(#p6443af1cbf)\" style=\"fill: none; stroke: #1f77b4; stroke-width: 1.5; stroke-linecap: square\"/>\n   </g>\n   <g id=\"patch_13\">\n    <path d=\"M 387.781618 90.36 \nL 387.781618 7.2 \n\" style=\"fill: none; stroke: #000000; stroke-width: 0.8; stroke-linejoin: miter; stroke-linecap: square\"/>\n   </g>\n   <g id=\"patch_14\">\n    <path d=\"M 535.4875 90.36 \nL 535.4875 7.2 \n\" style=\"fill: none; stroke: #000000; stroke-width: 0.8; stroke-linejoin: miter; stroke-linecap: square\"/>\n   </g>\n   <g id=\"patch_15\">\n    <path d=\"M 387.781618 90.36 \nL 535.4875 90.36 \n\" style=\"fill: none; stroke: #000000; stroke-width: 0.8; stroke-linejoin: miter; stroke-linecap: square\"/>\n   </g>\n   <g id=\"patch_16\">\n    <path d=\"M 387.781618 7.2 \nL 535.4875 7.2 \n\" style=\"fill: none; stroke: #000000; stroke-width: 0.8; stroke-linejoin: miter; stroke-linecap: square\"/>\n   </g>\n  </g>\n </g>\n <defs>\n  <clipPath id=\"paeb1f4c90c\">\n   <rect x=\"33.2875\" y=\"7.2\" width=\"147.705882\" height=\"83.16\"/>\n  </clipPath>\n  <clipPath id=\"pbe6eb18dab\">\n   <rect x=\"210.534559\" y=\"7.2\" width=\"147.705882\" height=\"83.16\"/>\n  </clipPath>\n  <clipPath id=\"p6443af1cbf\">\n   <rect x=\"387.781618\" y=\"7.2\" width=\"147.705882\" height=\"83.16\"/>\n  </clipPath>\n </defs>\n</svg>\n",
            "text/plain": [
              "<Figure size 900x150 with 3 Axes>"
            ]
          },
          "metadata": {},
          "output_type": "display_data"
        }
      ],
      "source": [
        "plt.figure(figsize = (9, 1.5))\n",
        "ax= plt.subplot(1, 3, 1)\n",
        "plt.plot(train_losses)\n",
        "ax.set_ylim(bottom=0)\n",
        "ax= plt.subplot(1, 3, 2)\n",
        "plt.plot(valid_losses)\n",
        "ax.set_ylim(bottom=0)\n",
        "ax= plt.subplot(1, 3, 3)\n",
        "plt.plot(valid_accuracies)\n",
        "ax.set_ylim(bottom=0)"
      ]
    },
    {
      "cell_type": "code",
      "execution_count": null,
      "metadata": {
        "id": "yNq1h0yDyoFZ"
      },
      "outputs": [],
      "source": [
        "#refaisons sans batch : \n",
        "\n",
        "Nepochs= 100\n",
        "\n",
        "### The model, the loss and optimizer\n",
        "model=nn.Sequential(nn.Linear(D_in,D_out),\n",
        "                    nn.LogSoftmax(dim=1))\n",
        "optimizer=th.optim.Adam(model.parameters(),lr=1e-3)\n",
        "loss_fn=nn.NLLLoss()\n",
        "\n",
        "train_losses2 = np.zeros(Nepochs)\n",
        "valid_losses2 = np.zeros(Nepochs)\n",
        "valid_accuracies2 = np.zeros(Nepochs)\n",
        "train_acc = np.zeros(Nepochs)\n",
        "Ntrain2 = Xtrain.shape[0]\n",
        "Nvalid = Xvalid.shape[0]\n",
        "\n",
        "for i in range(Nepochs):\n",
        "    optimizer.zero_grad()\n",
        "    logprobs=model(Xtrain) # inference \n",
        "    loss=loss_fn(logprobs,Ytrain) # compute the loss\n",
        "    train_losses2[i] = loss.item()\n",
        "    train_acc[i] = (th.argmax(logprobs,1)==Ytrain).sum()*100/Ntrain2\n",
        "    \n",
        "    logprobsValid=model(Xvalid) #test on valid part\n",
        "    valid_losses2[i]=loss_fn(logprobsValid,Yvalid).item()\n",
        "    \n",
        "    acc = (th.argmax(logprobsValid,1)==Yvalid).sum()*100/Nvalid\n",
        "    valid_accuracies2[i] = acc\n",
        "    #print(\"Loss function: \",loss.item()) \n",
        "    loss.backward() # Back propagation\n",
        "    optimizer.step() # update the parameters\n",
        "    \n",
        "    "
      ]
    },
    {
      "cell_type": "code",
      "execution_count": null,
      "metadata": {
        "id": "MVMd6Kr7yoFa",
        "outputId": "18470b47-931e-4b38-fae2-8a6f02494fc8"
      },
      "outputs": [
        {
          "data": {
            "text/plain": [
              "(0.0, 81.67575063705445)"
            ]
          },
          "execution_count": 84,
          "metadata": {},
          "output_type": "execute_result"
        },
        {
          "data": {
            "image/svg+xml": "<?xml version=\"1.0\" encoding=\"utf-8\" standalone=\"no\"?>\n<!DOCTYPE svg PUBLIC \"-//W3C//DTD SVG 1.1//EN\"\n  \"http://www.w3.org/Graphics/SVG/1.1/DTD/svg11.dtd\">\n<svg xmlns:xlink=\"http://www.w3.org/1999/xlink\" width=\"541.908815pt\" height=\"114.238125pt\" viewBox=\"0 0 541.908815 114.238125\" xmlns=\"http://www.w3.org/2000/svg\" version=\"1.1\">\n <metadata>\n  <rdf:RDF xmlns:dc=\"http://purl.org/dc/elements/1.1/\" xmlns:cc=\"http://creativecommons.org/ns#\" xmlns:rdf=\"http://www.w3.org/1999/02/22-rdf-syntax-ns#\">\n   <cc:Work>\n    <dc:type rdf:resource=\"http://purl.org/dc/dcmitype/StillImage\"/>\n    <dc:date>2023-03-31T16:40:11.882850</dc:date>\n    <dc:format>image/svg+xml</dc:format>\n    <dc:creator>\n     <cc:Agent>\n      <dc:title>Matplotlib v3.7.1, https://matplotlib.org/</dc:title>\n     </cc:Agent>\n    </dc:creator>\n   </cc:Work>\n  </rdf:RDF>\n </metadata>\n <defs>\n  <style type=\"text/css\">*{stroke-linejoin: round; stroke-linecap: butt}</style>\n </defs>\n <g id=\"figure_1\">\n  <g id=\"patch_1\">\n   <path d=\"M 0 114.238125 \nL 541.908815 114.238125 \nL 541.908815 -0 \nL 0 -0 \nz\n\" style=\"fill: #ffffff\"/>\n  </g>\n  <g id=\"axes_1\">\n   <g id=\"patch_2\">\n    <path d=\"M 26.925 90.36 \nL 136.098913 90.36 \nL 136.098913 7.2 \nL 26.925 7.2 \nz\n\" style=\"fill: #ffffff\"/>\n   </g>\n   <g id=\"matplotlib.axis_1\">\n    <g id=\"xtick_1\">\n     <g id=\"line2d_1\">\n      <defs>\n       <path id=\"m2ea86a9524\" d=\"M 0 0 \nL 0 3.5 \n\" style=\"stroke: #000000; stroke-width: 0.8\"/>\n      </defs>\n      <g>\n       <use xlink:href=\"#m2ea86a9524\" x=\"31.887451\" y=\"90.36\" style=\"stroke: #000000; stroke-width: 0.8\"/>\n      </g>\n     </g>\n     <g id=\"text_1\">\n      <!-- 0 -->\n      <g transform=\"translate(28.706201 104.958438) scale(0.1 -0.1)\">\n       <defs>\n        <path id=\"DejaVuSans-30\" d=\"M 2034 4250 \nQ 1547 4250 1301 3770 \nQ 1056 3291 1056 2328 \nQ 1056 1369 1301 889 \nQ 1547 409 2034 409 \nQ 2525 409 2770 889 \nQ 3016 1369 3016 2328 \nQ 3016 3291 2770 3770 \nQ 2525 4250 2034 4250 \nz\nM 2034 4750 \nQ 2819 4750 3233 4129 \nQ 3647 3509 3647 2328 \nQ 3647 1150 3233 529 \nQ 2819 -91 2034 -91 \nQ 1250 -91 836 529 \nQ 422 1150 422 2328 \nQ 422 3509 836 4129 \nQ 1250 4750 2034 4750 \nz\n\" transform=\"scale(0.015625)\"/>\n       </defs>\n       <use xlink:href=\"#DejaVuSans-30\"/>\n      </g>\n     </g>\n    </g>\n    <g id=\"xtick_2\">\n     <g id=\"line2d_2\">\n      <g>\n       <use xlink:href=\"#m2ea86a9524\" x=\"82.013214\" y=\"90.36\" style=\"stroke: #000000; stroke-width: 0.8\"/>\n      </g>\n     </g>\n     <g id=\"text_2\">\n      <!-- 50 -->\n      <g transform=\"translate(75.650714 104.958438) scale(0.1 -0.1)\">\n       <defs>\n        <path id=\"DejaVuSans-35\" d=\"M 691 4666 \nL 3169 4666 \nL 3169 4134 \nL 1269 4134 \nL 1269 2991 \nQ 1406 3038 1543 3061 \nQ 1681 3084 1819 3084 \nQ 2600 3084 3056 2656 \nQ 3513 2228 3513 1497 \nQ 3513 744 3044 326 \nQ 2575 -91 1722 -91 \nQ 1428 -91 1123 -41 \nQ 819 9 494 109 \nL 494 744 \nQ 775 591 1075 516 \nQ 1375 441 1709 441 \nQ 2250 441 2565 725 \nQ 2881 1009 2881 1497 \nQ 2881 1984 2565 2268 \nQ 2250 2553 1709 2553 \nQ 1456 2553 1204 2497 \nQ 953 2441 691 2322 \nL 691 4666 \nz\n\" transform=\"scale(0.015625)\"/>\n       </defs>\n       <use xlink:href=\"#DejaVuSans-35\"/>\n       <use xlink:href=\"#DejaVuSans-30\" x=\"63.623047\"/>\n      </g>\n     </g>\n    </g>\n    <g id=\"xtick_3\">\n     <g id=\"line2d_3\">\n      <g>\n       <use xlink:href=\"#m2ea86a9524\" x=\"132.138978\" y=\"90.36\" style=\"stroke: #000000; stroke-width: 0.8\"/>\n      </g>\n     </g>\n     <g id=\"text_3\">\n      <!-- 100 -->\n      <g transform=\"translate(122.595228 104.958438) scale(0.1 -0.1)\">\n       <defs>\n        <path id=\"DejaVuSans-31\" d=\"M 794 531 \nL 1825 531 \nL 1825 4091 \nL 703 3866 \nL 703 4441 \nL 1819 4666 \nL 2450 4666 \nL 2450 531 \nL 3481 531 \nL 3481 0 \nL 794 0 \nL 794 531 \nz\n\" transform=\"scale(0.015625)\"/>\n       </defs>\n       <use xlink:href=\"#DejaVuSans-31\"/>\n       <use xlink:href=\"#DejaVuSans-30\" x=\"63.623047\"/>\n       <use xlink:href=\"#DejaVuSans-30\" x=\"127.246094\"/>\n      </g>\n     </g>\n    </g>\n   </g>\n   <g id=\"matplotlib.axis_2\">\n    <g id=\"ytick_1\">\n     <g id=\"line2d_4\">\n      <defs>\n       <path id=\"mf4ffa00cfb\" d=\"M 0 0 \nL -3.5 0 \n\" style=\"stroke: #000000; stroke-width: 0.8\"/>\n      </defs>\n      <g>\n       <use xlink:href=\"#mf4ffa00cfb\" x=\"26.925\" y=\"90.36\" style=\"stroke: #000000; stroke-width: 0.8\"/>\n      </g>\n     </g>\n     <g id=\"text_4\">\n      <!-- 0 -->\n      <g transform=\"translate(13.5625 94.159219) scale(0.1 -0.1)\">\n       <use xlink:href=\"#DejaVuSans-30\"/>\n      </g>\n     </g>\n    </g>\n    <g id=\"ytick_2\">\n     <g id=\"line2d_5\">\n      <g>\n       <use xlink:href=\"#mf4ffa00cfb\" x=\"26.925\" y=\"66.607812\" style=\"stroke: #000000; stroke-width: 0.8\"/>\n      </g>\n     </g>\n     <g id=\"text_5\">\n      <!-- 25 -->\n      <g transform=\"translate(7.2 70.40703) scale(0.1 -0.1)\">\n       <defs>\n        <path id=\"DejaVuSans-32\" d=\"M 1228 531 \nL 3431 531 \nL 3431 0 \nL 469 0 \nL 469 531 \nQ 828 903 1448 1529 \nQ 2069 2156 2228 2338 \nQ 2531 2678 2651 2914 \nQ 2772 3150 2772 3378 \nQ 2772 3750 2511 3984 \nQ 2250 4219 1831 4219 \nQ 1534 4219 1204 4116 \nQ 875 4013 500 3803 \nL 500 4441 \nQ 881 4594 1212 4672 \nQ 1544 4750 1819 4750 \nQ 2544 4750 2975 4387 \nQ 3406 4025 3406 3419 \nQ 3406 3131 3298 2873 \nQ 3191 2616 2906 2266 \nQ 2828 2175 2409 1742 \nQ 1991 1309 1228 531 \nz\n\" transform=\"scale(0.015625)\"/>\n       </defs>\n       <use xlink:href=\"#DejaVuSans-32\"/>\n       <use xlink:href=\"#DejaVuSans-35\" x=\"63.623047\"/>\n      </g>\n     </g>\n    </g>\n    <g id=\"ytick_3\">\n     <g id=\"line2d_6\">\n      <g>\n       <use xlink:href=\"#mf4ffa00cfb\" x=\"26.925\" y=\"42.855623\" style=\"stroke: #000000; stroke-width: 0.8\"/>\n      </g>\n     </g>\n     <g id=\"text_6\">\n      <!-- 50 -->\n      <g transform=\"translate(7.2 46.654842) scale(0.1 -0.1)\">\n       <use xlink:href=\"#DejaVuSans-35\"/>\n       <use xlink:href=\"#DejaVuSans-30\" x=\"63.623047\"/>\n      </g>\n     </g>\n    </g>\n    <g id=\"ytick_4\">\n     <g id=\"line2d_7\">\n      <g>\n       <use xlink:href=\"#mf4ffa00cfb\" x=\"26.925\" y=\"19.103435\" style=\"stroke: #000000; stroke-width: 0.8\"/>\n      </g>\n     </g>\n     <g id=\"text_7\">\n      <!-- 75 -->\n      <g transform=\"translate(7.2 22.902653) scale(0.1 -0.1)\">\n       <defs>\n        <path id=\"DejaVuSans-37\" d=\"M 525 4666 \nL 3525 4666 \nL 3525 4397 \nL 1831 0 \nL 1172 0 \nL 2766 4134 \nL 525 4134 \nL 525 4666 \nz\n\" transform=\"scale(0.015625)\"/>\n       </defs>\n       <use xlink:href=\"#DejaVuSans-37\"/>\n       <use xlink:href=\"#DejaVuSans-35\" x=\"63.623047\"/>\n      </g>\n     </g>\n    </g>\n   </g>\n   <g id=\"line2d_8\">\n    <path d=\"M 31.887451 10.980459 \nL 32.889966 38.291195 \nL 33.892481 49.458421 \nL 34.894996 56.631461 \nL 35.897512 56.729426 \nL 36.900027 64.054386 \nL 37.902542 66.517514 \nL 38.905057 69.338123 \nL 39.907573 73.583632 \nL 40.910088 76.048892 \nL 41.912603 73.966001 \nL 42.915119 73.892098 \nL 43.917634 75.731992 \nL 44.920149 77.43211 \nL 45.922664 78.019536 \nL 46.92518 77.210123 \nL 47.927695 77.111123 \nL 48.93021 78.417528 \nL 49.932725 79.995938 \nL 50.935241 80.384623 \nL 51.937756 79.926908 \nL 52.940271 79.780417 \nL 53.942787 80.323446 \nL 54.945302 81.109448 \nL 55.947817 81.312864 \nL 56.950332 80.998936 \nL 57.952848 81.021595 \nL 58.955363 81.614401 \nL 59.957878 82.091704 \nL 60.960393 82.168895 \nL 61.962909 82.126353 \nL 62.965424 82.221978 \nL 63.967939 82.505319 \nL 64.970455 82.779011 \nL 65.97297 82.864707 \nL 66.975485 82.901727 \nL 67.978 83.065308 \nL 68.980516 83.299848 \nL 69.983031 83.464261 \nL 70.985546 83.517851 \nL 71.988061 83.608894 \nL 72.990577 83.799103 \nL 73.993092 83.925697 \nL 74.995607 83.953216 \nL 75.998123 84.028063 \nL 77.000638 84.161858 \nL 78.003153 84.243025 \nL 79.005668 84.297299 \nL 80.008184 84.388533 \nL 81.010699 84.463082 \nL 82.013214 84.5158 \nL 83.015729 84.599639 \nL 84.018245 84.682928 \nL 85.02076 84.744609 \nL 86.023275 84.791676 \nL 87.025791 84.861931 \nL 88.028306 84.948196 \nL 89.030821 84.993344 \nL 90.033336 85.03307 \nL 91.035852 85.108278 \nL 92.038367 85.174293 \nL 93.040882 85.205172 \nL 94.043397 85.258364 \nL 95.045913 85.324279 \nL 96.048428 85.361727 \nL 97.050943 85.403504 \nL 98.053458 85.462855 \nL 99.055974 85.509258 \nL 100.058489 85.545217 \nL 101.061004 85.589658 \nL 102.06352 85.640023 \nL 103.066035 85.678896 \nL 104.06855 85.714453 \nL 105.071065 85.760774 \nL 106.073581 85.801915 \nL 107.076096 85.836547 \nL 108.078611 85.876012 \nL 109.081126 85.91468 \nL 110.083642 85.949944 \nL 111.086157 85.986139 \nL 112.088672 86.021724 \nL 113.091188 86.056318 \nL 114.093703 86.090679 \nL 115.096218 86.124339 \nL 116.098733 86.156689 \nL 117.101249 86.189098 \nL 118.103764 86.221164 \nL 119.106279 86.252174 \nL 120.108794 86.283488 \nL 121.11131 86.313298 \nL 122.113825 86.343659 \nL 123.11634 86.373025 \nL 124.118856 86.400907 \nL 125.121371 86.429715 \nL 126.123886 86.457713 \nL 127.126401 86.484321 \nL 128.128917 86.511668 \nL 129.131432 86.538228 \nL 130.133947 86.563597 \nL 131.136462 86.589634 \n\" clip-path=\"url(#p658194aa5e)\" style=\"fill: none; stroke: #1f77b4; stroke-width: 1.5; stroke-linecap: square\"/>\n   </g>\n   <g id=\"patch_3\">\n    <path d=\"M 26.925 90.36 \nL 26.925 7.2 \n\" style=\"fill: none; stroke: #000000; stroke-width: 0.8; stroke-linejoin: miter; stroke-linecap: square\"/>\n   </g>\n   <g id=\"patch_4\">\n    <path d=\"M 136.098913 90.36 \nL 136.098913 7.2 \n\" style=\"fill: none; stroke: #000000; stroke-width: 0.8; stroke-linejoin: miter; stroke-linecap: square\"/>\n   </g>\n   <g id=\"patch_5\">\n    <path d=\"M 26.925 90.36 \nL 136.098913 90.36 \n\" style=\"fill: none; stroke: #000000; stroke-width: 0.8; stroke-linejoin: miter; stroke-linecap: square\"/>\n   </g>\n   <g id=\"patch_6\">\n    <path d=\"M 26.925 7.2 \nL 136.098913 7.2 \n\" style=\"fill: none; stroke: #000000; stroke-width: 0.8; stroke-linejoin: miter; stroke-linecap: square\"/>\n   </g>\n  </g>\n  <g id=\"axes_2\">\n   <g id=\"patch_7\">\n    <path d=\"M 157.933696 90.36 \nL 267.107609 90.36 \nL 267.107609 7.2 \nL 157.933696 7.2 \nz\n\" style=\"fill: #ffffff\"/>\n   </g>\n   <g id=\"matplotlib.axis_3\">\n    <g id=\"xtick_4\">\n     <g id=\"line2d_9\">\n      <g>\n       <use xlink:href=\"#m2ea86a9524\" x=\"162.896146\" y=\"90.36\" style=\"stroke: #000000; stroke-width: 0.8\"/>\n      </g>\n     </g>\n     <g id=\"text_8\">\n      <!-- 0 -->\n      <g transform=\"translate(159.714896 104.958438) scale(0.1 -0.1)\">\n       <use xlink:href=\"#DejaVuSans-30\"/>\n      </g>\n     </g>\n    </g>\n    <g id=\"xtick_5\">\n     <g id=\"line2d_10\">\n      <g>\n       <use xlink:href=\"#m2ea86a9524\" x=\"213.02191\" y=\"90.36\" style=\"stroke: #000000; stroke-width: 0.8\"/>\n      </g>\n     </g>\n     <g id=\"text_9\">\n      <!-- 50 -->\n      <g transform=\"translate(206.65941 104.958438) scale(0.1 -0.1)\">\n       <use xlink:href=\"#DejaVuSans-35\"/>\n       <use xlink:href=\"#DejaVuSans-30\" x=\"63.623047\"/>\n      </g>\n     </g>\n    </g>\n    <g id=\"xtick_6\">\n     <g id=\"line2d_11\">\n      <g>\n       <use xlink:href=\"#m2ea86a9524\" x=\"263.147673\" y=\"90.36\" style=\"stroke: #000000; stroke-width: 0.8\"/>\n      </g>\n     </g>\n     <g id=\"text_10\">\n      <!-- 100 -->\n      <g transform=\"translate(253.603923 104.958438) scale(0.1 -0.1)\">\n       <use xlink:href=\"#DejaVuSans-31\"/>\n       <use xlink:href=\"#DejaVuSans-30\" x=\"63.623047\"/>\n       <use xlink:href=\"#DejaVuSans-30\" x=\"127.246094\"/>\n      </g>\n     </g>\n    </g>\n   </g>\n   <g id=\"matplotlib.axis_4\">\n    <g id=\"ytick_5\">\n     <g id=\"line2d_12\">\n      <g>\n       <use xlink:href=\"#mf4ffa00cfb\" x=\"157.933696\" y=\"90.36\" style=\"stroke: #000000; stroke-width: 0.8\"/>\n      </g>\n     </g>\n     <g id=\"text_11\">\n      <!-- 0 -->\n      <g transform=\"translate(144.571196 94.159219) scale(0.1 -0.1)\">\n       <use xlink:href=\"#DejaVuSans-30\"/>\n      </g>\n     </g>\n    </g>\n    <g id=\"ytick_6\">\n     <g id=\"line2d_13\">\n      <g>\n       <use xlink:href=\"#mf4ffa00cfb\" x=\"157.933696\" y=\"66.433328\" style=\"stroke: #000000; stroke-width: 0.8\"/>\n      </g>\n     </g>\n     <g id=\"text_12\">\n      <!-- 25 -->\n      <g transform=\"translate(138.208696 70.232546) scale(0.1 -0.1)\">\n       <use xlink:href=\"#DejaVuSans-32\"/>\n       <use xlink:href=\"#DejaVuSans-35\" x=\"63.623047\"/>\n      </g>\n     </g>\n    </g>\n    <g id=\"ytick_7\">\n     <g id=\"line2d_14\">\n      <g>\n       <use xlink:href=\"#mf4ffa00cfb\" x=\"157.933696\" y=\"42.506655\" style=\"stroke: #000000; stroke-width: 0.8\"/>\n      </g>\n     </g>\n     <g id=\"text_13\">\n      <!-- 50 -->\n      <g transform=\"translate(138.208696 46.305874) scale(0.1 -0.1)\">\n       <use xlink:href=\"#DejaVuSans-35\"/>\n       <use xlink:href=\"#DejaVuSans-30\" x=\"63.623047\"/>\n      </g>\n     </g>\n    </g>\n    <g id=\"ytick_8\">\n     <g id=\"line2d_15\">\n      <g>\n       <use xlink:href=\"#mf4ffa00cfb\" x=\"157.933696\" y=\"18.579983\" style=\"stroke: #000000; stroke-width: 0.8\"/>\n      </g>\n     </g>\n     <g id=\"text_14\">\n      <!-- 75 -->\n      <g transform=\"translate(138.208696 22.379201) scale(0.1 -0.1)\">\n       <use xlink:href=\"#DejaVuSans-37\"/>\n       <use xlink:href=\"#DejaVuSans-35\" x=\"63.623047\"/>\n      </g>\n     </g>\n    </g>\n   </g>\n   <g id=\"line2d_16\">\n    <path d=\"M 162.896146 10.958854 \nL 163.898662 38.973692 \nL 164.901177 49.933861 \nL 165.903692 56.773828 \nL 166.906207 56.809038 \nL 167.908723 64.311732 \nL 168.911238 66.947854 \nL 169.913753 69.904783 \nL 170.916268 74.224288 \nL 171.918784 76.570048 \nL 172.921299 74.262418 \nL 173.923814 74.045995 \nL 174.92633 75.855032 \nL 175.928845 77.592861 \nL 176.93136 78.076256 \nL 177.933875 77.151508 \nL 178.936391 77.058964 \nL 179.938906 78.427575 \nL 180.941421 80.141912 \nL 181.943936 80.61523 \nL 182.946452 80.145336 \nL 183.948967 79.941979 \nL 184.951482 80.441927 \nL 185.953997 81.169437 \nL 186.956513 81.344107 \nL 187.959028 80.985184 \nL 188.961543 80.992407 \nL 189.964059 81.612893 \nL 190.966574 82.12776 \nL 191.969089 82.192992 \nL 192.971604 82.104736 \nL 193.97412 82.161931 \nL 194.976635 82.41605 \nL 195.97915 82.679609 \nL 196.981665 82.747176 \nL 197.984181 82.773494 \nL 198.986696 82.950099 \nL 199.989211 83.206887 \nL 200.991727 83.390644 \nL 201.994242 83.441364 \nL 202.996757 83.52899 \nL 203.999272 83.709134 \nL 205.001788 83.826144 \nL 206.004303 83.853905 \nL 207.006818 83.950786 \nL 208.009333 84.111693 \nL 209.011849 84.194311 \nL 210.014364 84.219244 \nL 211.016879 84.263513 \nL 212.019395 84.288519 \nL 213.02191 84.324326 \nL 214.024425 84.420732 \nL 215.02694 84.530364 \nL 216.029456 84.605085 \nL 217.031971 84.64116 \nL 218.034486 84.682226 \nL 219.037001 84.735116 \nL 220.039517 84.757174 \nL 221.042032 84.789509 \nL 222.044547 84.868336 \nL 223.047063 84.939213 \nL 224.049578 84.975093 \nL 225.052093 85.026407 \nL 226.054608 85.083812 \nL 227.057124 85.106878 \nL 228.059639 85.131224 \nL 229.062154 85.180519 \nL 230.064669 85.226565 \nL 231.067185 85.264624 \nL 232.0697 85.307934 \nL 233.072215 85.350731 \nL 234.074731 85.375008 \nL 235.077246 85.399334 \nL 236.079761 85.44633 \nL 237.082276 85.491017 \nL 238.084792 85.523253 \nL 239.087307 85.552907 \nL 240.089822 85.577248 \nL 241.092337 85.601572 \nL 242.094853 85.634912 \nL 243.097368 85.67107 \nL 244.099883 85.701489 \nL 245.102398 85.725899 \nL 246.104914 85.748817 \nL 247.107429 85.772526 \nL 248.109944 85.797578 \nL 249.11246 85.823637 \nL 250.114975 85.852178 \nL 251.11749 85.883652 \nL 252.120005 85.91062 \nL 253.122521 85.932059 \nL 254.125036 85.951342 \nL 255.127551 85.975104 \nL 256.130066 86.004925 \nL 257.132582 86.031865 \nL 258.135097 86.052527 \nL 259.137612 86.073173 \nL 260.140128 86.094874 \nL 261.142643 86.115309 \nL 262.145158 86.135937 \n\" clip-path=\"url(#p7a3b995d18)\" style=\"fill: none; stroke: #1f77b4; stroke-width: 1.5; stroke-linecap: square\"/>\n   </g>\n   <g id=\"patch_8\">\n    <path d=\"M 157.933696 90.36 \nL 157.933696 7.2 \n\" style=\"fill: none; stroke: #000000; stroke-width: 0.8; stroke-linejoin: miter; stroke-linecap: square\"/>\n   </g>\n   <g id=\"patch_9\">\n    <path d=\"M 267.107609 90.36 \nL 267.107609 7.2 \n\" style=\"fill: none; stroke: #000000; stroke-width: 0.8; stroke-linejoin: miter; stroke-linecap: square\"/>\n   </g>\n   <g id=\"patch_10\">\n    <path d=\"M 157.933696 90.36 \nL 267.107609 90.36 \n\" style=\"fill: none; stroke: #000000; stroke-width: 0.8; stroke-linejoin: miter; stroke-linecap: square\"/>\n   </g>\n   <g id=\"patch_11\">\n    <path d=\"M 157.933696 7.2 \nL 267.107609 7.2 \n\" style=\"fill: none; stroke: #000000; stroke-width: 0.8; stroke-linejoin: miter; stroke-linecap: square\"/>\n   </g>\n  </g>\n  <g id=\"axes_3\">\n   <g id=\"patch_12\">\n    <path d=\"M 288.942391 90.36 \nL 398.116304 90.36 \nL 398.116304 7.2 \nL 288.942391 7.2 \nz\n\" style=\"fill: #ffffff\"/>\n   </g>\n   <g id=\"matplotlib.axis_5\">\n    <g id=\"xtick_7\">\n     <g id=\"line2d_17\">\n      <g>\n       <use xlink:href=\"#m2ea86a9524\" x=\"293.904842\" y=\"90.36\" style=\"stroke: #000000; stroke-width: 0.8\"/>\n      </g>\n     </g>\n     <g id=\"text_15\">\n      <!-- 0 -->\n      <g transform=\"translate(290.723592 104.958438) scale(0.1 -0.1)\">\n       <use xlink:href=\"#DejaVuSans-30\"/>\n      </g>\n     </g>\n    </g>\n    <g id=\"xtick_8\">\n     <g id=\"line2d_18\">\n      <g>\n       <use xlink:href=\"#m2ea86a9524\" x=\"344.030605\" y=\"90.36\" style=\"stroke: #000000; stroke-width: 0.8\"/>\n      </g>\n     </g>\n     <g id=\"text_16\">\n      <!-- 50 -->\n      <g transform=\"translate(337.668105 104.958438) scale(0.1 -0.1)\">\n       <use xlink:href=\"#DejaVuSans-35\"/>\n       <use xlink:href=\"#DejaVuSans-30\" x=\"63.623047\"/>\n      </g>\n     </g>\n    </g>\n    <g id=\"xtick_9\">\n     <g id=\"line2d_19\">\n      <g>\n       <use xlink:href=\"#m2ea86a9524\" x=\"394.156369\" y=\"90.36\" style=\"stroke: #000000; stroke-width: 0.8\"/>\n      </g>\n     </g>\n     <g id=\"text_17\">\n      <!-- 100 -->\n      <g transform=\"translate(384.612619 104.958438) scale(0.1 -0.1)\">\n       <use xlink:href=\"#DejaVuSans-31\"/>\n       <use xlink:href=\"#DejaVuSans-30\" x=\"63.623047\"/>\n       <use xlink:href=\"#DejaVuSans-30\" x=\"127.246094\"/>\n      </g>\n     </g>\n    </g>\n   </g>\n   <g id=\"matplotlib.axis_6\">\n    <g id=\"ytick_9\">\n     <g id=\"line2d_20\">\n      <g>\n       <use xlink:href=\"#mf4ffa00cfb\" x=\"288.942391\" y=\"90.36\" style=\"stroke: #000000; stroke-width: 0.8\"/>\n      </g>\n     </g>\n     <g id=\"text_18\">\n      <!-- 0 -->\n      <g transform=\"translate(275.579891 94.159219) scale(0.1 -0.1)\">\n       <use xlink:href=\"#DejaVuSans-30\"/>\n      </g>\n     </g>\n    </g>\n    <g id=\"ytick_10\">\n     <g id=\"line2d_21\">\n      <g>\n       <use xlink:href=\"#mf4ffa00cfb\" x=\"288.942391\" y=\"64.40705\" style=\"stroke: #000000; stroke-width: 0.8\"/>\n      </g>\n     </g>\n     <g id=\"text_19\">\n      <!-- 25 -->\n      <g transform=\"translate(269.217391 68.206269) scale(0.1 -0.1)\">\n       <use xlink:href=\"#DejaVuSans-32\"/>\n       <use xlink:href=\"#DejaVuSans-35\" x=\"63.623047\"/>\n      </g>\n     </g>\n    </g>\n    <g id=\"ytick_11\">\n     <g id=\"line2d_22\">\n      <g>\n       <use xlink:href=\"#mf4ffa00cfb\" x=\"288.942391\" y=\"38.4541\" style=\"stroke: #000000; stroke-width: 0.8\"/>\n      </g>\n     </g>\n     <g id=\"text_20\">\n      <!-- 50 -->\n      <g transform=\"translate(269.217391 42.253319) scale(0.1 -0.1)\">\n       <use xlink:href=\"#DejaVuSans-35\"/>\n       <use xlink:href=\"#DejaVuSans-30\" x=\"63.623047\"/>\n      </g>\n     </g>\n    </g>\n    <g id=\"ytick_12\">\n     <g id=\"line2d_23\">\n      <g>\n       <use xlink:href=\"#mf4ffa00cfb\" x=\"288.942391\" y=\"12.50115\" style=\"stroke: #000000; stroke-width: 0.8\"/>\n      </g>\n     </g>\n     <g id=\"text_21\">\n      <!-- 75 -->\n      <g transform=\"translate(269.217391 16.300369) scale(0.1 -0.1)\">\n       <use xlink:href=\"#DejaVuSans-37\"/>\n       <use xlink:href=\"#DejaVuSans-35\" x=\"63.623047\"/>\n      </g>\n     </g>\n    </g>\n   </g>\n   <g id=\"line2d_24\">\n    <path d=\"M 293.904842 77.975252 \nL 294.907357 72.929998 \nL 295.909872 64.635435 \nL 296.912388 50.942658 \nL 297.914903 45.772831 \nL 298.917418 39.284594 \nL 299.919934 34.187435 \nL 300.922449 31.924337 \nL 301.924964 31.384515 \nL 302.927479 29.848101 \nL 303.929995 29.40171 \nL 304.93251 29.19409 \nL 305.935025 28.799604 \nL 306.93754 27.21128 \nL 307.940056 25.031234 \nL 308.942571 23.733587 \nL 309.945086 22.41518 \nL 310.947602 21.31477 \nL 311.950117 19.861403 \nL 312.952632 19.072439 \nL 313.955147 19.269676 \nL 314.957663 19.207392 \nL 315.960178 18.44957 \nL 316.962693 17.276491 \nL 317.965208 16.747049 \nL 318.967724 16.653622 \nL 319.970239 16.601713 \nL 320.972754 16.22799 \nL 321.975269 15.625888 \nL 322.977785 15.719314 \nL 323.9803 15.29369 \nL 324.982815 14.857675 \nL 325.985331 14.162137 \nL 326.987846 13.881849 \nL 327.990361 14.141379 \nL 328.992876 14.390525 \nL 329.995392 14.369766 \nL 330.997907 14.141379 \nL 332.000422 13.674221 \nL 333.002937 13.300498 \nL 334.005453 12.926782 \nL 335.007968 12.86449 \nL 336.010483 12.76068 \nL 337.012999 13.082494 \nL 338.015514 12.895632 \nL 339.018029 12.771063 \nL 340.020544 12.553059 \nL 341.02306 12.480391 \nL 342.025575 12.636103 \nL 343.02809 12.76068 \nL 344.030605 12.86449 \nL 345.033121 12.542676 \nL 346.035636 12.283146 \nL 347.038151 12.345431 \nL 348.040667 12.39734 \nL 349.043182 12.314289 \nL 350.045697 12.314289 \nL 351.048212 12.241621 \nL 352.050728 12.00285 \nL 353.053243 11.847139 \nL 354.055758 11.691419 \nL 355.058273 11.681036 \nL 356.060789 11.629135 \nL 357.063304 11.43189 \nL 358.065819 11.307313 \nL 359.068335 11.400748 \nL 360.07085 11.29693 \nL 361.073365 11.379981 \nL 362.07588 11.317696 \nL 363.078396 11.193119 \nL 364.080911 11.110076 \nL 365.083426 11.255412 \nL 366.085941 11.29693 \nL 367.088457 11.224262 \nL 368.090972 11.006258 \nL 369.093487 10.850546 \nL 370.096003 10.892064 \nL 371.098518 10.93359 \nL 372.101033 10.943973 \nL 373.103548 10.881689 \nL 374.106064 10.93359 \nL 375.108579 10.809021 \nL 376.111094 10.819396 \nL 377.113609 10.788254 \nL 378.116125 10.777871 \nL 379.11864 10.871305 \nL 380.121155 10.819396 \nL 381.12367 10.809021 \nL 382.126186 10.663685 \nL 383.128701 10.705203 \nL 384.131216 10.684444 \nL 385.133732 10.725969 \nL 386.136247 10.746728 \nL 387.138762 10.632535 \nL 388.141277 10.694827 \nL 389.143793 10.684444 \nL 390.146308 10.705203 \nL 391.148823 10.632535 \nL 392.151338 10.601392 \nL 393.153854 10.57025 \n\" clip-path=\"url(#p10dc542fc9)\" style=\"fill: none; stroke: #1f77b4; stroke-width: 1.5; stroke-linecap: square\"/>\n   </g>\n   <g id=\"patch_13\">\n    <path d=\"M 288.942391 90.36 \nL 288.942391 7.2 \n\" style=\"fill: none; stroke: #000000; stroke-width: 0.8; stroke-linejoin: miter; stroke-linecap: square\"/>\n   </g>\n   <g id=\"patch_14\">\n    <path d=\"M 398.116304 90.36 \nL 398.116304 7.2 \n\" style=\"fill: none; stroke: #000000; stroke-width: 0.8; stroke-linejoin: miter; stroke-linecap: square\"/>\n   </g>\n   <g id=\"patch_15\">\n    <path d=\"M 288.942391 90.36 \nL 398.116304 90.36 \n\" style=\"fill: none; stroke: #000000; stroke-width: 0.8; stroke-linejoin: miter; stroke-linecap: square\"/>\n   </g>\n   <g id=\"patch_16\">\n    <path d=\"M 288.942391 7.2 \nL 398.116304 7.2 \n\" style=\"fill: none; stroke: #000000; stroke-width: 0.8; stroke-linejoin: miter; stroke-linecap: square\"/>\n   </g>\n  </g>\n  <g id=\"axes_4\">\n   <g id=\"patch_17\">\n    <path d=\"M 419.951087 90.36 \nL 529.125 90.36 \nL 529.125 7.2 \nL 419.951087 7.2 \nz\n\" style=\"fill: #ffffff\"/>\n   </g>\n   <g id=\"matplotlib.axis_7\">\n    <g id=\"xtick_10\">\n     <g id=\"line2d_25\">\n      <g>\n       <use xlink:href=\"#m2ea86a9524\" x=\"424.913538\" y=\"90.36\" style=\"stroke: #000000; stroke-width: 0.8\"/>\n      </g>\n     </g>\n     <g id=\"text_22\">\n      <!-- 0 -->\n      <g transform=\"translate(421.732288 104.958438) scale(0.1 -0.1)\">\n       <use xlink:href=\"#DejaVuSans-30\"/>\n      </g>\n     </g>\n    </g>\n    <g id=\"xtick_11\">\n     <g id=\"line2d_26\">\n      <g>\n       <use xlink:href=\"#m2ea86a9524\" x=\"475.039301\" y=\"90.36\" style=\"stroke: #000000; stroke-width: 0.8\"/>\n      </g>\n     </g>\n     <g id=\"text_23\">\n      <!-- 50 -->\n      <g transform=\"translate(468.676801 104.958438) scale(0.1 -0.1)\">\n       <use xlink:href=\"#DejaVuSans-35\"/>\n       <use xlink:href=\"#DejaVuSans-30\" x=\"63.623047\"/>\n      </g>\n     </g>\n    </g>\n    <g id=\"xtick_12\">\n     <g id=\"line2d_27\">\n      <g>\n       <use xlink:href=\"#m2ea86a9524\" x=\"525.165065\" y=\"90.36\" style=\"stroke: #000000; stroke-width: 0.8\"/>\n      </g>\n     </g>\n     <g id=\"text_24\">\n      <!-- 100 -->\n      <g transform=\"translate(515.621315 104.958438) scale(0.1 -0.1)\">\n       <use xlink:href=\"#DejaVuSans-31\"/>\n       <use xlink:href=\"#DejaVuSans-30\" x=\"63.623047\"/>\n       <use xlink:href=\"#DejaVuSans-30\" x=\"127.246094\"/>\n      </g>\n     </g>\n    </g>\n   </g>\n   <g id=\"matplotlib.axis_8\">\n    <g id=\"ytick_13\">\n     <g id=\"line2d_28\">\n      <g>\n       <use xlink:href=\"#mf4ffa00cfb\" x=\"419.951087\" y=\"90.36\" style=\"stroke: #000000; stroke-width: 0.8\"/>\n      </g>\n     </g>\n     <g id=\"text_25\">\n      <!-- 0 -->\n      <g transform=\"translate(406.588587 94.159219) scale(0.1 -0.1)\">\n       <use xlink:href=\"#DejaVuSans-30\"/>\n      </g>\n     </g>\n    </g>\n    <g id=\"ytick_14\">\n     <g id=\"line2d_29\">\n      <g>\n       <use xlink:href=\"#mf4ffa00cfb\" x=\"419.951087\" y=\"64.905688\" style=\"stroke: #000000; stroke-width: 0.8\"/>\n      </g>\n     </g>\n     <g id=\"text_26\">\n      <!-- 25 -->\n      <g transform=\"translate(400.226087 68.704907) scale(0.1 -0.1)\">\n       <use xlink:href=\"#DejaVuSans-32\"/>\n       <use xlink:href=\"#DejaVuSans-35\" x=\"63.623047\"/>\n      </g>\n     </g>\n    </g>\n    <g id=\"ytick_15\">\n     <g id=\"line2d_30\">\n      <g>\n       <use xlink:href=\"#mf4ffa00cfb\" x=\"419.951087\" y=\"39.451377\" style=\"stroke: #000000; stroke-width: 0.8\"/>\n      </g>\n     </g>\n     <g id=\"text_27\">\n      <!-- 50 -->\n      <g transform=\"translate(400.226087 43.250596) scale(0.1 -0.1)\">\n       <use xlink:href=\"#DejaVuSans-35\"/>\n       <use xlink:href=\"#DejaVuSans-30\" x=\"63.623047\"/>\n      </g>\n     </g>\n    </g>\n    <g id=\"ytick_16\">\n     <g id=\"line2d_31\">\n      <g>\n       <use xlink:href=\"#mf4ffa00cfb\" x=\"419.951087\" y=\"13.997065\" style=\"stroke: #000000; stroke-width: 0.8\"/>\n      </g>\n     </g>\n     <g id=\"text_28\">\n      <!-- 75 -->\n      <g transform=\"translate(400.226087 17.796284) scale(0.1 -0.1)\">\n       <use xlink:href=\"#DejaVuSans-37\"/>\n       <use xlink:href=\"#DejaVuSans-35\" x=\"63.623047\"/>\n      </g>\n     </g>\n    </g>\n   </g>\n   <g id=\"line2d_32\">\n    <path d=\"M 424.913538 78.096113 \nL 425.916053 73.341247 \nL 426.918568 65.287503 \nL 427.921083 51.903626 \nL 428.923599 47.011307 \nL 429.926114 40.077555 \nL 430.928629 35.668866 \nL 431.931144 34.243423 \nL 432.93366 33.362706 \nL 433.936175 31.596176 \nL 434.93869 30.695095 \nL 435.941206 30.54746 \nL 436.943721 29.946738 \nL 437.946236 29.050745 \nL 438.948751 26.759857 \nL 439.951267 25.543141 \nL 440.953782 24.636965 \nL 441.956297 23.221705 \nL 442.958812 21.226088 \nL 443.961328 20.447187 \nL 444.963843 20.610098 \nL 445.966358 20.727186 \nL 446.968874 19.989013 \nL 447.971389 18.675569 \nL 448.973904 18.222483 \nL 449.976419 18.410842 \nL 450.978935 18.278483 \nL 451.98145 17.642125 \nL 452.983965 17.066855 \nL 453.98648 16.583224 \nL 454.988996 16.415225 \nL 455.991511 15.773779 \nL 456.994026 15.142509 \nL 457.996542 15.050878 \nL 458.999057 15.300325 \nL 460.001572 15.707595 \nL 461.004087 15.692324 \nL 462.006603 15.218869 \nL 463.009118 14.684335 \nL 464.011633 14.088697 \nL 465.014148 13.676339 \nL 466.016664 13.569435 \nL 467.019179 13.78325 \nL 468.021694 14.185425 \nL 469.024209 14.205793 \nL 470.026725 13.793434 \nL 471.02924 13.513435 \nL 472.031755 13.482891 \nL 473.034271 13.37598 \nL 474.036786 13.325068 \nL 475.039301 13.477795 \nL 476.041816 13.325068 \nL 477.044332 13.106165 \nL 478.046847 13.039981 \nL 479.049362 13.050165 \nL 480.051877 13.019621 \nL 481.054393 12.75999 \nL 482.056908 12.70399 \nL 483.059423 12.673438 \nL 484.061939 12.607262 \nL 485.064454 12.571622 \nL 486.066969 12.637806 \nL 487.069484 12.459623 \nL 488.072 12.245808 \nL 489.074515 12.291623 \nL 490.07703 12.317079 \nL 491.079545 12.24072 \nL 492.082061 12.189808 \nL 493.084576 12.108352 \nL 494.087091 12.011632 \nL 495.089607 11.807993 \nL 496.092122 11.848721 \nL 497.094637 11.833449 \nL 498.097152 11.741817 \nL 499.099668 11.594178 \nL 500.102183 11.568722 \nL 501.104698 11.578906 \nL 502.107213 11.492362 \nL 503.109729 11.415995 \nL 504.112244 11.360003 \nL 505.114759 11.288723 \nL 506.117275 11.324363 \nL 507.11979 11.324363 \nL 508.122305 11.354907 \nL 509.12482 11.253091 \nL 510.127336 11.176731 \nL 511.129851 11.161451 \nL 512.132366 11.181819 \nL 513.134881 11.181819 \nL 514.137397 11.105459 \nL 515.139912 11.03418 \nL 516.142427 10.932364 \nL 517.144943 10.830548 \nL 518.147458 10.805093 \nL 519.149973 10.749093 \nL 520.152488 10.769461 \nL 521.155004 10.667645 \nL 522.157519 10.637093 \nL 523.160034 10.596373 \nL 524.162549 10.576005 \n\" clip-path=\"url(#pd492763e93)\" style=\"fill: none; stroke: #1f77b4; stroke-width: 1.5; stroke-linecap: square\"/>\n   </g>\n   <g id=\"patch_18\">\n    <path d=\"M 419.951087 90.36 \nL 419.951087 7.2 \n\" style=\"fill: none; stroke: #000000; stroke-width: 0.8; stroke-linejoin: miter; stroke-linecap: square\"/>\n   </g>\n   <g id=\"patch_19\">\n    <path d=\"M 529.125 90.36 \nL 529.125 7.2 \n\" style=\"fill: none; stroke: #000000; stroke-width: 0.8; stroke-linejoin: miter; stroke-linecap: square\"/>\n   </g>\n   <g id=\"patch_20\">\n    <path d=\"M 419.951087 90.36 \nL 529.125 90.36 \n\" style=\"fill: none; stroke: #000000; stroke-width: 0.8; stroke-linejoin: miter; stroke-linecap: square\"/>\n   </g>\n   <g id=\"patch_21\">\n    <path d=\"M 419.951087 7.2 \nL 529.125 7.2 \n\" style=\"fill: none; stroke: #000000; stroke-width: 0.8; stroke-linejoin: miter; stroke-linecap: square\"/>\n   </g>\n  </g>\n </g>\n <defs>\n  <clipPath id=\"p658194aa5e\">\n   <rect x=\"26.925\" y=\"7.2\" width=\"109.173913\" height=\"83.16\"/>\n  </clipPath>\n  <clipPath id=\"p7a3b995d18\">\n   <rect x=\"157.933696\" y=\"7.2\" width=\"109.173913\" height=\"83.16\"/>\n  </clipPath>\n  <clipPath id=\"p10dc542fc9\">\n   <rect x=\"288.942391\" y=\"7.2\" width=\"109.173913\" height=\"83.16\"/>\n  </clipPath>\n  <clipPath id=\"pd492763e93\">\n   <rect x=\"419.951087\" y=\"7.2\" width=\"109.173913\" height=\"83.16\"/>\n  </clipPath>\n </defs>\n</svg>\n",
            "text/plain": [
              "<Figure size 900x150 with 4 Axes>"
            ]
          },
          "metadata": {},
          "output_type": "display_data"
        }
      ],
      "source": [
        "plt.figure(figsize = (9, 1.5))\n",
        "ax= plt.subplot(1, 4, 1)\n",
        "plt.plot(train_losses2)\n",
        "ax.set_ylim(bottom=0)\n",
        "ax= plt.subplot(1, 4, 2)\n",
        "plt.plot(valid_losses2)\n",
        "ax.set_ylim(bottom=0)\n",
        "ax= plt.subplot(1, 4, 3)\n",
        "plt.plot(valid_accuracies2)\n",
        "ax.set_ylim(bottom=0)\n",
        "ax= plt.subplot(1, 4, 4)\n",
        "plt.plot(train_acc)\n",
        "ax.set_ylim(bottom=0)"
      ]
    },
    {
      "cell_type": "markdown",
      "metadata": {
        "id": "6Dv-mZpPyoFa"
      },
      "source": [
        "## Training wrapper \n",
        "\n",
        "Write a function that wraps what we need to train a model and look at the results. Test it with a new model. \n",
        "\n",
        "Good to notice : the call of  *model(X)* return a 2D tensor. The 2D tensor has a line for every image of the batch. The line of an image has one column per label (here 10). The tensor contains the log-probabilities that the image corresponds to the label of the\n",
        "column.\n"
      ]
    },
    {
      "cell_type": "code",
      "execution_count": null,
      "metadata": {
        "id": "QkJpo8SbyoFa"
      },
      "outputs": [],
      "source": [
        "def train(model, lr =0.0002,  epochs=30,verbose=False):\n",
        "    optimizer=th.optim.Adam(model.parameters(),lr=lr)\n",
        "    # The verbose allows you to skip printed information per epoch.\n",
        "    # The function will only print the best accuracy on the validation\n",
        "    # and plot the learning curves. \n",
        "    train_losses2 = np.zeros(Nepochs)\n",
        "    valid_losses2 = np.zeros(Nepochs)\n",
        "    valid_accuracies2 = np.zeros(Nepochs)\n",
        "    train_acc = np.zeros(Nepochs)\n",
        "    Ntrain2 = Xtrain.shape[0]\n",
        "    Nvalid = Xvalid.shape[0]\n",
        "\n",
        "    for i in range(Nepochs):\n",
        "        optimizer.zero_grad()\n",
        "        logprobs=model(Xtrain) # inference \n",
        "        loss=loss_fn(logprobs,Ytrain) # compute the loss\n",
        "        train_losses2[i] = loss.item()\n",
        "        train_acc[i] = (th.argmax(logprobs,1)==Ytrain).sum()*100/Ntrain2\n",
        "        \n",
        "        logprobsValid=model(Xvalid) #test on valid part\n",
        "        valid_losses2[i]=loss_fn(logprobsValid,Yvalid).item()\n",
        "        \n",
        "        acc = (th.argmax(logprobsValid,1)==Yvalid).sum()*100/Nvalid\n",
        "        valid_accuracies2[i] = acc\n",
        "        #print(\"Loss function: \",loss.item()) \n",
        "        loss.backward() # Back propagation\n",
        "        optimizer.step() # update the parameters\n",
        "    \n",
        "    plt.figure(figsize = (9, 1.5))\n",
        "    ax= plt.subplot(1, 4, 1)\n",
        "    plt.plot(train_losses2)\n",
        "    ax.set_ylim(bottom=0)\n",
        "    ax= plt.subplot(1, 4, 2)\n",
        "    plt.plot(valid_losses2)\n",
        "    ax.set_ylim(bottom=0)\n",
        "    ax= plt.subplot(1, 4, 3)\n",
        "    plt.plot(valid_accuracies2)\n",
        "    ax.set_ylim(bottom=0)\n",
        "    ax= plt.subplot(1, 4, 4)\n",
        "    plt.plot(train_acc)\n",
        "    ax.set_ylim(bottom=0)\n",
        "    \n",
        "    print(\"TODO\")\n",
        "\n",
        "# When we create the model, its parameters are initialized. \n",
        "model=nn.Sequential(nn.Linear(D_in,D_out),\n",
        "                    nn.LogSoftmax(dim=1))\n",
        "\n",
        "# Note this important to build a new optimizer \n",
        "# if we want to have the reference to parameters \n",
        "# of the new model ! \n",
        "#train(model)"
      ]
    },
    {
      "cell_type": "markdown",
      "metadata": {
        "id": "ydIDguoZyoFb"
      },
      "source": [
        "# Neural Network with one hidden layer\n",
        "\n",
        "Now we have a function to train and evaluate the training process of a neural model, we can explore different configurations. Let start with a neural network with one hidden layer and a Sigmoid activation function on this hidden layer. We set the size of this hidden layer to 50. \n",
        "\n",
        "Write the model using the Sequential module, and train it: \n",
        "- for 30 epochs and with lr=0.001 and lr=0.0001\n",
        "- do the same and raise the number of epoch to 50\n",
        "What do you observe ? "
      ]
    },
    {
      "cell_type": "code",
      "execution_count": null,
      "metadata": {
        "id": "P93PNoRPyoFb",
        "outputId": "46bc20e3-261b-4497-967e-59d23fceb40a"
      },
      "outputs": [
        {
          "name": "stdout",
          "output_type": "stream",
          "text": [
            "TODO\n"
          ]
        },
        {
          "data": {
            "image/svg+xml": "<?xml version=\"1.0\" encoding=\"utf-8\" standalone=\"no\"?>\n<!DOCTYPE svg PUBLIC \"-//W3C//DTD SVG 1.1//EN\"\n  \"http://www.w3.org/Graphics/SVG/1.1/DTD/svg11.dtd\">\n<svg xmlns:xlink=\"http://www.w3.org/1999/xlink\" width=\"535.546315pt\" height=\"114.238125pt\" viewBox=\"0 0 535.546315 114.238125\" xmlns=\"http://www.w3.org/2000/svg\" version=\"1.1\">\n <metadata>\n  <rdf:RDF xmlns:dc=\"http://purl.org/dc/elements/1.1/\" xmlns:cc=\"http://creativecommons.org/ns#\" xmlns:rdf=\"http://www.w3.org/1999/02/22-rdf-syntax-ns#\">\n   <cc:Work>\n    <dc:type rdf:resource=\"http://purl.org/dc/dcmitype/StillImage\"/>\n    <dc:date>2023-03-31T17:01:15.295403</dc:date>\n    <dc:format>image/svg+xml</dc:format>\n    <dc:creator>\n     <cc:Agent>\n      <dc:title>Matplotlib v3.7.1, https://matplotlib.org/</dc:title>\n     </cc:Agent>\n    </dc:creator>\n   </cc:Work>\n  </rdf:RDF>\n </metadata>\n <defs>\n  <style type=\"text/css\">*{stroke-linejoin: round; stroke-linecap: butt}</style>\n </defs>\n <g id=\"figure_1\">\n  <g id=\"patch_1\">\n   <path d=\"M 0 114.238125 \nL 535.546315 114.238125 \nL 535.546315 -0 \nL 0 -0 \nz\n\" style=\"fill: #ffffff\"/>\n  </g>\n  <g id=\"axes_1\">\n   <g id=\"patch_2\">\n    <path d=\"M 20.5625 90.36 \nL 129.736413 90.36 \nL 129.736413 7.2 \nL 20.5625 7.2 \nz\n\" style=\"fill: #ffffff\"/>\n   </g>\n   <g id=\"matplotlib.axis_1\">\n    <g id=\"xtick_1\">\n     <g id=\"line2d_1\">\n      <defs>\n       <path id=\"m0ec0810b60\" d=\"M 0 0 \nL 0 3.5 \n\" style=\"stroke: #000000; stroke-width: 0.8\"/>\n      </defs>\n      <g>\n       <use xlink:href=\"#m0ec0810b60\" x=\"25.524951\" y=\"90.36\" style=\"stroke: #000000; stroke-width: 0.8\"/>\n      </g>\n     </g>\n     <g id=\"text_1\">\n      <!-- 0 -->\n      <g transform=\"translate(22.343701 104.958438) scale(0.1 -0.1)\">\n       <defs>\n        <path id=\"DejaVuSans-30\" d=\"M 2034 4250 \nQ 1547 4250 1301 3770 \nQ 1056 3291 1056 2328 \nQ 1056 1369 1301 889 \nQ 1547 409 2034 409 \nQ 2525 409 2770 889 \nQ 3016 1369 3016 2328 \nQ 3016 3291 2770 3770 \nQ 2525 4250 2034 4250 \nz\nM 2034 4750 \nQ 2819 4750 3233 4129 \nQ 3647 3509 3647 2328 \nQ 3647 1150 3233 529 \nQ 2819 -91 2034 -91 \nQ 1250 -91 836 529 \nQ 422 1150 422 2328 \nQ 422 3509 836 4129 \nQ 1250 4750 2034 4750 \nz\n\" transform=\"scale(0.015625)\"/>\n       </defs>\n       <use xlink:href=\"#DejaVuSans-30\"/>\n      </g>\n     </g>\n    </g>\n    <g id=\"xtick_2\">\n     <g id=\"line2d_2\">\n      <g>\n       <use xlink:href=\"#m0ec0810b60\" x=\"75.650714\" y=\"90.36\" style=\"stroke: #000000; stroke-width: 0.8\"/>\n      </g>\n     </g>\n     <g id=\"text_2\">\n      <!-- 50 -->\n      <g transform=\"translate(69.288214 104.958438) scale(0.1 -0.1)\">\n       <defs>\n        <path id=\"DejaVuSans-35\" d=\"M 691 4666 \nL 3169 4666 \nL 3169 4134 \nL 1269 4134 \nL 1269 2991 \nQ 1406 3038 1543 3061 \nQ 1681 3084 1819 3084 \nQ 2600 3084 3056 2656 \nQ 3513 2228 3513 1497 \nQ 3513 744 3044 326 \nQ 2575 -91 1722 -91 \nQ 1428 -91 1123 -41 \nQ 819 9 494 109 \nL 494 744 \nQ 775 591 1075 516 \nQ 1375 441 1709 441 \nQ 2250 441 2565 725 \nQ 2881 1009 2881 1497 \nQ 2881 1984 2565 2268 \nQ 2250 2553 1709 2553 \nQ 1456 2553 1204 2497 \nQ 953 2441 691 2322 \nL 691 4666 \nz\n\" transform=\"scale(0.015625)\"/>\n       </defs>\n       <use xlink:href=\"#DejaVuSans-35\"/>\n       <use xlink:href=\"#DejaVuSans-30\" x=\"63.623047\"/>\n      </g>\n     </g>\n    </g>\n    <g id=\"xtick_3\">\n     <g id=\"line2d_3\">\n      <g>\n       <use xlink:href=\"#m0ec0810b60\" x=\"125.776478\" y=\"90.36\" style=\"stroke: #000000; stroke-width: 0.8\"/>\n      </g>\n     </g>\n     <g id=\"text_3\">\n      <!-- 100 -->\n      <g transform=\"translate(116.232728 104.958438) scale(0.1 -0.1)\">\n       <defs>\n        <path id=\"DejaVuSans-31\" d=\"M 794 531 \nL 1825 531 \nL 1825 4091 \nL 703 3866 \nL 703 4441 \nL 1819 4666 \nL 2450 4666 \nL 2450 531 \nL 3481 531 \nL 3481 0 \nL 794 0 \nL 794 531 \nz\n\" transform=\"scale(0.015625)\"/>\n       </defs>\n       <use xlink:href=\"#DejaVuSans-31\"/>\n       <use xlink:href=\"#DejaVuSans-30\" x=\"63.623047\"/>\n       <use xlink:href=\"#DejaVuSans-30\" x=\"127.246094\"/>\n      </g>\n     </g>\n    </g>\n   </g>\n   <g id=\"matplotlib.axis_2\">\n    <g id=\"ytick_1\">\n     <g id=\"line2d_4\">\n      <defs>\n       <path id=\"mfee439e720\" d=\"M 0 0 \nL -3.5 0 \n\" style=\"stroke: #000000; stroke-width: 0.8\"/>\n      </defs>\n      <g>\n       <use xlink:href=\"#mfee439e720\" x=\"20.5625\" y=\"90.36\" style=\"stroke: #000000; stroke-width: 0.8\"/>\n      </g>\n     </g>\n     <g id=\"text_4\">\n      <!-- 0 -->\n      <g transform=\"translate(7.2 94.159219) scale(0.1 -0.1)\">\n       <use xlink:href=\"#DejaVuSans-30\"/>\n      </g>\n     </g>\n    </g>\n    <g id=\"ytick_2\">\n     <g id=\"line2d_5\">\n      <g>\n       <use xlink:href=\"#mfee439e720\" x=\"20.5625\" y=\"55.918405\" style=\"stroke: #000000; stroke-width: 0.8\"/>\n      </g>\n     </g>\n     <g id=\"text_5\">\n      <!-- 1 -->\n      <g transform=\"translate(7.2 59.717623) scale(0.1 -0.1)\">\n       <use xlink:href=\"#DejaVuSans-31\"/>\n      </g>\n     </g>\n    </g>\n    <g id=\"ytick_3\">\n     <g id=\"line2d_6\">\n      <g>\n       <use xlink:href=\"#mfee439e720\" x=\"20.5625\" y=\"21.476809\" style=\"stroke: #000000; stroke-width: 0.8\"/>\n      </g>\n     </g>\n     <g id=\"text_6\">\n      <!-- 2 -->\n      <g transform=\"translate(7.2 25.276028) scale(0.1 -0.1)\">\n       <defs>\n        <path id=\"DejaVuSans-32\" d=\"M 1228 531 \nL 3431 531 \nL 3431 0 \nL 469 0 \nL 469 531 \nQ 828 903 1448 1529 \nQ 2069 2156 2228 2338 \nQ 2531 2678 2651 2914 \nQ 2772 3150 2772 3378 \nQ 2772 3750 2511 3984 \nQ 2250 4219 1831 4219 \nQ 1534 4219 1204 4116 \nQ 875 4013 500 3803 \nL 500 4441 \nQ 881 4594 1212 4672 \nQ 1544 4750 1819 4750 \nQ 2544 4750 2975 4387 \nQ 3406 4025 3406 3419 \nQ 3406 3131 3298 2873 \nQ 3191 2616 2906 2266 \nQ 2828 2175 2409 1742 \nQ 1991 1309 1228 531 \nz\n\" transform=\"scale(0.015625)\"/>\n       </defs>\n       <use xlink:href=\"#DejaVuSans-32\"/>\n      </g>\n     </g>\n    </g>\n   </g>\n   <g id=\"line2d_7\">\n    <path d=\"M 25.524951 8.626838 \nL 26.527466 9.734859 \nL 27.529981 10.766143 \nL 28.532496 11.746935 \nL 29.535012 12.6868 \nL 30.537527 13.537152 \nL 31.540042 14.316022 \nL 32.542557 14.996486 \nL 33.545073 15.569707 \nL 34.547588 16.095515 \nL 35.550103 16.56551 \nL 36.552619 16.993445 \nL 37.555134 17.390972 \nL 38.557649 17.776339 \nL 39.560164 18.163077 \nL 40.56268 18.556917 \nL 41.565195 18.958034 \nL 42.56771 19.357458 \nL 43.570225 19.755676 \nL 44.572741 20.156595 \nL 45.575256 20.572927 \nL 46.577771 20.983117 \nL 47.580287 21.394514 \nL 48.582802 21.794776 \nL 49.585317 22.193268 \nL 50.587832 22.581004 \nL 51.590348 22.952456 \nL 52.592863 23.311402 \nL 53.595378 23.654992 \nL 54.597893 23.997827 \nL 55.600409 24.342883 \nL 56.602924 24.672571 \nL 57.605439 24.997743 \nL 58.607955 25.31665 \nL 59.61047 25.627386 \nL 60.612985 25.931327 \nL 61.6155 26.227451 \nL 62.618016 26.522757 \nL 63.620531 26.813297 \nL 64.623046 27.105204 \nL 65.625561 27.378007 \nL 66.628077 27.643067 \nL 67.630592 27.892627 \nL 68.633107 28.126676 \nL 69.635623 28.344704 \nL 70.638138 28.554147 \nL 71.640653 28.764838 \nL 72.643168 28.978305 \nL 73.645684 29.196612 \nL 74.648199 29.417789 \nL 75.650714 29.634569 \nL 76.653229 29.830007 \nL 77.655745 30.008283 \nL 78.65826 30.174497 \nL 79.660775 30.336769 \nL 80.663291 30.500987 \nL 81.665806 30.67273 \nL 82.668321 30.848933 \nL 83.670836 31.024052 \nL 84.673352 31.200797 \nL 85.675867 31.37741 \nL 86.678382 31.553231 \nL 87.680897 31.733515 \nL 88.683413 31.918972 \nL 89.685928 32.106917 \nL 90.688443 32.299206 \nL 91.690958 32.483522 \nL 92.693474 32.66989 \nL 93.695989 32.862742 \nL 94.698504 33.067783 \nL 95.70102 33.284941 \nL 96.703535 33.504771 \nL 97.70605 33.68928 \nL 98.708565 33.873181 \nL 99.711081 34.046465 \nL 100.713596 34.215733 \nL 101.716111 34.386097 \nL 102.718626 34.558822 \nL 103.721142 34.731781 \nL 104.723657 34.899198 \nL 105.726172 35.061067 \nL 106.728688 35.209334 \nL 107.731203 35.347349 \nL 108.733718 35.47751 \nL 109.736233 35.597526 \nL 110.738749 35.712224 \nL 111.741264 35.826303 \nL 112.743779 35.939153 \nL 113.746294 36.049336 \nL 114.74881 36.157974 \nL 115.751325 36.265356 \nL 116.75384 36.371133 \nL 117.756356 36.476909 \nL 118.758871 36.58129 \nL 119.761386 36.682727 \nL 120.763901 36.781766 \nL 121.766417 36.879454 \nL 122.768932 36.97596 \nL 123.771447 37.07006 \nL 124.773962 37.163589 \n\" clip-path=\"url(#p33fcd8ed47)\" style=\"fill: none; stroke: #1f77b4; stroke-width: 1.5; stroke-linecap: square\"/>\n   </g>\n   <g id=\"patch_3\">\n    <path d=\"M 20.5625 90.36 \nL 20.5625 7.2 \n\" style=\"fill: none; stroke: #000000; stroke-width: 0.8; stroke-linejoin: miter; stroke-linecap: square\"/>\n   </g>\n   <g id=\"patch_4\">\n    <path d=\"M 129.736413 90.36 \nL 129.736413 7.2 \n\" style=\"fill: none; stroke: #000000; stroke-width: 0.8; stroke-linejoin: miter; stroke-linecap: square\"/>\n   </g>\n   <g id=\"patch_5\">\n    <path d=\"M 20.5625 90.36 \nL 129.736413 90.36 \n\" style=\"fill: none; stroke: #000000; stroke-width: 0.8; stroke-linejoin: miter; stroke-linecap: square\"/>\n   </g>\n   <g id=\"patch_6\">\n    <path d=\"M 20.5625 7.2 \nL 129.736413 7.2 \n\" style=\"fill: none; stroke: #000000; stroke-width: 0.8; stroke-linejoin: miter; stroke-linecap: square\"/>\n   </g>\n  </g>\n  <g id=\"axes_2\">\n   <g id=\"patch_7\">\n    <path d=\"M 151.571196 90.36 \nL 260.745109 90.36 \nL 260.745109 7.2 \nL 151.571196 7.2 \nz\n\" style=\"fill: #ffffff\"/>\n   </g>\n   <g id=\"matplotlib.axis_3\">\n    <g id=\"xtick_4\">\n     <g id=\"line2d_8\">\n      <g>\n       <use xlink:href=\"#m0ec0810b60\" x=\"156.533646\" y=\"90.36\" style=\"stroke: #000000; stroke-width: 0.8\"/>\n      </g>\n     </g>\n     <g id=\"text_7\">\n      <!-- 0 -->\n      <g transform=\"translate(153.352396 104.958438) scale(0.1 -0.1)\">\n       <use xlink:href=\"#DejaVuSans-30\"/>\n      </g>\n     </g>\n    </g>\n    <g id=\"xtick_5\">\n     <g id=\"line2d_9\">\n      <g>\n       <use xlink:href=\"#m0ec0810b60\" x=\"206.65941\" y=\"90.36\" style=\"stroke: #000000; stroke-width: 0.8\"/>\n      </g>\n     </g>\n     <g id=\"text_8\">\n      <!-- 50 -->\n      <g transform=\"translate(200.29691 104.958438) scale(0.1 -0.1)\">\n       <use xlink:href=\"#DejaVuSans-35\"/>\n       <use xlink:href=\"#DejaVuSans-30\" x=\"63.623047\"/>\n      </g>\n     </g>\n    </g>\n    <g id=\"xtick_6\">\n     <g id=\"line2d_10\">\n      <g>\n       <use xlink:href=\"#m0ec0810b60\" x=\"256.785173\" y=\"90.36\" style=\"stroke: #000000; stroke-width: 0.8\"/>\n      </g>\n     </g>\n     <g id=\"text_9\">\n      <!-- 100 -->\n      <g transform=\"translate(247.241423 104.958438) scale(0.1 -0.1)\">\n       <use xlink:href=\"#DejaVuSans-31\"/>\n       <use xlink:href=\"#DejaVuSans-30\" x=\"63.623047\"/>\n       <use xlink:href=\"#DejaVuSans-30\" x=\"127.246094\"/>\n      </g>\n     </g>\n    </g>\n   </g>\n   <g id=\"matplotlib.axis_4\">\n    <g id=\"ytick_4\">\n     <g id=\"line2d_11\">\n      <g>\n       <use xlink:href=\"#mfee439e720\" x=\"151.571196\" y=\"90.36\" style=\"stroke: #000000; stroke-width: 0.8\"/>\n      </g>\n     </g>\n     <g id=\"text_10\">\n      <!-- 0 -->\n      <g transform=\"translate(138.208696 94.159219) scale(0.1 -0.1)\">\n       <use xlink:href=\"#DejaVuSans-30\"/>\n      </g>\n     </g>\n    </g>\n    <g id=\"ytick_5\">\n     <g id=\"line2d_12\">\n      <g>\n       <use xlink:href=\"#mfee439e720\" x=\"151.571196\" y=\"55.854084\" style=\"stroke: #000000; stroke-width: 0.8\"/>\n      </g>\n     </g>\n     <g id=\"text_11\">\n      <!-- 1 -->\n      <g transform=\"translate(138.208696 59.653303) scale(0.1 -0.1)\">\n       <use xlink:href=\"#DejaVuSans-31\"/>\n      </g>\n     </g>\n    </g>\n    <g id=\"ytick_6\">\n     <g id=\"line2d_13\">\n      <g>\n       <use xlink:href=\"#mfee439e720\" x=\"151.571196\" y=\"21.348169\" style=\"stroke: #000000; stroke-width: 0.8\"/>\n      </g>\n     </g>\n     <g id=\"text_12\">\n      <!-- 2 -->\n      <g transform=\"translate(138.208696 25.147388) scale(0.1 -0.1)\">\n       <use xlink:href=\"#DejaVuSans-32\"/>\n      </g>\n     </g>\n    </g>\n   </g>\n   <g id=\"line2d_14\">\n    <path d=\"M 156.533646 8.616244 \nL 157.536162 9.666328 \nL 158.538677 10.681505 \nL 159.541192 11.659579 \nL 160.543707 12.580007 \nL 161.546223 13.414597 \nL 162.548738 14.166843 \nL 163.551253 14.826645 \nL 164.553768 15.39262 \nL 165.556284 15.898448 \nL 166.558799 16.355745 \nL 167.561314 16.778021 \nL 168.56383 17.181779 \nL 169.566345 17.565084 \nL 170.56886 17.946399 \nL 171.571375 18.338005 \nL 172.573891 18.738357 \nL 173.576406 19.131526 \nL 174.578921 19.520393 \nL 175.581436 19.927803 \nL 176.583952 20.328944 \nL 177.586467 20.740295 \nL 178.588982 21.142736 \nL 179.591497 21.540661 \nL 180.594013 21.947392 \nL 181.596528 22.342544 \nL 182.599043 22.74088 \nL 183.601559 23.107588 \nL 184.604074 23.469035 \nL 185.606589 23.814316 \nL 186.609104 24.148634 \nL 187.61162 24.48204 \nL 188.614135 24.815211 \nL 189.61665 25.134372 \nL 190.619165 25.444647 \nL 191.621681 25.751513 \nL 192.624196 26.04828 \nL 193.626711 26.34464 \nL 194.629227 26.640852 \nL 195.631742 26.939524 \nL 196.634257 27.21732 \nL 197.636772 27.477807 \nL 198.639288 27.721371 \nL 199.641803 27.947293 \nL 200.644318 28.158443 \nL 201.646833 28.368141 \nL 202.649349 28.574989 \nL 203.651864 28.78827 \nL 204.654379 29.004229 \nL 205.656895 29.219616 \nL 206.65941 29.427155 \nL 207.661925 29.625241 \nL 208.66444 29.816676 \nL 209.666956 29.989584 \nL 210.669471 30.158633 \nL 211.671986 30.325013 \nL 212.674501 30.498558 \nL 213.677017 30.674605 \nL 214.679532 30.847492 \nL 215.682047 31.02265 \nL 216.684563 31.203024 \nL 217.687078 31.384759 \nL 218.689593 31.567165 \nL 219.692108 31.758435 \nL 220.694624 31.953448 \nL 221.697139 32.138413 \nL 222.699654 32.322089 \nL 223.702169 32.513298 \nL 224.704685 32.707678 \nL 225.7072 32.911572 \nL 226.709715 33.107544 \nL 227.712231 33.326526 \nL 228.714746 33.513103 \nL 229.717261 33.693423 \nL 230.719776 33.866734 \nL 231.722292 34.039391 \nL 232.724807 34.213858 \nL 233.727322 34.379839 \nL 234.729837 34.545523 \nL 235.732353 34.7099 \nL 236.734868 34.863277 \nL 237.737383 35.012216 \nL 238.739898 35.143969 \nL 239.742414 35.269667 \nL 240.744929 35.392873 \nL 241.747444 35.516646 \nL 242.74996 35.636573 \nL 243.752475 35.751189 \nL 244.75499 35.862889 \nL 245.757505 35.971303 \nL 246.760021 36.075903 \nL 247.762536 36.181359 \nL 248.765051 36.286839 \nL 249.767566 36.388305 \nL 250.770082 36.486028 \nL 251.772597 36.580061 \nL 252.775112 36.67063 \nL 253.777628 36.760389 \nL 254.780143 36.851267 \nL 255.782658 36.941133 \n\" clip-path=\"url(#pea981d6ef4)\" style=\"fill: none; stroke: #1f77b4; stroke-width: 1.5; stroke-linecap: square\"/>\n   </g>\n   <g id=\"patch_8\">\n    <path d=\"M 151.571196 90.36 \nL 151.571196 7.2 \n\" style=\"fill: none; stroke: #000000; stroke-width: 0.8; stroke-linejoin: miter; stroke-linecap: square\"/>\n   </g>\n   <g id=\"patch_9\">\n    <path d=\"M 260.745109 90.36 \nL 260.745109 7.2 \n\" style=\"fill: none; stroke: #000000; stroke-width: 0.8; stroke-linejoin: miter; stroke-linecap: square\"/>\n   </g>\n   <g id=\"patch_10\">\n    <path d=\"M 151.571196 90.36 \nL 260.745109 90.36 \n\" style=\"fill: none; stroke: #000000; stroke-width: 0.8; stroke-linejoin: miter; stroke-linecap: square\"/>\n   </g>\n   <g id=\"patch_11\">\n    <path d=\"M 151.571196 7.2 \nL 260.745109 7.2 \n\" style=\"fill: none; stroke: #000000; stroke-width: 0.8; stroke-linejoin: miter; stroke-linecap: square\"/>\n   </g>\n  </g>\n  <g id=\"axes_3\">\n   <g id=\"patch_12\">\n    <path d=\"M 282.579891 90.36 \nL 391.753804 90.36 \nL 391.753804 7.2 \nL 282.579891 7.2 \nz\n\" style=\"fill: #ffffff\"/>\n   </g>\n   <g id=\"matplotlib.axis_5\">\n    <g id=\"xtick_7\">\n     <g id=\"line2d_15\">\n      <g>\n       <use xlink:href=\"#m0ec0810b60\" x=\"287.542342\" y=\"90.36\" style=\"stroke: #000000; stroke-width: 0.8\"/>\n      </g>\n     </g>\n     <g id=\"text_13\">\n      <!-- 0 -->\n      <g transform=\"translate(284.361092 104.958438) scale(0.1 -0.1)\">\n       <use xlink:href=\"#DejaVuSans-30\"/>\n      </g>\n     </g>\n    </g>\n    <g id=\"xtick_8\">\n     <g id=\"line2d_16\">\n      <g>\n       <use xlink:href=\"#m0ec0810b60\" x=\"337.668105\" y=\"90.36\" style=\"stroke: #000000; stroke-width: 0.8\"/>\n      </g>\n     </g>\n     <g id=\"text_14\">\n      <!-- 50 -->\n      <g transform=\"translate(331.305605 104.958438) scale(0.1 -0.1)\">\n       <use xlink:href=\"#DejaVuSans-35\"/>\n       <use xlink:href=\"#DejaVuSans-30\" x=\"63.623047\"/>\n      </g>\n     </g>\n    </g>\n    <g id=\"xtick_9\">\n     <g id=\"line2d_17\">\n      <g>\n       <use xlink:href=\"#m0ec0810b60\" x=\"387.793869\" y=\"90.36\" style=\"stroke: #000000; stroke-width: 0.8\"/>\n      </g>\n     </g>\n     <g id=\"text_15\">\n      <!-- 100 -->\n      <g transform=\"translate(378.250119 104.958438) scale(0.1 -0.1)\">\n       <use xlink:href=\"#DejaVuSans-31\"/>\n       <use xlink:href=\"#DejaVuSans-30\" x=\"63.623047\"/>\n       <use xlink:href=\"#DejaVuSans-30\" x=\"127.246094\"/>\n      </g>\n     </g>\n    </g>\n   </g>\n   <g id=\"matplotlib.axis_6\">\n    <g id=\"ytick_7\">\n     <g id=\"line2d_18\">\n      <g>\n       <use xlink:href=\"#mfee439e720\" x=\"282.579891\" y=\"90.36\" style=\"stroke: #000000; stroke-width: 0.8\"/>\n      </g>\n     </g>\n     <g id=\"text_16\">\n      <!-- 0 -->\n      <g transform=\"translate(269.217391 94.159219) scale(0.1 -0.1)\">\n       <use xlink:href=\"#DejaVuSans-30\"/>\n      </g>\n     </g>\n    </g>\n    <g id=\"ytick_8\">\n     <g id=\"line2d_19\">\n      <g>\n       <use xlink:href=\"#mfee439e720\" x=\"282.579891\" y=\"66.555793\" style=\"stroke: #000000; stroke-width: 0.8\"/>\n      </g>\n     </g>\n     <g id=\"text_17\">\n      <!-- 20 -->\n      <g transform=\"translate(262.854891 70.355012) scale(0.1 -0.1)\">\n       <use xlink:href=\"#DejaVuSans-32\"/>\n       <use xlink:href=\"#DejaVuSans-30\" x=\"63.623047\"/>\n      </g>\n     </g>\n    </g>\n    <g id=\"ytick_9\">\n     <g id=\"line2d_20\">\n      <g>\n       <use xlink:href=\"#mfee439e720\" x=\"282.579891\" y=\"42.751587\" style=\"stroke: #000000; stroke-width: 0.8\"/>\n      </g>\n     </g>\n     <g id=\"text_18\">\n      <!-- 40 -->\n      <g transform=\"translate(262.854891 46.550805) scale(0.1 -0.1)\">\n       <defs>\n        <path id=\"DejaVuSans-34\" d=\"M 2419 4116 \nL 825 1625 \nL 2419 1625 \nL 2419 4116 \nz\nM 2253 4666 \nL 3047 4666 \nL 3047 1625 \nL 3713 1625 \nL 3713 1100 \nL 3047 1100 \nL 3047 0 \nL 2419 0 \nL 2419 1100 \nL 313 1100 \nL 313 1709 \nL 2253 4666 \nz\n\" transform=\"scale(0.015625)\"/>\n       </defs>\n       <use xlink:href=\"#DejaVuSans-34\"/>\n       <use xlink:href=\"#DejaVuSans-30\" x=\"63.623047\"/>\n      </g>\n     </g>\n    </g>\n    <g id=\"ytick_10\">\n     <g id=\"line2d_21\">\n      <g>\n       <use xlink:href=\"#mfee439e720\" x=\"282.579891\" y=\"18.94738\" style=\"stroke: #000000; stroke-width: 0.8\"/>\n      </g>\n     </g>\n     <g id=\"text_19\">\n      <!-- 60 -->\n      <g transform=\"translate(262.854891 22.746599) scale(0.1 -0.1)\">\n       <defs>\n        <path id=\"DejaVuSans-36\" d=\"M 2113 2584 \nQ 1688 2584 1439 2293 \nQ 1191 2003 1191 1497 \nQ 1191 994 1439 701 \nQ 1688 409 2113 409 \nQ 2538 409 2786 701 \nQ 3034 994 3034 1497 \nQ 3034 2003 2786 2293 \nQ 2538 2584 2113 2584 \nz\nM 3366 4563 \nL 3366 3988 \nQ 3128 4100 2886 4159 \nQ 2644 4219 2406 4219 \nQ 1781 4219 1451 3797 \nQ 1122 3375 1075 2522 \nQ 1259 2794 1537 2939 \nQ 1816 3084 2150 3084 \nQ 2853 3084 3261 2657 \nQ 3669 2231 3669 1497 \nQ 3669 778 3244 343 \nQ 2819 -91 2113 -91 \nQ 1303 -91 875 529 \nQ 447 1150 447 2328 \nQ 447 3434 972 4092 \nQ 1497 4750 2381 4750 \nQ 2619 4750 2861 4703 \nQ 3103 4656 3366 4563 \nz\n\" transform=\"scale(0.015625)\"/>\n       </defs>\n       <use xlink:href=\"#DejaVuSans-36\"/>\n       <use xlink:href=\"#DejaVuSans-30\" x=\"63.623047\"/>\n      </g>\n     </g>\n    </g>\n   </g>\n   <g id=\"line2d_22\">\n    <path d=\"M 287.542342 83.932864 \nL 288.544857 82.266569 \nL 289.547372 79.338652 \nL 290.549888 76.601168 \nL 291.552403 73.185264 \nL 292.554918 69.328983 \nL 293.557434 65.841667 \nL 294.559949 63.282715 \nL 295.562464 60.569034 \nL 296.564979 57.843454 \nL 297.567495 55.986726 \nL 298.57001 54.213311 \nL 299.572525 52.463703 \nL 300.57504 50.321325 \nL 301.577556 48.369381 \nL 302.580071 46.084175 \nL 303.582586 44.12033 \nL 304.585102 41.76371 \nL 305.587617 39.657041 \nL 306.590132 37.526564 \nL 307.592647 36.098311 \nL 308.595163 34.610548 \nL 309.597678 33.765499 \nL 310.600193 33.122785 \nL 311.602708 32.361051 \nL 312.605224 31.611217 \nL 313.607739 31.182741 \nL 314.610254 30.480516 \nL 315.612769 30.182964 \nL 316.615285 29.944925 \nL 317.6178 29.433135 \nL 318.620315 28.909439 \nL 319.622831 28.266729 \nL 320.625346 27.576405 \nL 321.627861 27.064614 \nL 322.630376 26.588528 \nL 323.632892 26.052937 \nL 324.635407 25.612556 \nL 325.637922 25.326908 \nL 326.640437 24.957941 \nL 327.642953 24.48186 \nL 328.645468 23.993874 \nL 329.647983 23.208335 \nL 330.650499 22.410892 \nL 331.653014 21.720572 \nL 332.655529 21.030248 \nL 333.658044 20.399438 \nL 334.66056 19.697214 \nL 335.663075 19.185423 \nL 336.66559 18.590318 \nL 337.668105 18.138036 \nL 338.670621 17.519127 \nL 339.673136 16.805002 \nL 340.675651 16.47174 \nL 341.678167 16.055168 \nL 342.680682 15.936149 \nL 343.683197 15.745716 \nL 344.685712 15.721911 \nL 345.688228 15.638597 \nL 346.690743 15.555282 \nL 347.693258 15.650497 \nL 348.695773 15.436258 \nL 349.698289 15.352944 \nL 350.700804 15.364849 \nL 351.703319 15.400554 \nL 352.705835 15.590987 \nL 353.70835 15.924244 \nL 354.710865 15.971854 \nL 355.71338 15.781421 \nL 356.715896 15.638597 \nL 357.718411 15.293434 \nL 358.720926 14.805448 \nL 359.723441 14.484091 \nL 360.725957 14.246048 \nL 361.728472 14.222243 \nL 362.730987 14.138929 \nL 363.733503 13.936595 \nL 364.736018 13.746157 \nL 365.738533 13.722357 \nL 366.741048 13.329586 \nL 367.743564 13.305785 \nL 368.746079 13.067738 \nL 369.748594 12.889214 \nL 370.751109 12.746385 \nL 371.753625 12.627366 \nL 372.75614 12.448832 \nL 373.758655 12.127471 \nL 374.76117 11.901337 \nL 375.763686 11.722803 \nL 376.766201 11.639489 \nL 377.768716 11.556175 \nL 378.771232 11.449051 \nL 379.773747 11.449051 \nL 380.776262 11.282422 \nL 381.778777 11.127698 \nL 382.781293 11.199108 \nL 383.783808 11.175308 \nL 384.786323 11.139603 \nL 385.788838 11.008679 \nL 386.791354 10.853946 \n\" clip-path=\"url(#p28e303625f)\" style=\"fill: none; stroke: #1f77b4; stroke-width: 1.5; stroke-linecap: square\"/>\n   </g>\n   <g id=\"patch_13\">\n    <path d=\"M 282.579891 90.36 \nL 282.579891 7.2 \n\" style=\"fill: none; stroke: #000000; stroke-width: 0.8; stroke-linejoin: miter; stroke-linecap: square\"/>\n   </g>\n   <g id=\"patch_14\">\n    <path d=\"M 391.753804 90.36 \nL 391.753804 7.2 \n\" style=\"fill: none; stroke: #000000; stroke-width: 0.8; stroke-linejoin: miter; stroke-linecap: square\"/>\n   </g>\n   <g id=\"patch_15\">\n    <path d=\"M 282.579891 90.36 \nL 391.753804 90.36 \n\" style=\"fill: none; stroke: #000000; stroke-width: 0.8; stroke-linejoin: miter; stroke-linecap: square\"/>\n   </g>\n   <g id=\"patch_16\">\n    <path d=\"M 282.579891 7.2 \nL 391.753804 7.2 \n\" style=\"fill: none; stroke: #000000; stroke-width: 0.8; stroke-linejoin: miter; stroke-linecap: square\"/>\n   </g>\n  </g>\n  <g id=\"axes_4\">\n   <g id=\"patch_17\">\n    <path d=\"M 413.588587 90.36 \nL 522.7625 90.36 \nL 522.7625 7.2 \nL 413.588587 7.2 \nz\n\" style=\"fill: #ffffff\"/>\n   </g>\n   <g id=\"matplotlib.axis_7\">\n    <g id=\"xtick_10\">\n     <g id=\"line2d_23\">\n      <g>\n       <use xlink:href=\"#m0ec0810b60\" x=\"418.551038\" y=\"90.36\" style=\"stroke: #000000; stroke-width: 0.8\"/>\n      </g>\n     </g>\n     <g id=\"text_20\">\n      <!-- 0 -->\n      <g transform=\"translate(415.369788 104.958438) scale(0.1 -0.1)\">\n       <use xlink:href=\"#DejaVuSans-30\"/>\n      </g>\n     </g>\n    </g>\n    <g id=\"xtick_11\">\n     <g id=\"line2d_24\">\n      <g>\n       <use xlink:href=\"#m0ec0810b60\" x=\"468.676801\" y=\"90.36\" style=\"stroke: #000000; stroke-width: 0.8\"/>\n      </g>\n     </g>\n     <g id=\"text_21\">\n      <!-- 50 -->\n      <g transform=\"translate(462.314301 104.958438) scale(0.1 -0.1)\">\n       <use xlink:href=\"#DejaVuSans-35\"/>\n       <use xlink:href=\"#DejaVuSans-30\" x=\"63.623047\"/>\n      </g>\n     </g>\n    </g>\n    <g id=\"xtick_12\">\n     <g id=\"line2d_25\">\n      <g>\n       <use xlink:href=\"#m0ec0810b60\" x=\"518.802565\" y=\"90.36\" style=\"stroke: #000000; stroke-width: 0.8\"/>\n      </g>\n     </g>\n     <g id=\"text_22\">\n      <!-- 100 -->\n      <g transform=\"translate(509.258815 104.958438) scale(0.1 -0.1)\">\n       <use xlink:href=\"#DejaVuSans-31\"/>\n       <use xlink:href=\"#DejaVuSans-30\" x=\"63.623047\"/>\n       <use xlink:href=\"#DejaVuSans-30\" x=\"127.246094\"/>\n      </g>\n     </g>\n    </g>\n   </g>\n   <g id=\"matplotlib.axis_8\">\n    <g id=\"ytick_11\">\n     <g id=\"line2d_26\">\n      <g>\n       <use xlink:href=\"#mfee439e720\" x=\"413.588587\" y=\"90.36\" style=\"stroke: #000000; stroke-width: 0.8\"/>\n      </g>\n     </g>\n     <g id=\"text_23\">\n      <!-- 0 -->\n      <g transform=\"translate(400.226087 94.159219) scale(0.1 -0.1)\">\n       <use xlink:href=\"#DejaVuSans-30\"/>\n      </g>\n     </g>\n    </g>\n    <g id=\"ytick_12\">\n     <g id=\"line2d_27\">\n      <g>\n       <use xlink:href=\"#mfee439e720\" x=\"413.588587\" y=\"66.700048\" style=\"stroke: #000000; stroke-width: 0.8\"/>\n      </g>\n     </g>\n     <g id=\"text_24\">\n      <!-- 20 -->\n      <g transform=\"translate(393.863587 70.499267) scale(0.1 -0.1)\">\n       <use xlink:href=\"#DejaVuSans-32\"/>\n       <use xlink:href=\"#DejaVuSans-30\" x=\"63.623047\"/>\n      </g>\n     </g>\n    </g>\n    <g id=\"ytick_13\">\n     <g id=\"line2d_28\">\n      <g>\n       <use xlink:href=\"#mfee439e720\" x=\"413.588587\" y=\"43.040097\" style=\"stroke: #000000; stroke-width: 0.8\"/>\n      </g>\n     </g>\n     <g id=\"text_25\">\n      <!-- 40 -->\n      <g transform=\"translate(393.863587 46.839316) scale(0.1 -0.1)\">\n       <use xlink:href=\"#DejaVuSans-34\"/>\n       <use xlink:href=\"#DejaVuSans-30\" x=\"63.623047\"/>\n      </g>\n     </g>\n    </g>\n    <g id=\"ytick_14\">\n     <g id=\"line2d_29\">\n      <g>\n       <use xlink:href=\"#mfee439e720\" x=\"413.588587\" y=\"19.380145\" style=\"stroke: #000000; stroke-width: 0.8\"/>\n      </g>\n     </g>\n     <g id=\"text_26\">\n      <!-- 60 -->\n      <g transform=\"translate(393.863587 23.179364) scale(0.1 -0.1)\">\n       <use xlink:href=\"#DejaVuSans-36\"/>\n       <use xlink:href=\"#DejaVuSans-30\" x=\"63.623047\"/>\n      </g>\n     </g>\n    </g>\n   </g>\n   <g id=\"line2d_30\">\n    <path d=\"M 418.551038 83.989558 \nL 419.553553 82.132252 \nL 420.556068 79.352207 \nL 421.558583 76.589908 \nL 422.561099 73.667905 \nL 423.563614 70.385086 \nL 424.566129 67.202822 \nL 425.568644 64.061964 \nL 426.57116 61.678223 \nL 427.573675 59.241248 \nL 428.57619 57.241982 \nL 429.578706 55.136248 \nL 430.581221 52.953616 \nL 431.583736 50.759158 \nL 432.586251 48.724401 \nL 433.588767 46.736964 \nL 434.591282 44.773189 \nL 435.593797 42.265235 \nL 436.596312 40.212733 \nL 437.598828 38.426405 \nL 438.601343 36.421224 \nL 439.603858 34.623067 \nL 440.606374 33.386837 \nL 441.608889 32.434523 \nL 442.611404 31.860769 \nL 443.613919 31.529531 \nL 444.616435 31.393484 \nL 445.61895 30.790158 \nL 446.621465 30.092189 \nL 447.62398 29.672225 \nL 448.626496 29.270006 \nL 449.629011 29.169452 \nL 450.631526 28.7554 \nL 451.634042 28.021943 \nL 452.636557 27.513254 \nL 453.639072 27.193844 \nL 454.641587 26.744303 \nL 455.644103 26.016762 \nL 456.646618 25.756502 \nL 457.649133 25.034872 \nL 458.651648 24.68589 \nL 459.654164 24.118052 \nL 460.656679 23.633023 \nL 461.659194 23.130245 \nL 462.661709 22.319895 \nL 463.664225 21.474052 \nL 464.66674 20.906213 \nL 465.669255 20.243733 \nL 466.671771 19.409722 \nL 467.674286 18.871456 \nL 468.676801 18.220808 \nL 469.679316 17.428198 \nL 470.681832 17.049639 \nL 471.684347 16.747978 \nL 472.686862 16.4818 \nL 473.689377 16.286605 \nL 474.691893 16.203795 \nL 475.694408 15.848897 \nL 476.696923 15.718766 \nL 477.699439 15.647789 \nL 478.701954 15.517659 \nL 479.704469 15.48217 \nL 480.706984 15.428933 \nL 481.7095 15.45851 \nL 482.712015 15.340208 \nL 483.71453 15.340208 \nL 484.717045 15.523575 \nL 485.719561 15.594552 \nL 486.722076 15.452594 \nL 487.724591 15.239654 \nL 488.727107 14.914328 \nL 489.729622 14.618578 \nL 490.732137 14.464792 \nL 491.734652 14.240019 \nL 492.737168 14.234108 \nL 493.739683 14.139466 \nL 494.742198 14.056656 \nL 495.744713 13.825972 \nL 496.747229 13.725418 \nL 497.749744 13.648521 \nL 498.752259 13.447413 \nL 499.754775 13.204897 \nL 500.75729 12.938724 \nL 501.759805 12.619318 \nL 502.76232 12.430035 \nL 503.764836 12.311737 \nL 504.767351 12.140197 \nL 505.769866 11.939089 \nL 506.772381 11.891768 \nL 507.774897 11.838536 \nL 508.777412 11.64334 \nL 509.779927 11.51913 \nL 510.782443 11.371256 \nL 511.784958 11.252949 \nL 512.787473 11.110995 \nL 513.789988 11.075506 \nL 514.792504 10.951288 \nL 515.795019 10.951288 \nL 516.797534 10.880311 \nL 517.800049 10.856646 \n\" clip-path=\"url(#p761b161bb2)\" style=\"fill: none; stroke: #1f77b4; stroke-width: 1.5; stroke-linecap: square\"/>\n   </g>\n   <g id=\"patch_18\">\n    <path d=\"M 413.588587 90.36 \nL 413.588587 7.2 \n\" style=\"fill: none; stroke: #000000; stroke-width: 0.8; stroke-linejoin: miter; stroke-linecap: square\"/>\n   </g>\n   <g id=\"patch_19\">\n    <path d=\"M 522.7625 90.36 \nL 522.7625 7.2 \n\" style=\"fill: none; stroke: #000000; stroke-width: 0.8; stroke-linejoin: miter; stroke-linecap: square\"/>\n   </g>\n   <g id=\"patch_20\">\n    <path d=\"M 413.588587 90.36 \nL 522.7625 90.36 \n\" style=\"fill: none; stroke: #000000; stroke-width: 0.8; stroke-linejoin: miter; stroke-linecap: square\"/>\n   </g>\n   <g id=\"patch_21\">\n    <path d=\"M 413.588587 7.2 \nL 522.7625 7.2 \n\" style=\"fill: none; stroke: #000000; stroke-width: 0.8; stroke-linejoin: miter; stroke-linecap: square\"/>\n   </g>\n  </g>\n </g>\n <defs>\n  <clipPath id=\"p33fcd8ed47\">\n   <rect x=\"20.5625\" y=\"7.2\" width=\"109.173913\" height=\"83.16\"/>\n  </clipPath>\n  <clipPath id=\"pea981d6ef4\">\n   <rect x=\"151.571196\" y=\"7.2\" width=\"109.173913\" height=\"83.16\"/>\n  </clipPath>\n  <clipPath id=\"p28e303625f\">\n   <rect x=\"282.579891\" y=\"7.2\" width=\"109.173913\" height=\"83.16\"/>\n  </clipPath>\n  <clipPath id=\"p761b161bb2\">\n   <rect x=\"413.588587\" y=\"7.2\" width=\"109.173913\" height=\"83.16\"/>\n  </clipPath>\n </defs>\n</svg>\n",
            "text/plain": [
              "<Figure size 900x150 with 4 Axes>"
            ]
          },
          "metadata": {},
          "output_type": "display_data"
        }
      ],
      "source": [
        "## TODO \n",
        "hidden_layer = 50 \n",
        "\n",
        "\n",
        "model2 = nn.Sequential(\n",
        "    nn.Linear(D_in, hidden_layer),\n",
        "    nn.Sigmoid(),\n",
        "    nn.Linear(hidden_layer, D_out),\n",
        "    nn.LogSoftmax(dim=1)\n",
        "    )\n",
        "\n",
        "train(model2, lr=0.0001, epochs=100)"
      ]
    },
    {
      "cell_type": "markdown",
      "metadata": {
        "id": "RXvVoYBLyoFb"
      },
      "source": [
        "## From Sigmoid to ReLU\n",
        "\n",
        "Consider lr=0.0001 and train a similar model with a ReLU activation. Compare the results. "
      ]
    },
    {
      "cell_type": "code",
      "execution_count": null,
      "metadata": {
        "id": "DfEG0QqtyoFb",
        "outputId": "7b8db38d-3c3f-4b79-aa7c-333a879b1238"
      },
      "outputs": [
        {
          "name": "stdout",
          "output_type": "stream",
          "text": [
            "TODO\n"
          ]
        },
        {
          "data": {
            "image/svg+xml": "<?xml version=\"1.0\" encoding=\"utf-8\" standalone=\"no\"?>\n<!DOCTYPE svg PUBLIC \"-//W3C//DTD SVG 1.1//EN\"\n  \"http://www.w3.org/Graphics/SVG/1.1/DTD/svg11.dtd\">\n<svg xmlns:xlink=\"http://www.w3.org/1999/xlink\" width=\"541.908815pt\" height=\"114.238125pt\" viewBox=\"0 0 541.908815 114.238125\" xmlns=\"http://www.w3.org/2000/svg\" version=\"1.1\">\n <metadata>\n  <rdf:RDF xmlns:dc=\"http://purl.org/dc/elements/1.1/\" xmlns:cc=\"http://creativecommons.org/ns#\" xmlns:rdf=\"http://www.w3.org/1999/02/22-rdf-syntax-ns#\">\n   <cc:Work>\n    <dc:type rdf:resource=\"http://purl.org/dc/dcmitype/StillImage\"/>\n    <dc:date>2023-03-31T17:00:42.177482</dc:date>\n    <dc:format>image/svg+xml</dc:format>\n    <dc:creator>\n     <cc:Agent>\n      <dc:title>Matplotlib v3.7.1, https://matplotlib.org/</dc:title>\n     </cc:Agent>\n    </dc:creator>\n   </cc:Work>\n  </rdf:RDF>\n </metadata>\n <defs>\n  <style type=\"text/css\">*{stroke-linejoin: round; stroke-linecap: butt}</style>\n </defs>\n <g id=\"figure_1\">\n  <g id=\"patch_1\">\n   <path d=\"M 0 114.238125 \nL 541.908815 114.238125 \nL 541.908815 -0 \nL 0 -0 \nz\n\" style=\"fill: #ffffff\"/>\n  </g>\n  <g id=\"axes_1\">\n   <g id=\"patch_2\">\n    <path d=\"M 26.925 90.36 \nL 136.098913 90.36 \nL 136.098913 7.2 \nL 26.925 7.2 \nz\n\" style=\"fill: #ffffff\"/>\n   </g>\n   <g id=\"matplotlib.axis_1\">\n    <g id=\"xtick_1\">\n     <g id=\"line2d_1\">\n      <defs>\n       <path id=\"mf11b8c4427\" d=\"M 0 0 \nL 0 3.5 \n\" style=\"stroke: #000000; stroke-width: 0.8\"/>\n      </defs>\n      <g>\n       <use xlink:href=\"#mf11b8c4427\" x=\"31.887451\" y=\"90.36\" style=\"stroke: #000000; stroke-width: 0.8\"/>\n      </g>\n     </g>\n     <g id=\"text_1\">\n      <!-- 0 -->\n      <g transform=\"translate(28.706201 104.958438) scale(0.1 -0.1)\">\n       <defs>\n        <path id=\"DejaVuSans-30\" d=\"M 2034 4250 \nQ 1547 4250 1301 3770 \nQ 1056 3291 1056 2328 \nQ 1056 1369 1301 889 \nQ 1547 409 2034 409 \nQ 2525 409 2770 889 \nQ 3016 1369 3016 2328 \nQ 3016 3291 2770 3770 \nQ 2525 4250 2034 4250 \nz\nM 2034 4750 \nQ 2819 4750 3233 4129 \nQ 3647 3509 3647 2328 \nQ 3647 1150 3233 529 \nQ 2819 -91 2034 -91 \nQ 1250 -91 836 529 \nQ 422 1150 422 2328 \nQ 422 3509 836 4129 \nQ 1250 4750 2034 4750 \nz\n\" transform=\"scale(0.015625)\"/>\n       </defs>\n       <use xlink:href=\"#DejaVuSans-30\"/>\n      </g>\n     </g>\n    </g>\n    <g id=\"xtick_2\">\n     <g id=\"line2d_2\">\n      <g>\n       <use xlink:href=\"#mf11b8c4427\" x=\"82.013214\" y=\"90.36\" style=\"stroke: #000000; stroke-width: 0.8\"/>\n      </g>\n     </g>\n     <g id=\"text_2\">\n      <!-- 50 -->\n      <g transform=\"translate(75.650714 104.958438) scale(0.1 -0.1)\">\n       <defs>\n        <path id=\"DejaVuSans-35\" d=\"M 691 4666 \nL 3169 4666 \nL 3169 4134 \nL 1269 4134 \nL 1269 2991 \nQ 1406 3038 1543 3061 \nQ 1681 3084 1819 3084 \nQ 2600 3084 3056 2656 \nQ 3513 2228 3513 1497 \nQ 3513 744 3044 326 \nQ 2575 -91 1722 -91 \nQ 1428 -91 1123 -41 \nQ 819 9 494 109 \nL 494 744 \nQ 775 591 1075 516 \nQ 1375 441 1709 441 \nQ 2250 441 2565 725 \nQ 2881 1009 2881 1497 \nQ 2881 1984 2565 2268 \nQ 2250 2553 1709 2553 \nQ 1456 2553 1204 2497 \nQ 953 2441 691 2322 \nL 691 4666 \nz\n\" transform=\"scale(0.015625)\"/>\n       </defs>\n       <use xlink:href=\"#DejaVuSans-35\"/>\n       <use xlink:href=\"#DejaVuSans-30\" x=\"63.623047\"/>\n      </g>\n     </g>\n    </g>\n    <g id=\"xtick_3\">\n     <g id=\"line2d_3\">\n      <g>\n       <use xlink:href=\"#mf11b8c4427\" x=\"132.138978\" y=\"90.36\" style=\"stroke: #000000; stroke-width: 0.8\"/>\n      </g>\n     </g>\n     <g id=\"text_3\">\n      <!-- 100 -->\n      <g transform=\"translate(122.595228 104.958438) scale(0.1 -0.1)\">\n       <defs>\n        <path id=\"DejaVuSans-31\" d=\"M 794 531 \nL 1825 531 \nL 1825 4091 \nL 703 3866 \nL 703 4441 \nL 1819 4666 \nL 2450 4666 \nL 2450 531 \nL 3481 531 \nL 3481 0 \nL 794 0 \nL 794 531 \nz\n\" transform=\"scale(0.015625)\"/>\n       </defs>\n       <use xlink:href=\"#DejaVuSans-31\"/>\n       <use xlink:href=\"#DejaVuSans-30\" x=\"63.623047\"/>\n       <use xlink:href=\"#DejaVuSans-30\" x=\"127.246094\"/>\n      </g>\n     </g>\n    </g>\n   </g>\n   <g id=\"matplotlib.axis_2\">\n    <g id=\"ytick_1\">\n     <g id=\"line2d_4\">\n      <defs>\n       <path id=\"m091ba90682\" d=\"M 0 0 \nL -3.5 0 \n\" style=\"stroke: #000000; stroke-width: 0.8\"/>\n      </defs>\n      <g>\n       <use xlink:href=\"#m091ba90682\" x=\"26.925\" y=\"90.36\" style=\"stroke: #000000; stroke-width: 0.8\"/>\n      </g>\n     </g>\n     <g id=\"text_4\">\n      <!-- 0 -->\n      <g transform=\"translate(13.5625 94.159219) scale(0.1 -0.1)\">\n       <use xlink:href=\"#DejaVuSans-30\"/>\n      </g>\n     </g>\n    </g>\n    <g id=\"ytick_2\">\n     <g id=\"line2d_5\">\n      <g>\n       <use xlink:href=\"#m091ba90682\" x=\"26.925\" y=\"57.185263\" style=\"stroke: #000000; stroke-width: 0.8\"/>\n      </g>\n     </g>\n     <g id=\"text_5\">\n      <!-- 10 -->\n      <g transform=\"translate(7.2 60.984481) scale(0.1 -0.1)\">\n       <use xlink:href=\"#DejaVuSans-31\"/>\n       <use xlink:href=\"#DejaVuSans-30\" x=\"63.623047\"/>\n      </g>\n     </g>\n    </g>\n    <g id=\"ytick_3\">\n     <g id=\"line2d_6\">\n      <g>\n       <use xlink:href=\"#m091ba90682\" x=\"26.925\" y=\"24.010525\" style=\"stroke: #000000; stroke-width: 0.8\"/>\n      </g>\n     </g>\n     <g id=\"text_6\">\n      <!-- 20 -->\n      <g transform=\"translate(7.2 27.809744) scale(0.1 -0.1)\">\n       <defs>\n        <path id=\"DejaVuSans-32\" d=\"M 1228 531 \nL 3431 531 \nL 3431 0 \nL 469 0 \nL 469 531 \nQ 828 903 1448 1529 \nQ 2069 2156 2228 2338 \nQ 2531 2678 2651 2914 \nQ 2772 3150 2772 3378 \nQ 2772 3750 2511 3984 \nQ 2250 4219 1831 4219 \nQ 1534 4219 1204 4116 \nQ 875 4013 500 3803 \nL 500 4441 \nQ 881 4594 1212 4672 \nQ 1544 4750 1819 4750 \nQ 2544 4750 2975 4387 \nQ 3406 4025 3406 3419 \nQ 3406 3131 3298 2873 \nQ 3191 2616 2906 2266 \nQ 2828 2175 2409 1742 \nQ 1991 1309 1228 531 \nz\n\" transform=\"scale(0.015625)\"/>\n       </defs>\n       <use xlink:href=\"#DejaVuSans-32\"/>\n       <use xlink:href=\"#DejaVuSans-30\" x=\"63.623047\"/>\n      </g>\n     </g>\n    </g>\n   </g>\n   <g id=\"line2d_7\">\n    <path d=\"M 31.887451 10.886918 \nL 32.889966 25.648691 \nL 33.892481 33.047321 \nL 34.894996 38.037328 \nL 35.897512 42.874661 \nL 36.900027 47.470135 \nL 37.902542 51.429716 \nL 38.905057 54.633122 \nL 39.907573 57.20683 \nL 40.910088 59.444082 \nL 41.912603 61.568396 \nL 42.915119 63.589839 \nL 43.917634 65.418517 \nL 44.920149 66.967871 \nL 45.922664 68.227461 \nL 46.92518 69.273125 \nL 47.927695 70.19045 \nL 48.93021 71.0208 \nL 49.932725 71.768231 \nL 50.935241 72.431257 \nL 51.937756 73.015067 \nL 52.940271 73.551497 \nL 53.942787 74.077945 \nL 54.945302 74.606639 \nL 55.947817 75.122964 \nL 56.950332 75.594783 \nL 57.952848 76.00645 \nL 58.955363 76.361489 \nL 59.957878 76.68505 \nL 60.960393 76.996451 \nL 61.962909 77.30233 \nL 62.965424 77.600639 \nL 63.967939 77.887651 \nL 64.970455 78.163425 \nL 65.97297 78.428329 \nL 66.975485 78.681013 \nL 67.978 78.918399 \nL 68.980516 79.138105 \nL 69.983031 79.343136 \nL 70.985546 79.538146 \nL 71.988061 79.729412 \nL 72.990577 79.918388 \nL 73.993092 80.103676 \nL 74.995607 80.277733 \nL 75.998123 80.438791 \nL 77.000638 80.589326 \nL 78.003153 80.734805 \nL 79.005668 80.878865 \nL 80.008184 81.022207 \nL 81.010699 81.162386 \nL 82.013214 81.297016 \nL 83.015729 81.425409 \nL 84.018245 81.548145 \nL 85.02076 81.665244 \nL 86.023275 81.780256 \nL 87.025791 81.893191 \nL 88.028306 82.003697 \nL 89.030821 82.110992 \nL 90.033336 82.213525 \nL 91.035852 82.310646 \nL 92.038367 82.402922 \nL 93.040882 82.492736 \nL 94.043397 82.581157 \nL 95.045913 82.667469 \nL 96.048428 82.750244 \nL 97.050943 82.829286 \nL 98.053458 82.905429 \nL 99.055974 82.97904 \nL 100.058489 83.050881 \nL 101.061004 83.121133 \nL 102.06352 83.189985 \nL 103.066035 83.25745 \nL 104.06855 83.322977 \nL 105.071065 83.386665 \nL 106.073581 83.448248 \nL 107.076096 83.507994 \nL 108.078611 83.5666 \nL 109.081126 83.62434 \nL 110.083642 83.680801 \nL 111.086157 83.735549 \nL 112.088672 83.788972 \nL 113.091188 83.841291 \nL 114.093703 83.892702 \nL 115.096218 83.942984 \nL 116.098733 83.991998 \nL 117.101249 84.039912 \nL 118.103764 84.086864 \nL 119.106279 84.132849 \nL 120.108794 84.177907 \nL 121.11131 84.222154 \nL 122.113825 84.26558 \nL 123.11634 84.308204 \nL 124.118856 84.349982 \nL 125.121371 84.391108 \nL 126.123886 84.431609 \nL 127.126401 84.471475 \nL 128.128917 84.510773 \nL 129.131432 84.549537 \nL 130.133947 84.587729 \nL 131.136462 84.625271 \n\" clip-path=\"url(#p5e34dfe34b)\" style=\"fill: none; stroke: #1f77b4; stroke-width: 1.5; stroke-linecap: square\"/>\n   </g>\n   <g id=\"patch_3\">\n    <path d=\"M 26.925 90.36 \nL 26.925 7.2 \n\" style=\"fill: none; stroke: #000000; stroke-width: 0.8; stroke-linejoin: miter; stroke-linecap: square\"/>\n   </g>\n   <g id=\"patch_4\">\n    <path d=\"M 136.098913 90.36 \nL 136.098913 7.2 \n\" style=\"fill: none; stroke: #000000; stroke-width: 0.8; stroke-linejoin: miter; stroke-linecap: square\"/>\n   </g>\n   <g id=\"patch_5\">\n    <path d=\"M 26.925 90.36 \nL 136.098913 90.36 \n\" style=\"fill: none; stroke: #000000; stroke-width: 0.8; stroke-linejoin: miter; stroke-linecap: square\"/>\n   </g>\n   <g id=\"patch_6\">\n    <path d=\"M 26.925 7.2 \nL 136.098913 7.2 \n\" style=\"fill: none; stroke: #000000; stroke-width: 0.8; stroke-linejoin: miter; stroke-linecap: square\"/>\n   </g>\n  </g>\n  <g id=\"axes_2\">\n   <g id=\"patch_7\">\n    <path d=\"M 157.933696 90.36 \nL 267.107609 90.36 \nL 267.107609 7.2 \nL 157.933696 7.2 \nz\n\" style=\"fill: #ffffff\"/>\n   </g>\n   <g id=\"matplotlib.axis_3\">\n    <g id=\"xtick_4\">\n     <g id=\"line2d_8\">\n      <g>\n       <use xlink:href=\"#mf11b8c4427\" x=\"162.896146\" y=\"90.36\" style=\"stroke: #000000; stroke-width: 0.8\"/>\n      </g>\n     </g>\n     <g id=\"text_7\">\n      <!-- 0 -->\n      <g transform=\"translate(159.714896 104.958438) scale(0.1 -0.1)\">\n       <use xlink:href=\"#DejaVuSans-30\"/>\n      </g>\n     </g>\n    </g>\n    <g id=\"xtick_5\">\n     <g id=\"line2d_9\">\n      <g>\n       <use xlink:href=\"#mf11b8c4427\" x=\"213.02191\" y=\"90.36\" style=\"stroke: #000000; stroke-width: 0.8\"/>\n      </g>\n     </g>\n     <g id=\"text_8\">\n      <!-- 50 -->\n      <g transform=\"translate(206.65941 104.958438) scale(0.1 -0.1)\">\n       <use xlink:href=\"#DejaVuSans-35\"/>\n       <use xlink:href=\"#DejaVuSans-30\" x=\"63.623047\"/>\n      </g>\n     </g>\n    </g>\n    <g id=\"xtick_6\">\n     <g id=\"line2d_10\">\n      <g>\n       <use xlink:href=\"#mf11b8c4427\" x=\"263.147673\" y=\"90.36\" style=\"stroke: #000000; stroke-width: 0.8\"/>\n      </g>\n     </g>\n     <g id=\"text_9\">\n      <!-- 100 -->\n      <g transform=\"translate(253.603923 104.958438) scale(0.1 -0.1)\">\n       <use xlink:href=\"#DejaVuSans-31\"/>\n       <use xlink:href=\"#DejaVuSans-30\" x=\"63.623047\"/>\n       <use xlink:href=\"#DejaVuSans-30\" x=\"127.246094\"/>\n      </g>\n     </g>\n    </g>\n   </g>\n   <g id=\"matplotlib.axis_4\">\n    <g id=\"ytick_4\">\n     <g id=\"line2d_11\">\n      <g>\n       <use xlink:href=\"#m091ba90682\" x=\"157.933696\" y=\"90.36\" style=\"stroke: #000000; stroke-width: 0.8\"/>\n      </g>\n     </g>\n     <g id=\"text_10\">\n      <!-- 0 -->\n      <g transform=\"translate(144.571196 94.159219) scale(0.1 -0.1)\">\n       <use xlink:href=\"#DejaVuSans-30\"/>\n      </g>\n     </g>\n    </g>\n    <g id=\"ytick_5\">\n     <g id=\"line2d_12\">\n      <g>\n       <use xlink:href=\"#m091ba90682\" x=\"157.933696\" y=\"57.400641\" style=\"stroke: #000000; stroke-width: 0.8\"/>\n      </g>\n     </g>\n     <g id=\"text_11\">\n      <!-- 10 -->\n      <g transform=\"translate(138.208696 61.19986) scale(0.1 -0.1)\">\n       <use xlink:href=\"#DejaVuSans-31\"/>\n       <use xlink:href=\"#DejaVuSans-30\" x=\"63.623047\"/>\n      </g>\n     </g>\n    </g>\n    <g id=\"ytick_6\">\n     <g id=\"line2d_13\">\n      <g>\n       <use xlink:href=\"#m091ba90682\" x=\"157.933696\" y=\"24.441282\" style=\"stroke: #000000; stroke-width: 0.8\"/>\n      </g>\n     </g>\n     <g id=\"text_12\">\n      <!-- 20 -->\n      <g transform=\"translate(138.208696 28.240501) scale(0.1 -0.1)\">\n       <use xlink:href=\"#DejaVuSans-32\"/>\n       <use xlink:href=\"#DejaVuSans-30\" x=\"63.623047\"/>\n      </g>\n     </g>\n    </g>\n   </g>\n   <g id=\"line2d_14\">\n    <path d=\"M 162.896146 10.873339 \nL 163.898662 25.667734 \nL 164.901177 33.122107 \nL 165.903692 38.166642 \nL 166.906207 42.998018 \nL 167.908723 47.574293 \nL 168.911238 51.486985 \nL 169.913753 54.651951 \nL 170.916268 57.201629 \nL 171.918784 59.429627 \nL 172.921299 61.565519 \nL 173.923814 63.62595 \nL 174.92633 65.514205 \nL 175.928845 67.124876 \nL 176.93136 68.425104 \nL 177.933875 69.484917 \nL 178.936391 70.393196 \nL 179.938906 71.199088 \nL 180.941421 71.916022 \nL 181.943936 72.548387 \nL 182.946452 73.104777 \nL 183.948967 73.619847 \nL 184.951482 74.124743 \nL 185.953997 74.63485 \nL 186.956513 75.1357 \nL 187.959028 75.60019 \nL 188.961543 76.007164 \nL 189.964059 76.356789 \nL 190.966574 76.668367 \nL 191.969089 76.963235 \nL 192.971604 77.252212 \nL 193.97412 77.532133 \nL 194.976635 77.80266 \nL 195.97915 78.065787 \nL 196.981665 78.321818 \nL 197.984181 78.569172 \nL 198.986696 78.805334 \nL 199.989211 79.02972 \nL 200.991727 79.238365 \nL 201.994242 79.435414 \nL 202.996757 79.627384 \nL 203.999272 79.815751 \nL 205.001788 79.998225 \nL 206.004303 80.171981 \nL 207.006818 80.332577 \nL 208.009333 80.483082 \nL 209.011849 80.627199 \nL 210.014364 80.77001 \nL 211.016879 80.911156 \nL 212.019395 81.048259 \nL 213.02191 81.179186 \nL 214.024425 81.304504 \nL 215.02694 81.424702 \nL 216.029456 81.54129 \nL 217.031971 81.654445 \nL 218.034486 81.764499 \nL 219.037001 81.871183 \nL 220.039517 81.973185 \nL 221.042032 82.070266 \nL 222.044547 82.162163 \nL 223.047063 82.250035 \nL 224.049578 82.33569 \nL 225.052093 82.420114 \nL 226.054608 82.502502 \nL 227.057124 82.583198 \nL 228.059639 82.661598 \nL 229.062154 82.73665 \nL 230.064669 82.808161 \nL 231.067185 82.877988 \nL 232.0697 82.945987 \nL 233.072215 83.012315 \nL 234.074731 83.076866 \nL 235.077246 83.138912 \nL 236.079761 83.198432 \nL 237.082276 83.254972 \nL 238.084792 83.309054 \nL 239.087307 83.3629 \nL 240.089822 83.41659 \nL 241.092337 83.469717 \nL 242.094853 83.52121 \nL 243.097368 83.570793 \nL 244.099883 83.618793 \nL 245.102398 83.665058 \nL 246.104914 83.710233 \nL 247.107429 83.754839 \nL 248.109944 83.79925 \nL 249.11246 83.843603 \nL 250.114975 83.887143 \nL 251.11749 83.929583 \nL 252.120005 83.970758 \nL 253.122521 84.010666 \nL 254.125036 84.049647 \nL 255.127551 84.087955 \nL 256.130066 84.125659 \nL 257.132582 84.162831 \nL 258.135097 84.199377 \nL 259.137612 84.235181 \nL 260.140128 84.270714 \nL 261.142643 84.305612 \nL 262.145158 84.340121 \n\" clip-path=\"url(#pfd477701cf)\" style=\"fill: none; stroke: #1f77b4; stroke-width: 1.5; stroke-linecap: square\"/>\n   </g>\n   <g id=\"patch_8\">\n    <path d=\"M 157.933696 90.36 \nL 157.933696 7.2 \n\" style=\"fill: none; stroke: #000000; stroke-width: 0.8; stroke-linejoin: miter; stroke-linecap: square\"/>\n   </g>\n   <g id=\"patch_9\">\n    <path d=\"M 267.107609 90.36 \nL 267.107609 7.2 \n\" style=\"fill: none; stroke: #000000; stroke-width: 0.8; stroke-linejoin: miter; stroke-linecap: square\"/>\n   </g>\n   <g id=\"patch_10\">\n    <path d=\"M 157.933696 90.36 \nL 267.107609 90.36 \n\" style=\"fill: none; stroke: #000000; stroke-width: 0.8; stroke-linejoin: miter; stroke-linecap: square\"/>\n   </g>\n   <g id=\"patch_11\">\n    <path d=\"M 157.933696 7.2 \nL 267.107609 7.2 \n\" style=\"fill: none; stroke: #000000; stroke-width: 0.8; stroke-linejoin: miter; stroke-linecap: square\"/>\n   </g>\n  </g>\n  <g id=\"axes_3\">\n   <g id=\"patch_12\">\n    <path d=\"M 288.942391 90.36 \nL 398.116304 90.36 \nL 398.116304 7.2 \nL 288.942391 7.2 \nz\n\" style=\"fill: #ffffff\"/>\n   </g>\n   <g id=\"matplotlib.axis_5\">\n    <g id=\"xtick_7\">\n     <g id=\"line2d_15\">\n      <g>\n       <use xlink:href=\"#mf11b8c4427\" x=\"293.904842\" y=\"90.36\" style=\"stroke: #000000; stroke-width: 0.8\"/>\n      </g>\n     </g>\n     <g id=\"text_13\">\n      <!-- 0 -->\n      <g transform=\"translate(290.723592 104.958438) scale(0.1 -0.1)\">\n       <use xlink:href=\"#DejaVuSans-30\"/>\n      </g>\n     </g>\n    </g>\n    <g id=\"xtick_8\">\n     <g id=\"line2d_16\">\n      <g>\n       <use xlink:href=\"#mf11b8c4427\" x=\"344.030605\" y=\"90.36\" style=\"stroke: #000000; stroke-width: 0.8\"/>\n      </g>\n     </g>\n     <g id=\"text_14\">\n      <!-- 50 -->\n      <g transform=\"translate(337.668105 104.958438) scale(0.1 -0.1)\">\n       <use xlink:href=\"#DejaVuSans-35\"/>\n       <use xlink:href=\"#DejaVuSans-30\" x=\"63.623047\"/>\n      </g>\n     </g>\n    </g>\n    <g id=\"xtick_9\">\n     <g id=\"line2d_17\">\n      <g>\n       <use xlink:href=\"#mf11b8c4427\" x=\"394.156369\" y=\"90.36\" style=\"stroke: #000000; stroke-width: 0.8\"/>\n      </g>\n     </g>\n     <g id=\"text_15\">\n      <!-- 100 -->\n      <g transform=\"translate(384.612619 104.958438) scale(0.1 -0.1)\">\n       <use xlink:href=\"#DejaVuSans-31\"/>\n       <use xlink:href=\"#DejaVuSans-30\" x=\"63.623047\"/>\n       <use xlink:href=\"#DejaVuSans-30\" x=\"127.246094\"/>\n      </g>\n     </g>\n    </g>\n   </g>\n   <g id=\"matplotlib.axis_6\">\n    <g id=\"ytick_7\">\n     <g id=\"line2d_18\">\n      <g>\n       <use xlink:href=\"#m091ba90682\" x=\"288.942391\" y=\"90.36\" style=\"stroke: #000000; stroke-width: 0.8\"/>\n      </g>\n     </g>\n     <g id=\"text_16\">\n      <!-- 0 -->\n      <g transform=\"translate(275.579891 94.159219) scale(0.1 -0.1)\">\n       <use xlink:href=\"#DejaVuSans-30\"/>\n      </g>\n     </g>\n    </g>\n    <g id=\"ytick_8\">\n     <g id=\"line2d_19\">\n      <g>\n       <use xlink:href=\"#m091ba90682\" x=\"288.942391\" y=\"67.146026\" style=\"stroke: #000000; stroke-width: 0.8\"/>\n      </g>\n     </g>\n     <g id=\"text_17\">\n      <!-- 20 -->\n      <g transform=\"translate(269.217391 70.945245) scale(0.1 -0.1)\">\n       <use xlink:href=\"#DejaVuSans-32\"/>\n       <use xlink:href=\"#DejaVuSans-30\" x=\"63.623047\"/>\n      </g>\n     </g>\n    </g>\n    <g id=\"ytick_9\">\n     <g id=\"line2d_20\">\n      <g>\n       <use xlink:href=\"#m091ba90682\" x=\"288.942391\" y=\"43.932052\" style=\"stroke: #000000; stroke-width: 0.8\"/>\n      </g>\n     </g>\n     <g id=\"text_18\">\n      <!-- 40 -->\n      <g transform=\"translate(269.217391 47.731271) scale(0.1 -0.1)\">\n       <defs>\n        <path id=\"DejaVuSans-34\" d=\"M 2419 4116 \nL 825 1625 \nL 2419 1625 \nL 2419 4116 \nz\nM 2253 4666 \nL 3047 4666 \nL 3047 1625 \nL 3713 1625 \nL 3713 1100 \nL 3047 1100 \nL 3047 0 \nL 2419 0 \nL 2419 1100 \nL 313 1100 \nL 313 1709 \nL 2253 4666 \nz\n\" transform=\"scale(0.015625)\"/>\n       </defs>\n       <use xlink:href=\"#DejaVuSans-34\"/>\n       <use xlink:href=\"#DejaVuSans-30\" x=\"63.623047\"/>\n      </g>\n     </g>\n    </g>\n    <g id=\"ytick_10\">\n     <g id=\"line2d_21\">\n      <g>\n       <use xlink:href=\"#m091ba90682\" x=\"288.942391\" y=\"20.718078\" style=\"stroke: #000000; stroke-width: 0.8\"/>\n      </g>\n     </g>\n     <g id=\"text_19\">\n      <!-- 60 -->\n      <g transform=\"translate(269.217391 24.517297) scale(0.1 -0.1)\">\n       <defs>\n        <path id=\"DejaVuSans-36\" d=\"M 2113 2584 \nQ 1688 2584 1439 2293 \nQ 1191 2003 1191 1497 \nQ 1191 994 1439 701 \nQ 1688 409 2113 409 \nQ 2538 409 2786 701 \nQ 3034 994 3034 1497 \nQ 3034 2003 2786 2293 \nQ 2538 2584 2113 2584 \nz\nM 3366 4563 \nL 3366 3988 \nQ 3128 4100 2886 4159 \nQ 2644 4219 2406 4219 \nQ 1781 4219 1451 3797 \nQ 1122 3375 1075 2522 \nQ 1259 2794 1537 2939 \nQ 1816 3084 2150 3084 \nQ 2853 3084 3261 2657 \nQ 3669 2231 3669 1497 \nQ 3669 778 3244 343 \nQ 2819 -91 2113 -91 \nQ 1303 -91 875 529 \nQ 447 1150 447 2328 \nQ 447 3434 972 4092 \nQ 1497 4750 2381 4750 \nQ 2619 4750 2861 4703 \nQ 3103 4656 3366 4563 \nz\n\" transform=\"scale(0.015625)\"/>\n       </defs>\n       <use xlink:href=\"#DejaVuSans-36\"/>\n       <use xlink:href=\"#DejaVuSans-30\" x=\"63.623047\"/>\n      </g>\n     </g>\n    </g>\n   </g>\n   <g id=\"line2d_22\">\n    <path d=\"M 293.904842 81.213694 \nL 294.907357 78.950332 \nL 295.909872 76.060192 \nL 296.912388 74.481641 \nL 297.914903 72.705773 \nL 298.917418 70.32634 \nL 299.919934 67.74959 \nL 300.922449 65.056769 \nL 301.924964 62.027345 \nL 302.927479 59.810411 \nL 303.929995 57.349728 \nL 304.93251 54.552445 \nL 305.935025 51.929265 \nL 306.93754 50.072149 \nL 307.940056 47.773966 \nL 308.942571 46.288269 \nL 309.945086 44.674899 \nL 310.947602 43.165991 \nL 311.950117 41.715118 \nL 312.952632 39.881212 \nL 313.955147 38.140164 \nL 314.957663 36.248228 \nL 315.960178 34.530394 \nL 316.962693 33.404515 \nL 317.965208 32.290246 \nL 318.967724 31.2224 \nL 319.970239 30.456339 \nL 320.972754 29.713493 \nL 321.975269 28.784935 \nL 322.977785 27.972445 \nL 323.9803 27.380491 \nL 324.982815 26.405504 \nL 325.985331 25.651048 \nL 326.987846 25.001055 \nL 327.990361 24.455529 \nL 328.992876 23.851965 \nL 329.995392 23.352865 \nL 330.997907 22.760906 \nL 332.000422 22.343058 \nL 333.002937 22.076093 \nL 334.005453 21.588602 \nL 335.007968 21.321642 \nL 336.010483 21.182359 \nL 337.012999 20.857361 \nL 338.015514 20.497547 \nL 339.018029 20.265406 \nL 340.020544 19.986837 \nL 341.02306 19.708271 \nL 342.025575 19.452916 \nL 343.02809 19.197561 \nL 344.030605 18.988635 \nL 345.033121 18.663641 \nL 346.035636 18.350252 \nL 347.038151 18.013648 \nL 348.040667 17.804726 \nL 349.043182 17.479728 \nL 350.045697 17.317231 \nL 351.048212 17.177948 \nL 352.050728 16.910988 \nL 353.053243 16.81813 \nL 354.055758 16.644028 \nL 355.058273 16.481526 \nL 356.060789 16.202961 \nL 357.063304 15.935996 \nL 358.065819 15.657431 \nL 359.068335 15.460114 \nL 360.07085 15.216369 \nL 361.073365 15.100301 \nL 362.07588 15.007443 \nL 363.078396 14.937795 \nL 364.080911 14.705659 \nL 365.083426 14.543161 \nL 366.085941 14.450303 \nL 367.088457 14.229777 \nL 368.090972 14.102099 \nL 369.093487 13.974422 \nL 370.096003 13.811924 \nL 371.098518 13.602998 \nL 372.101033 13.51014 \nL 373.103548 13.475321 \nL 374.106064 13.312824 \nL 375.108579 13.045859 \nL 376.111094 12.871752 \nL 377.113609 12.778903 \nL 378.116125 12.674436 \nL 379.11864 12.651226 \nL 380.121155 12.477119 \nL 381.12367 12.407471 \nL 382.126186 12.268193 \nL 383.128701 12.070876 \nL 384.131216 12.012838 \nL 385.133732 11.792302 \nL 386.136247 11.687844 \nL 387.138762 11.560166 \nL 388.141277 11.35124 \nL 389.143793 11.269991 \nL 390.146308 11.119104 \nL 391.148823 11.003027 \nL 392.151338 10.84053 \nL 393.153854 10.724462 \n\" clip-path=\"url(#p09d475879c)\" style=\"fill: none; stroke: #1f77b4; stroke-width: 1.5; stroke-linecap: square\"/>\n   </g>\n   <g id=\"patch_13\">\n    <path d=\"M 288.942391 90.36 \nL 288.942391 7.2 \n\" style=\"fill: none; stroke: #000000; stroke-width: 0.8; stroke-linejoin: miter; stroke-linecap: square\"/>\n   </g>\n   <g id=\"patch_14\">\n    <path d=\"M 398.116304 90.36 \nL 398.116304 7.2 \n\" style=\"fill: none; stroke: #000000; stroke-width: 0.8; stroke-linejoin: miter; stroke-linecap: square\"/>\n   </g>\n   <g id=\"patch_15\">\n    <path d=\"M 288.942391 90.36 \nL 398.116304 90.36 \n\" style=\"fill: none; stroke: #000000; stroke-width: 0.8; stroke-linejoin: miter; stroke-linecap: square\"/>\n   </g>\n   <g id=\"patch_16\">\n    <path d=\"M 288.942391 7.2 \nL 398.116304 7.2 \n\" style=\"fill: none; stroke: #000000; stroke-width: 0.8; stroke-linejoin: miter; stroke-linecap: square\"/>\n   </g>\n  </g>\n  <g id=\"axes_4\">\n   <g id=\"patch_17\">\n    <path d=\"M 419.951087 90.36 \nL 529.125 90.36 \nL 529.125 7.2 \nL 419.951087 7.2 \nz\n\" style=\"fill: #ffffff\"/>\n   </g>\n   <g id=\"matplotlib.axis_7\">\n    <g id=\"xtick_10\">\n     <g id=\"line2d_23\">\n      <g>\n       <use xlink:href=\"#mf11b8c4427\" x=\"424.913538\" y=\"90.36\" style=\"stroke: #000000; stroke-width: 0.8\"/>\n      </g>\n     </g>\n     <g id=\"text_20\">\n      <!-- 0 -->\n      <g transform=\"translate(421.732288 104.958438) scale(0.1 -0.1)\">\n       <use xlink:href=\"#DejaVuSans-30\"/>\n      </g>\n     </g>\n    </g>\n    <g id=\"xtick_11\">\n     <g id=\"line2d_24\">\n      <g>\n       <use xlink:href=\"#mf11b8c4427\" x=\"475.039301\" y=\"90.36\" style=\"stroke: #000000; stroke-width: 0.8\"/>\n      </g>\n     </g>\n     <g id=\"text_21\">\n      <!-- 50 -->\n      <g transform=\"translate(468.676801 104.958438) scale(0.1 -0.1)\">\n       <use xlink:href=\"#DejaVuSans-35\"/>\n       <use xlink:href=\"#DejaVuSans-30\" x=\"63.623047\"/>\n      </g>\n     </g>\n    </g>\n    <g id=\"xtick_12\">\n     <g id=\"line2d_25\">\n      <g>\n       <use xlink:href=\"#mf11b8c4427\" x=\"525.165065\" y=\"90.36\" style=\"stroke: #000000; stroke-width: 0.8\"/>\n      </g>\n     </g>\n     <g id=\"text_22\">\n      <!-- 100 -->\n      <g transform=\"translate(515.621315 104.958438) scale(0.1 -0.1)\">\n       <use xlink:href=\"#DejaVuSans-31\"/>\n       <use xlink:href=\"#DejaVuSans-30\" x=\"63.623047\"/>\n       <use xlink:href=\"#DejaVuSans-30\" x=\"127.246094\"/>\n      </g>\n     </g>\n    </g>\n   </g>\n   <g id=\"matplotlib.axis_8\">\n    <g id=\"ytick_11\">\n     <g id=\"line2d_26\">\n      <g>\n       <use xlink:href=\"#m091ba90682\" x=\"419.951087\" y=\"90.36\" style=\"stroke: #000000; stroke-width: 0.8\"/>\n      </g>\n     </g>\n     <g id=\"text_23\">\n      <!-- 0 -->\n      <g transform=\"translate(406.588587 94.159219) scale(0.1 -0.1)\">\n       <use xlink:href=\"#DejaVuSans-30\"/>\n      </g>\n     </g>\n    </g>\n    <g id=\"ytick_12\">\n     <g id=\"line2d_27\">\n      <g>\n       <use xlink:href=\"#m091ba90682\" x=\"419.951087\" y=\"67.615461\" style=\"stroke: #000000; stroke-width: 0.8\"/>\n      </g>\n     </g>\n     <g id=\"text_24\">\n      <!-- 20 -->\n      <g transform=\"translate(400.226087 71.41468) scale(0.1 -0.1)\">\n       <use xlink:href=\"#DejaVuSans-32\"/>\n       <use xlink:href=\"#DejaVuSans-30\" x=\"63.623047\"/>\n      </g>\n     </g>\n    </g>\n    <g id=\"ytick_13\">\n     <g id=\"line2d_28\">\n      <g>\n       <use xlink:href=\"#m091ba90682\" x=\"419.951087\" y=\"44.870923\" style=\"stroke: #000000; stroke-width: 0.8\"/>\n      </g>\n     </g>\n     <g id=\"text_25\">\n      <!-- 40 -->\n      <g transform=\"translate(400.226087 48.670141) scale(0.1 -0.1)\">\n       <use xlink:href=\"#DejaVuSans-34\"/>\n       <use xlink:href=\"#DejaVuSans-30\" x=\"63.623047\"/>\n      </g>\n     </g>\n    </g>\n    <g id=\"ytick_14\">\n     <g id=\"line2d_29\">\n      <g>\n       <use xlink:href=\"#m091ba90682\" x=\"419.951087\" y=\"22.126384\" style=\"stroke: #000000; stroke-width: 0.8\"/>\n      </g>\n     </g>\n     <g id=\"text_26\">\n      <!-- 60 -->\n      <g transform=\"translate(400.226087 25.925603) scale(0.1 -0.1)\">\n       <use xlink:href=\"#DejaVuSans-36\"/>\n       <use xlink:href=\"#DejaVuSans-30\" x=\"63.623047\"/>\n      </g>\n     </g>\n    </g>\n   </g>\n   <g id=\"line2d_30\">\n    <path d=\"M 424.913538 81.358849 \nL 425.916053 78.908125 \nL 426.918568 76.229955 \nL 427.921083 74.802735 \nL 428.923599 72.960428 \nL 429.926114 70.640485 \nL 430.928629 68.098782 \nL 431.931144 65.693547 \nL 432.93366 62.668524 \nL 433.936175 59.950552 \nL 434.93869 57.221208 \nL 435.941206 54.520294 \nL 436.943721 51.87624 \nL 437.946236 49.942954 \nL 438.948751 48.08359 \nL 439.951267 46.741661 \nL 440.953782 45.394046 \nL 441.956297 44.057805 \nL 442.958812 42.334907 \nL 443.961328 40.896316 \nL 444.963843 39.071067 \nL 445.966358 37.757567 \nL 446.968874 36.381523 \nL 447.971389 35.113513 \nL 448.973904 33.856878 \nL 449.976419 32.702593 \nL 450.978935 31.76438 \nL 451.98145 30.689701 \nL 452.983965 29.956189 \nL 453.98648 29.171504 \nL 454.988996 28.39819 \nL 455.991511 27.727226 \nL 456.994026 27.158612 \nL 457.996542 26.419417 \nL 458.999057 25.99864 \nL 460.001572 25.339051 \nL 461.004087 24.622597 \nL 462.006603 24.139276 \nL 463.009118 23.792421 \nL 464.011633 23.320471 \nL 465.014148 23.041852 \nL 466.016664 22.569902 \nL 467.019179 22.285595 \nL 468.021694 22.012663 \nL 469.024209 21.790904 \nL 470.026725 21.426987 \nL 471.02924 21.08582 \nL 472.031755 20.733283 \nL 473.034271 20.488779 \nL 474.036786 20.18741 \nL 475.039301 19.829185 \nL 476.041816 19.52782 \nL 477.044332 19.289004 \nL 478.046847 18.947837 \nL 479.049362 18.709016 \nL 480.051877 18.515689 \nL 481.054393 18.282556 \nL 482.056908 18.066484 \nL 483.059423 17.83335 \nL 484.061939 17.708259 \nL 485.064454 17.526303 \nL 486.066969 17.287486 \nL 487.069484 17.077093 \nL 488.072 16.849652 \nL 489.074515 16.656325 \nL 490.07703 16.411817 \nL 491.079545 16.241231 \nL 492.082061 16.155942 \nL 493.084576 15.985357 \nL 494.087091 15.786347 \nL 495.089607 15.61007 \nL 496.092122 15.490666 \nL 497.094637 15.268907 \nL 498.097152 15.064206 \nL 499.099668 14.93911 \nL 500.102183 14.791274 \nL 501.104698 14.592255 \nL 502.107213 14.376179 \nL 503.109729 14.279516 \nL 504.112244 14.069132 \nL 505.114759 13.921296 \nL 506.117275 13.762076 \nL 507.11979 13.585807 \nL 508.122305 13.386798 \nL 509.12482 13.113857 \nL 510.127336 12.988761 \nL 511.129851 12.812492 \nL 512.132366 12.585051 \nL 513.134881 12.482696 \nL 514.137397 12.289369 \nL 515.139912 12.152907 \nL 516.142427 11.959572 \nL 517.144943 11.823111 \nL 518.147458 11.652525 \nL 519.149973 11.464881 \nL 520.152488 11.334103 \nL 521.155004 11.191949 \nL 522.157519 11.027047 \nL 523.160034 10.896268 \nL 524.162549 10.731374 \n\" clip-path=\"url(#p0cc1bf646d)\" style=\"fill: none; stroke: #1f77b4; stroke-width: 1.5; stroke-linecap: square\"/>\n   </g>\n   <g id=\"patch_18\">\n    <path d=\"M 419.951087 90.36 \nL 419.951087 7.2 \n\" style=\"fill: none; stroke: #000000; stroke-width: 0.8; stroke-linejoin: miter; stroke-linecap: square\"/>\n   </g>\n   <g id=\"patch_19\">\n    <path d=\"M 529.125 90.36 \nL 529.125 7.2 \n\" style=\"fill: none; stroke: #000000; stroke-width: 0.8; stroke-linejoin: miter; stroke-linecap: square\"/>\n   </g>\n   <g id=\"patch_20\">\n    <path d=\"M 419.951087 90.36 \nL 529.125 90.36 \n\" style=\"fill: none; stroke: #000000; stroke-width: 0.8; stroke-linejoin: miter; stroke-linecap: square\"/>\n   </g>\n   <g id=\"patch_21\">\n    <path d=\"M 419.951087 7.2 \nL 529.125 7.2 \n\" style=\"fill: none; stroke: #000000; stroke-width: 0.8; stroke-linejoin: miter; stroke-linecap: square\"/>\n   </g>\n  </g>\n </g>\n <defs>\n  <clipPath id=\"p5e34dfe34b\">\n   <rect x=\"26.925\" y=\"7.2\" width=\"109.173913\" height=\"83.16\"/>\n  </clipPath>\n  <clipPath id=\"pfd477701cf\">\n   <rect x=\"157.933696\" y=\"7.2\" width=\"109.173913\" height=\"83.16\"/>\n  </clipPath>\n  <clipPath id=\"p09d475879c\">\n   <rect x=\"288.942391\" y=\"7.2\" width=\"109.173913\" height=\"83.16\"/>\n  </clipPath>\n  <clipPath id=\"p0cc1bf646d\">\n   <rect x=\"419.951087\" y=\"7.2\" width=\"109.173913\" height=\"83.16\"/>\n  </clipPath>\n </defs>\n</svg>\n",
            "text/plain": [
              "<Figure size 900x150 with 4 Axes>"
            ]
          },
          "metadata": {},
          "output_type": "display_data"
        }
      ],
      "source": [
        "## TODO \n",
        "hidden_layer = 50 \n",
        "\n",
        "\n",
        "model2 = nn.Sequential(\n",
        "    nn.Linear(D_in, hidden_layer),\n",
        "    nn.ReLU(),\n",
        "    nn.Linear(hidden_layer, D_out),\n",
        "    nn.LogSoftmax(dim=1)\n",
        "    )\n",
        "\n",
        "train(model2, lr=0.0001, epochs=100)\n",
        "\n",
        "#relu is much faster"
      ]
    },
    {
      "cell_type": "markdown",
      "metadata": {
        "id": "SB4WZ4TDyoFc"
      },
      "source": [
        "## Impact of the hidden layer size\n",
        "\n",
        "Run experiments with different hidden layer size, respectively : 50,100,150, 200 and 250. \n",
        "What do you observe ? \n"
      ]
    },
    {
      "cell_type": "code",
      "execution_count": null,
      "metadata": {
        "id": "WHbc3xj7yoFc",
        "outputId": "47c45e9e-0fe2-42b8-c3e5-d5d7ddef21bf"
      },
      "outputs": [
        {
          "name": "stdout",
          "output_type": "stream",
          "text": [
            "TODO\n"
          ]
        },
        {
          "data": {
            "image/svg+xml": "<?xml version=\"1.0\" encoding=\"utf-8\" standalone=\"no\"?>\n<!DOCTYPE svg PUBLIC \"-//W3C//DTD SVG 1.1//EN\"\n  \"http://www.w3.org/Graphics/SVG/1.1/DTD/svg11.dtd\">\n<svg xmlns:xlink=\"http://www.w3.org/1999/xlink\" width=\"535.546315pt\" height=\"114.238125pt\" viewBox=\"0 0 535.546315 114.238125\" xmlns=\"http://www.w3.org/2000/svg\" version=\"1.1\">\n <metadata>\n  <rdf:RDF xmlns:dc=\"http://purl.org/dc/elements/1.1/\" xmlns:cc=\"http://creativecommons.org/ns#\" xmlns:rdf=\"http://www.w3.org/1999/02/22-rdf-syntax-ns#\">\n   <cc:Work>\n    <dc:type rdf:resource=\"http://purl.org/dc/dcmitype/StillImage\"/>\n    <dc:date>2023-03-31T17:03:39.639397</dc:date>\n    <dc:format>image/svg+xml</dc:format>\n    <dc:creator>\n     <cc:Agent>\n      <dc:title>Matplotlib v3.7.1, https://matplotlib.org/</dc:title>\n     </cc:Agent>\n    </dc:creator>\n   </cc:Work>\n  </rdf:RDF>\n </metadata>\n <defs>\n  <style type=\"text/css\">*{stroke-linejoin: round; stroke-linecap: butt}</style>\n </defs>\n <g id=\"figure_1\">\n  <g id=\"patch_1\">\n   <path d=\"M 0 114.238125 \nL 535.546315 114.238125 \nL 535.546315 -0 \nL 0 -0 \nz\n\" style=\"fill: #ffffff\"/>\n  </g>\n  <g id=\"axes_1\">\n   <g id=\"patch_2\">\n    <path d=\"M 20.5625 90.36 \nL 129.736413 90.36 \nL 129.736413 7.2 \nL 20.5625 7.2 \nz\n\" style=\"fill: #ffffff\"/>\n   </g>\n   <g id=\"matplotlib.axis_1\">\n    <g id=\"xtick_1\">\n     <g id=\"line2d_1\">\n      <defs>\n       <path id=\"mfbbfa0066b\" d=\"M 0 0 \nL 0 3.5 \n\" style=\"stroke: #000000; stroke-width: 0.8\"/>\n      </defs>\n      <g>\n       <use xlink:href=\"#mfbbfa0066b\" x=\"25.524951\" y=\"90.36\" style=\"stroke: #000000; stroke-width: 0.8\"/>\n      </g>\n     </g>\n     <g id=\"text_1\">\n      <!-- 0 -->\n      <g transform=\"translate(22.343701 104.958438) scale(0.1 -0.1)\">\n       <defs>\n        <path id=\"DejaVuSans-30\" d=\"M 2034 4250 \nQ 1547 4250 1301 3770 \nQ 1056 3291 1056 2328 \nQ 1056 1369 1301 889 \nQ 1547 409 2034 409 \nQ 2525 409 2770 889 \nQ 3016 1369 3016 2328 \nQ 3016 3291 2770 3770 \nQ 2525 4250 2034 4250 \nz\nM 2034 4750 \nQ 2819 4750 3233 4129 \nQ 3647 3509 3647 2328 \nQ 3647 1150 3233 529 \nQ 2819 -91 2034 -91 \nQ 1250 -91 836 529 \nQ 422 1150 422 2328 \nQ 422 3509 836 4129 \nQ 1250 4750 2034 4750 \nz\n\" transform=\"scale(0.015625)\"/>\n       </defs>\n       <use xlink:href=\"#DejaVuSans-30\"/>\n      </g>\n     </g>\n    </g>\n    <g id=\"xtick_2\">\n     <g id=\"line2d_2\">\n      <g>\n       <use xlink:href=\"#mfbbfa0066b\" x=\"75.650714\" y=\"90.36\" style=\"stroke: #000000; stroke-width: 0.8\"/>\n      </g>\n     </g>\n     <g id=\"text_2\">\n      <!-- 50 -->\n      <g transform=\"translate(69.288214 104.958438) scale(0.1 -0.1)\">\n       <defs>\n        <path id=\"DejaVuSans-35\" d=\"M 691 4666 \nL 3169 4666 \nL 3169 4134 \nL 1269 4134 \nL 1269 2991 \nQ 1406 3038 1543 3061 \nQ 1681 3084 1819 3084 \nQ 2600 3084 3056 2656 \nQ 3513 2228 3513 1497 \nQ 3513 744 3044 326 \nQ 2575 -91 1722 -91 \nQ 1428 -91 1123 -41 \nQ 819 9 494 109 \nL 494 744 \nQ 775 591 1075 516 \nQ 1375 441 1709 441 \nQ 2250 441 2565 725 \nQ 2881 1009 2881 1497 \nQ 2881 1984 2565 2268 \nQ 2250 2553 1709 2553 \nQ 1456 2553 1204 2497 \nQ 953 2441 691 2322 \nL 691 4666 \nz\n\" transform=\"scale(0.015625)\"/>\n       </defs>\n       <use xlink:href=\"#DejaVuSans-35\"/>\n       <use xlink:href=\"#DejaVuSans-30\" x=\"63.623047\"/>\n      </g>\n     </g>\n    </g>\n    <g id=\"xtick_3\">\n     <g id=\"line2d_3\">\n      <g>\n       <use xlink:href=\"#mfbbfa0066b\" x=\"125.776478\" y=\"90.36\" style=\"stroke: #000000; stroke-width: 0.8\"/>\n      </g>\n     </g>\n     <g id=\"text_3\">\n      <!-- 100 -->\n      <g transform=\"translate(116.232728 104.958438) scale(0.1 -0.1)\">\n       <defs>\n        <path id=\"DejaVuSans-31\" d=\"M 794 531 \nL 1825 531 \nL 1825 4091 \nL 703 3866 \nL 703 4441 \nL 1819 4666 \nL 2450 4666 \nL 2450 531 \nL 3481 531 \nL 3481 0 \nL 794 0 \nL 794 531 \nz\n\" transform=\"scale(0.015625)\"/>\n       </defs>\n       <use xlink:href=\"#DejaVuSans-31\"/>\n       <use xlink:href=\"#DejaVuSans-30\" x=\"63.623047\"/>\n       <use xlink:href=\"#DejaVuSans-30\" x=\"127.246094\"/>\n      </g>\n     </g>\n    </g>\n   </g>\n   <g id=\"matplotlib.axis_2\">\n    <g id=\"ytick_1\">\n     <g id=\"line2d_4\">\n      <defs>\n       <path id=\"mdd742f3ef2\" d=\"M 0 0 \nL -3.5 0 \n\" style=\"stroke: #000000; stroke-width: 0.8\"/>\n      </defs>\n      <g>\n       <use xlink:href=\"#mdd742f3ef2\" x=\"20.5625\" y=\"90.36\" style=\"stroke: #000000; stroke-width: 0.8\"/>\n      </g>\n     </g>\n     <g id=\"text_4\">\n      <!-- 0 -->\n      <g transform=\"translate(7.2 94.159219) scale(0.1 -0.1)\">\n       <use xlink:href=\"#DejaVuSans-30\"/>\n      </g>\n     </g>\n    </g>\n    <g id=\"ytick_2\">\n     <g id=\"line2d_5\">\n      <g>\n       <use xlink:href=\"#mdd742f3ef2\" x=\"20.5625\" y=\"58.050639\" style=\"stroke: #000000; stroke-width: 0.8\"/>\n      </g>\n     </g>\n     <g id=\"text_5\">\n      <!-- 1 -->\n      <g transform=\"translate(7.2 61.849858) scale(0.1 -0.1)\">\n       <use xlink:href=\"#DejaVuSans-31\"/>\n      </g>\n     </g>\n    </g>\n    <g id=\"ytick_3\">\n     <g id=\"line2d_6\">\n      <g>\n       <use xlink:href=\"#mdd742f3ef2\" x=\"20.5625\" y=\"25.741278\" style=\"stroke: #000000; stroke-width: 0.8\"/>\n      </g>\n     </g>\n     <g id=\"text_6\">\n      <!-- 2 -->\n      <g transform=\"translate(7.2 29.540497) scale(0.1 -0.1)\">\n       <defs>\n        <path id=\"DejaVuSans-32\" d=\"M 1228 531 \nL 3431 531 \nL 3431 0 \nL 469 0 \nL 469 531 \nQ 828 903 1448 1529 \nQ 2069 2156 2228 2338 \nQ 2531 2678 2651 2914 \nQ 2772 3150 2772 3378 \nQ 2772 3750 2511 3984 \nQ 2250 4219 1831 4219 \nQ 1534 4219 1204 4116 \nQ 875 4013 500 3803 \nL 500 4441 \nQ 881 4594 1212 4672 \nQ 1544 4750 1819 4750 \nQ 2544 4750 2975 4387 \nQ 3406 4025 3406 3419 \nQ 3406 3131 3298 2873 \nQ 3191 2616 2906 2266 \nQ 2828 2175 2409 1742 \nQ 1991 1309 1228 531 \nz\n\" transform=\"scale(0.015625)\"/>\n       </defs>\n       <use xlink:href=\"#DejaVuSans-32\"/>\n      </g>\n     </g>\n    </g>\n   </g>\n   <g id=\"line2d_7\">\n    <path d=\"M 25.524951 10.537398 \nL 26.527466 24.411984 \nL 27.529981 30.526018 \nL 28.532496 35.148325 \nL 29.535012 38.373207 \nL 30.537527 41.365023 \nL 31.540042 43.86733 \nL 32.542557 46.05843 \nL 33.545073 47.619674 \nL 34.547588 49.005459 \nL 35.550103 50.434325 \nL 36.552619 51.846886 \nL 37.555134 53.044361 \nL 38.557649 54.114178 \nL 39.560164 55.059875 \nL 40.56268 55.964333 \nL 41.565195 56.818689 \nL 42.56771 57.615981 \nL 43.570225 58.432442 \nL 44.572741 59.202453 \nL 45.575256 59.924633 \nL 46.577771 60.58533 \nL 47.580287 61.202099 \nL 48.582802 61.842604 \nL 49.585317 62.491271 \nL 50.587832 63.062591 \nL 51.590348 63.574007 \nL 52.592863 64.082153 \nL 53.595378 64.568424 \nL 54.597893 65.027909 \nL 55.600409 65.48067 \nL 56.602924 65.935591 \nL 57.605439 66.367129 \nL 58.607955 66.759451 \nL 59.61047 67.132012 \nL 60.612985 67.486303 \nL 61.6155 67.843571 \nL 62.618016 68.18344 \nL 63.620531 68.524786 \nL 64.623046 68.847704 \nL 65.625561 69.138126 \nL 66.628077 69.439701 \nL 67.630592 69.737185 \nL 68.633107 70.006724 \nL 69.635623 70.290285 \nL 70.638138 70.540739 \nL 71.640653 70.778988 \nL 72.643168 71.03336 \nL 73.645684 71.280063 \nL 74.648199 71.505602 \nL 75.650714 71.722748 \nL 76.653229 71.929287 \nL 77.655745 72.152189 \nL 78.65826 72.359238 \nL 79.660775 72.546692 \nL 80.663291 72.710764 \nL 81.665806 72.912777 \nL 82.668321 73.085252 \nL 83.670836 73.243517 \nL 84.673352 73.410822 \nL 85.675867 73.5987 \nL 86.678382 73.713173 \nL 87.680897 73.891173 \nL 88.683413 74.015369 \nL 89.685928 74.186503 \nL 90.688443 74.299534 \nL 91.690958 74.424272 \nL 92.693474 74.568633 \nL 93.695989 74.68704 \nL 94.698504 74.801602 \nL 95.70102 74.894408 \nL 96.703535 75.0512 \nL 97.70605 75.135103 \nL 98.708565 75.221136 \nL 99.711081 75.330965 \nL 100.713596 75.432949 \nL 101.716111 75.55846 \nL 102.718626 75.651378 \nL 103.721142 75.754301 \nL 104.723657 75.846832 \nL 105.726172 75.932504 \nL 106.728688 76.000251 \nL 107.731203 76.094401 \nL 108.733718 76.210981 \nL 109.736233 76.27435 \nL 110.738749 76.336547 \nL 111.741264 76.466529 \nL 112.743779 76.521988 \nL 113.746294 76.576786 \nL 114.74881 76.660869 \nL 115.751325 76.711087 \nL 116.75384 76.767011 \nL 117.756356 76.793687 \nL 118.758871 76.896708 \nL 119.761386 76.983369 \nL 120.763901 77.061992 \nL 121.766417 77.091645 \nL 122.768932 77.117203 \nL 123.771447 77.218783 \nL 124.773962 77.285348 \n\" clip-path=\"url(#pea076d6081)\" style=\"fill: none; stroke: #1f77b4; stroke-width: 1.5; stroke-linecap: square\"/>\n   </g>\n   <g id=\"patch_3\">\n    <path d=\"M 20.5625 90.36 \nL 20.5625 7.2 \n\" style=\"fill: none; stroke: #000000; stroke-width: 0.8; stroke-linejoin: miter; stroke-linecap: square\"/>\n   </g>\n   <g id=\"patch_4\">\n    <path d=\"M 129.736413 90.36 \nL 129.736413 7.2 \n\" style=\"fill: none; stroke: #000000; stroke-width: 0.8; stroke-linejoin: miter; stroke-linecap: square\"/>\n   </g>\n   <g id=\"patch_5\">\n    <path d=\"M 20.5625 90.36 \nL 129.736413 90.36 \n\" style=\"fill: none; stroke: #000000; stroke-width: 0.8; stroke-linejoin: miter; stroke-linecap: square\"/>\n   </g>\n   <g id=\"patch_6\">\n    <path d=\"M 20.5625 7.2 \nL 129.736413 7.2 \n\" style=\"fill: none; stroke: #000000; stroke-width: 0.8; stroke-linejoin: miter; stroke-linecap: square\"/>\n   </g>\n  </g>\n  <g id=\"axes_2\">\n   <g id=\"patch_7\">\n    <path d=\"M 151.571196 90.36 \nL 260.745109 90.36 \nL 260.745109 7.2 \nL 151.571196 7.2 \nz\n\" style=\"fill: #ffffff\"/>\n   </g>\n   <g id=\"matplotlib.axis_3\">\n    <g id=\"xtick_4\">\n     <g id=\"line2d_8\">\n      <g>\n       <use xlink:href=\"#mfbbfa0066b\" x=\"156.533646\" y=\"90.36\" style=\"stroke: #000000; stroke-width: 0.8\"/>\n      </g>\n     </g>\n     <g id=\"text_7\">\n      <!-- 0 -->\n      <g transform=\"translate(153.352396 104.958438) scale(0.1 -0.1)\">\n       <use xlink:href=\"#DejaVuSans-30\"/>\n      </g>\n     </g>\n    </g>\n    <g id=\"xtick_5\">\n     <g id=\"line2d_9\">\n      <g>\n       <use xlink:href=\"#mfbbfa0066b\" x=\"206.65941\" y=\"90.36\" style=\"stroke: #000000; stroke-width: 0.8\"/>\n      </g>\n     </g>\n     <g id=\"text_8\">\n      <!-- 50 -->\n      <g transform=\"translate(200.29691 104.958438) scale(0.1 -0.1)\">\n       <use xlink:href=\"#DejaVuSans-35\"/>\n       <use xlink:href=\"#DejaVuSans-30\" x=\"63.623047\"/>\n      </g>\n     </g>\n    </g>\n    <g id=\"xtick_6\">\n     <g id=\"line2d_10\">\n      <g>\n       <use xlink:href=\"#mfbbfa0066b\" x=\"256.785173\" y=\"90.36\" style=\"stroke: #000000; stroke-width: 0.8\"/>\n      </g>\n     </g>\n     <g id=\"text_9\">\n      <!-- 100 -->\n      <g transform=\"translate(247.241423 104.958438) scale(0.1 -0.1)\">\n       <use xlink:href=\"#DejaVuSans-31\"/>\n       <use xlink:href=\"#DejaVuSans-30\" x=\"63.623047\"/>\n       <use xlink:href=\"#DejaVuSans-30\" x=\"127.246094\"/>\n      </g>\n     </g>\n    </g>\n   </g>\n   <g id=\"matplotlib.axis_4\">\n    <g id=\"ytick_4\">\n     <g id=\"line2d_11\">\n      <g>\n       <use xlink:href=\"#mdd742f3ef2\" x=\"151.571196\" y=\"90.36\" style=\"stroke: #000000; stroke-width: 0.8\"/>\n      </g>\n     </g>\n     <g id=\"text_10\">\n      <!-- 0 -->\n      <g transform=\"translate(138.208696 94.159219) scale(0.1 -0.1)\">\n       <use xlink:href=\"#DejaVuSans-30\"/>\n      </g>\n     </g>\n    </g>\n    <g id=\"ytick_5\">\n     <g id=\"line2d_12\">\n      <g>\n       <use xlink:href=\"#mdd742f3ef2\" x=\"151.571196\" y=\"57.947954\" style=\"stroke: #000000; stroke-width: 0.8\"/>\n      </g>\n     </g>\n     <g id=\"text_11\">\n      <!-- 1 -->\n      <g transform=\"translate(138.208696 61.747173) scale(0.1 -0.1)\">\n       <use xlink:href=\"#DejaVuSans-31\"/>\n      </g>\n     </g>\n    </g>\n    <g id=\"ytick_6\">\n     <g id=\"line2d_13\">\n      <g>\n       <use xlink:href=\"#mdd742f3ef2\" x=\"151.571196\" y=\"25.535909\" style=\"stroke: #000000; stroke-width: 0.8\"/>\n      </g>\n     </g>\n     <g id=\"text_12\">\n      <!-- 2 -->\n      <g transform=\"translate(138.208696 29.335128) scale(0.1 -0.1)\">\n       <use xlink:href=\"#DejaVuSans-32\"/>\n      </g>\n     </g>\n    </g>\n   </g>\n   <g id=\"line2d_14\">\n    <path d=\"M 156.533646 10.443693 \nL 157.536162 24.248663 \nL 158.538677 30.272284 \nL 159.541192 34.790743 \nL 160.543707 38.035743 \nL 161.546223 41.117442 \nL 162.548738 43.597194 \nL 163.551253 45.743358 \nL 164.553768 47.329486 \nL 165.556284 48.774971 \nL 166.558799 50.21114 \nL 167.561314 51.617399 \nL 168.56383 52.829398 \nL 169.566345 53.8968 \nL 170.56886 54.823235 \nL 171.571375 55.750849 \nL 172.573891 56.604513 \nL 173.576406 57.409663 \nL 174.578921 58.21159 \nL 175.581436 58.963537 \nL 176.583952 59.683471 \nL 177.586467 60.335349 \nL 178.588982 60.933595 \nL 179.591497 61.564394 \nL 180.594013 62.203108 \nL 181.596528 62.767378 \nL 182.599043 63.265461 \nL 183.601559 63.739291 \nL 184.604074 64.213022 \nL 185.606589 64.661159 \nL 186.609104 65.091049 \nL 187.61162 65.520437 \nL 188.614135 65.917052 \nL 189.61665 66.308128 \nL 190.619165 66.65437 \nL 191.621681 66.987727 \nL 192.624196 67.334016 \nL 193.626711 67.650876 \nL 194.629227 67.984978 \nL 195.631742 68.285396 \nL 196.634257 68.562862 \nL 197.636772 68.850823 \nL 198.639288 69.117115 \nL 199.641803 69.376677 \nL 200.644318 69.630033 \nL 201.646833 69.866479 \nL 202.649349 70.073441 \nL 203.651864 70.30907 \nL 204.654379 70.521808 \nL 205.656895 70.719909 \nL 206.65941 70.91125 \nL 207.661925 71.094874 \nL 208.66444 71.284842 \nL 209.666956 71.451034 \nL 210.669471 71.617414 \nL 211.671986 71.776959 \nL 212.674501 71.949797 \nL 213.677017 72.093489 \nL 214.679532 72.217231 \nL 215.682047 72.376645 \nL 216.684563 72.527656 \nL 217.687078 72.619287 \nL 218.689593 72.772187 \nL 219.692108 72.879273 \nL 220.694624 72.995615 \nL 221.697139 73.097813 \nL 222.699654 73.200453 \nL 223.702169 73.307158 \nL 224.704685 73.414663 \nL 225.7072 73.493579 \nL 226.709715 73.563727 \nL 227.712231 73.679394 \nL 228.714746 73.760992 \nL 229.717261 73.837938 \nL 230.719776 73.920529 \nL 231.722292 73.993758 \nL 232.724807 74.078812 \nL 233.727322 74.119348 \nL 234.729837 74.211667 \nL 235.732353 74.304157 \nL 236.734868 74.316259 \nL 237.737383 74.38224 \nL 238.739898 74.452488 \nL 239.742414 74.551392 \nL 240.744929 74.60371 \nL 241.747444 74.63769 \nL 242.74996 74.698233 \nL 243.752475 74.728411 \nL 244.75499 74.791121 \nL 245.757505 74.85428 \nL 246.760021 74.901326 \nL 247.762536 74.954908 \nL 248.765051 74.98932 \nL 249.767566 75.04363 \nL 250.770082 75.129705 \nL 251.772597 75.15547 \nL 252.775112 75.176432 \nL 253.777628 75.22665 \nL 254.780143 75.261846 \nL 255.782658 75.317555 \n\" clip-path=\"url(#p42b4360d1a)\" style=\"fill: none; stroke: #1f77b4; stroke-width: 1.5; stroke-linecap: square\"/>\n   </g>\n   <g id=\"patch_8\">\n    <path d=\"M 151.571196 90.36 \nL 151.571196 7.2 \n\" style=\"fill: none; stroke: #000000; stroke-width: 0.8; stroke-linejoin: miter; stroke-linecap: square\"/>\n   </g>\n   <g id=\"patch_9\">\n    <path d=\"M 260.745109 90.36 \nL 260.745109 7.2 \n\" style=\"fill: none; stroke: #000000; stroke-width: 0.8; stroke-linejoin: miter; stroke-linecap: square\"/>\n   </g>\n   <g id=\"patch_10\">\n    <path d=\"M 151.571196 90.36 \nL 260.745109 90.36 \n\" style=\"fill: none; stroke: #000000; stroke-width: 0.8; stroke-linejoin: miter; stroke-linecap: square\"/>\n   </g>\n   <g id=\"patch_11\">\n    <path d=\"M 151.571196 7.2 \nL 260.745109 7.2 \n\" style=\"fill: none; stroke: #000000; stroke-width: 0.8; stroke-linejoin: miter; stroke-linecap: square\"/>\n   </g>\n  </g>\n  <g id=\"axes_3\">\n   <g id=\"patch_12\">\n    <path d=\"M 282.579891 90.36 \nL 391.753804 90.36 \nL 391.753804 7.2 \nL 282.579891 7.2 \nz\n\" style=\"fill: #ffffff\"/>\n   </g>\n   <g id=\"matplotlib.axis_5\">\n    <g id=\"xtick_7\">\n     <g id=\"line2d_15\">\n      <g>\n       <use xlink:href=\"#mfbbfa0066b\" x=\"287.542342\" y=\"90.36\" style=\"stroke: #000000; stroke-width: 0.8\"/>\n      </g>\n     </g>\n     <g id=\"text_13\">\n      <!-- 0 -->\n      <g transform=\"translate(284.361092 104.958438) scale(0.1 -0.1)\">\n       <use xlink:href=\"#DejaVuSans-30\"/>\n      </g>\n     </g>\n    </g>\n    <g id=\"xtick_8\">\n     <g id=\"line2d_16\">\n      <g>\n       <use xlink:href=\"#mfbbfa0066b\" x=\"337.668105\" y=\"90.36\" style=\"stroke: #000000; stroke-width: 0.8\"/>\n      </g>\n     </g>\n     <g id=\"text_14\">\n      <!-- 50 -->\n      <g transform=\"translate(331.305605 104.958438) scale(0.1 -0.1)\">\n       <use xlink:href=\"#DejaVuSans-35\"/>\n       <use xlink:href=\"#DejaVuSans-30\" x=\"63.623047\"/>\n      </g>\n     </g>\n    </g>\n    <g id=\"xtick_9\">\n     <g id=\"line2d_17\">\n      <g>\n       <use xlink:href=\"#mfbbfa0066b\" x=\"387.793869\" y=\"90.36\" style=\"stroke: #000000; stroke-width: 0.8\"/>\n      </g>\n     </g>\n     <g id=\"text_15\">\n      <!-- 100 -->\n      <g transform=\"translate(378.250119 104.958438) scale(0.1 -0.1)\">\n       <use xlink:href=\"#DejaVuSans-31\"/>\n       <use xlink:href=\"#DejaVuSans-30\" x=\"63.623047\"/>\n       <use xlink:href=\"#DejaVuSans-30\" x=\"127.246094\"/>\n      </g>\n     </g>\n    </g>\n   </g>\n   <g id=\"matplotlib.axis_6\">\n    <g id=\"ytick_7\">\n     <g id=\"line2d_18\">\n      <g>\n       <use xlink:href=\"#mdd742f3ef2\" x=\"282.579891\" y=\"90.36\" style=\"stroke: #000000; stroke-width: 0.8\"/>\n      </g>\n     </g>\n     <g id=\"text_16\">\n      <!-- 0 -->\n      <g transform=\"translate(269.217391 94.159219) scale(0.1 -0.1)\">\n       <use xlink:href=\"#DejaVuSans-30\"/>\n      </g>\n     </g>\n    </g>\n    <g id=\"ytick_8\">\n     <g id=\"line2d_19\">\n      <g>\n       <use xlink:href=\"#mdd742f3ef2\" x=\"282.579891\" y=\"66.758334\" style=\"stroke: #000000; stroke-width: 0.8\"/>\n      </g>\n     </g>\n     <g id=\"text_17\">\n      <!-- 25 -->\n      <g transform=\"translate(262.854891 70.557553) scale(0.1 -0.1)\">\n       <use xlink:href=\"#DejaVuSans-32\"/>\n       <use xlink:href=\"#DejaVuSans-35\" x=\"63.623047\"/>\n      </g>\n     </g>\n    </g>\n    <g id=\"ytick_9\">\n     <g id=\"line2d_20\">\n      <g>\n       <use xlink:href=\"#mdd742f3ef2\" x=\"282.579891\" y=\"43.156668\" style=\"stroke: #000000; stroke-width: 0.8\"/>\n      </g>\n     </g>\n     <g id=\"text_18\">\n      <!-- 50 -->\n      <g transform=\"translate(262.854891 46.955887) scale(0.1 -0.1)\">\n       <use xlink:href=\"#DejaVuSans-35\"/>\n       <use xlink:href=\"#DejaVuSans-30\" x=\"63.623047\"/>\n      </g>\n     </g>\n    </g>\n    <g id=\"ytick_10\">\n     <g id=\"line2d_21\">\n      <g>\n       <use xlink:href=\"#mdd742f3ef2\" x=\"282.579891\" y=\"19.555002\" style=\"stroke: #000000; stroke-width: 0.8\"/>\n      </g>\n     </g>\n     <g id=\"text_19\">\n      <!-- 75 -->\n      <g transform=\"translate(262.854891 23.35422) scale(0.1 -0.1)\">\n       <defs>\n        <path id=\"DejaVuSans-37\" d=\"M 525 4666 \nL 3525 4666 \nL 3525 4397 \nL 1831 0 \nL 1172 0 \nL 2766 4134 \nL 525 4134 \nL 525 4666 \nz\n\" transform=\"scale(0.015625)\"/>\n       </defs>\n       <use xlink:href=\"#DejaVuSans-37\"/>\n       <use xlink:href=\"#DejaVuSans-35\" x=\"63.623047\"/>\n      </g>\n     </g>\n    </g>\n   </g>\n   <g id=\"line2d_22\">\n    <path d=\"M 287.542342 80.29625 \nL 288.544857 56.921161 \nL 289.547372 35.925117 \nL 290.549888 34.225798 \nL 291.552403 33.376137 \nL 292.554918 31.667378 \nL 293.557434 29.496022 \nL 294.559949 27.428514 \nL 295.562464 26.191789 \nL 296.564979 25.021148 \nL 297.567495 24.511352 \nL 298.57001 24.029876 \nL 299.572525 23.557842 \nL 300.57504 23.642812 \nL 301.577556 23.010289 \nL 302.580071 22.727066 \nL 303.582586 22.49105 \nL 304.585102 22.283354 \nL 305.587617 21.377051 \nL 306.590132 20.385778 \nL 307.592647 19.441711 \nL 308.595163 19.215137 \nL 309.597678 18.913036 \nL 310.600193 18.412682 \nL 311.602708 18.15778 \nL 312.605224 17.978412 \nL 313.607739 17.72351 \nL 314.610254 17.317561 \nL 315.612769 16.911612 \nL 316.615285 16.817207 \nL 317.6178 16.618954 \nL 318.620315 16.430143 \nL 319.622831 16.146921 \nL 320.625346 15.910904 \nL 321.627861 15.797613 \nL 322.630376 15.618246 \nL 323.632892 15.542718 \nL 324.635407 15.419992 \nL 325.637922 15.221739 \nL 326.640437 14.929074 \nL 327.642953 14.664736 \nL 328.645468 14.42872 \nL 329.647983 14.277673 \nL 330.650499 14.051091 \nL 331.653014 14.003892 \nL 332.655529 13.900045 \nL 333.658044 13.730112 \nL 334.66056 13.56018 \nL 335.663075 13.503531 \nL 336.66559 13.437447 \nL 337.668105 13.295842 \nL 338.670621 13.182552 \nL 339.673136 13.097589 \nL 340.675651 12.974856 \nL 341.678167 12.757725 \nL 342.680682 12.606671 \nL 343.683197 12.587792 \nL 344.685712 12.33289 \nL 345.688228 12.30457 \nL 346.690743 12.210164 \nL 347.693258 12.05911 \nL 348.695773 12.210164 \nL 349.698289 12.125195 \nL 350.700804 11.98359 \nL 351.703319 11.945827 \nL 352.705835 11.841979 \nL 353.70835 11.78533 \nL 354.710865 11.860857 \nL 355.71338 11.728688 \nL 356.715896 11.690925 \nL 357.718411 11.757009 \nL 358.720926 11.530435 \nL 359.723441 11.558756 \nL 360.725957 11.464351 \nL 361.728472 11.530435 \nL 362.730987 11.520993 \nL 363.733503 11.341625 \nL 364.736018 11.35106 \nL 365.738533 11.256655 \nL 366.741048 11.379381 \nL 367.743564 11.332182 \nL 368.746079 11.105608 \nL 369.748594 11.27554 \nL 370.751109 11.303861 \nL 371.753625 11.115044 \nL 372.75614 11.133929 \nL 373.758655 11.096165 \nL 374.76117 11.181128 \nL 375.763686 11.152807 \nL 376.766201 10.982875 \nL 377.768716 11.030081 \nL 378.771232 10.982875 \nL 379.773747 11.067845 \nL 380.776262 10.935676 \nL 381.778777 10.850706 \nL 382.781293 10.907348 \nL 383.783808 10.699659 \nL 384.786323 10.680774 \nL 385.788838 10.831828 \nL 386.791354 10.803507 \n\" clip-path=\"url(#pdc52580695)\" style=\"fill: none; stroke: #1f77b4; stroke-width: 1.5; stroke-linecap: square\"/>\n   </g>\n   <g id=\"patch_13\">\n    <path d=\"M 282.579891 90.36 \nL 282.579891 7.2 \n\" style=\"fill: none; stroke: #000000; stroke-width: 0.8; stroke-linejoin: miter; stroke-linecap: square\"/>\n   </g>\n   <g id=\"patch_14\">\n    <path d=\"M 391.753804 90.36 \nL 391.753804 7.2 \n\" style=\"fill: none; stroke: #000000; stroke-width: 0.8; stroke-linejoin: miter; stroke-linecap: square\"/>\n   </g>\n   <g id=\"patch_15\">\n    <path d=\"M 282.579891 90.36 \nL 391.753804 90.36 \n\" style=\"fill: none; stroke: #000000; stroke-width: 0.8; stroke-linejoin: miter; stroke-linecap: square\"/>\n   </g>\n   <g id=\"patch_16\">\n    <path d=\"M 282.579891 7.2 \nL 391.753804 7.2 \n\" style=\"fill: none; stroke: #000000; stroke-width: 0.8; stroke-linejoin: miter; stroke-linecap: square\"/>\n   </g>\n  </g>\n  <g id=\"axes_4\">\n   <g id=\"patch_17\">\n    <path d=\"M 413.588587 90.36 \nL 522.7625 90.36 \nL 522.7625 7.2 \nL 413.588587 7.2 \nz\n\" style=\"fill: #ffffff\"/>\n   </g>\n   <g id=\"matplotlib.axis_7\">\n    <g id=\"xtick_10\">\n     <g id=\"line2d_23\">\n      <g>\n       <use xlink:href=\"#mfbbfa0066b\" x=\"418.551038\" y=\"90.36\" style=\"stroke: #000000; stroke-width: 0.8\"/>\n      </g>\n     </g>\n     <g id=\"text_20\">\n      <!-- 0 -->\n      <g transform=\"translate(415.369788 104.958438) scale(0.1 -0.1)\">\n       <use xlink:href=\"#DejaVuSans-30\"/>\n      </g>\n     </g>\n    </g>\n    <g id=\"xtick_11\">\n     <g id=\"line2d_24\">\n      <g>\n       <use xlink:href=\"#mfbbfa0066b\" x=\"468.676801\" y=\"90.36\" style=\"stroke: #000000; stroke-width: 0.8\"/>\n      </g>\n     </g>\n     <g id=\"text_21\">\n      <!-- 50 -->\n      <g transform=\"translate(462.314301 104.958438) scale(0.1 -0.1)\">\n       <use xlink:href=\"#DejaVuSans-35\"/>\n       <use xlink:href=\"#DejaVuSans-30\" x=\"63.623047\"/>\n      </g>\n     </g>\n    </g>\n    <g id=\"xtick_12\">\n     <g id=\"line2d_25\">\n      <g>\n       <use xlink:href=\"#mfbbfa0066b\" x=\"518.802565\" y=\"90.36\" style=\"stroke: #000000; stroke-width: 0.8\"/>\n      </g>\n     </g>\n     <g id=\"text_22\">\n      <!-- 100 -->\n      <g transform=\"translate(509.258815 104.958438) scale(0.1 -0.1)\">\n       <use xlink:href=\"#DejaVuSans-31\"/>\n       <use xlink:href=\"#DejaVuSans-30\" x=\"63.623047\"/>\n       <use xlink:href=\"#DejaVuSans-30\" x=\"127.246094\"/>\n      </g>\n     </g>\n    </g>\n   </g>\n   <g id=\"matplotlib.axis_8\">\n    <g id=\"ytick_11\">\n     <g id=\"line2d_26\">\n      <g>\n       <use xlink:href=\"#mdd742f3ef2\" x=\"413.588587\" y=\"90.36\" style=\"stroke: #000000; stroke-width: 0.8\"/>\n      </g>\n     </g>\n     <g id=\"text_23\">\n      <!-- 0 -->\n      <g transform=\"translate(400.226087 94.159219) scale(0.1 -0.1)\">\n       <use xlink:href=\"#DejaVuSans-30\"/>\n      </g>\n     </g>\n    </g>\n    <g id=\"ytick_12\">\n     <g id=\"line2d_27\">\n      <g>\n       <use xlink:href=\"#mdd742f3ef2\" x=\"413.588587\" y=\"67.445985\" style=\"stroke: #000000; stroke-width: 0.8\"/>\n      </g>\n     </g>\n     <g id=\"text_24\">\n      <!-- 25 -->\n      <g transform=\"translate(393.863587 71.245204) scale(0.1 -0.1)\">\n       <use xlink:href=\"#DejaVuSans-32\"/>\n       <use xlink:href=\"#DejaVuSans-35\" x=\"63.623047\"/>\n      </g>\n     </g>\n    </g>\n    <g id=\"ytick_13\">\n     <g id=\"line2d_28\">\n      <g>\n       <use xlink:href=\"#mdd742f3ef2\" x=\"413.588587\" y=\"44.531971\" style=\"stroke: #000000; stroke-width: 0.8\"/>\n      </g>\n     </g>\n     <g id=\"text_25\">\n      <!-- 50 -->\n      <g transform=\"translate(393.863587 48.331189) scale(0.1 -0.1)\">\n       <use xlink:href=\"#DejaVuSans-35\"/>\n       <use xlink:href=\"#DejaVuSans-30\" x=\"63.623047\"/>\n      </g>\n     </g>\n    </g>\n    <g id=\"ytick_14\">\n     <g id=\"line2d_29\">\n      <g>\n       <use xlink:href=\"#mdd742f3ef2\" x=\"413.588587\" y=\"21.617956\" style=\"stroke: #000000; stroke-width: 0.8\"/>\n      </g>\n     </g>\n     <g id=\"text_26\">\n      <!-- 75 -->\n      <g transform=\"translate(393.863587 25.417175) scale(0.1 -0.1)\">\n       <use xlink:href=\"#DejaVuSans-37\"/>\n       <use xlink:href=\"#DejaVuSans-35\" x=\"63.623047\"/>\n      </g>\n     </g>\n    </g>\n   </g>\n   <g id=\"line2d_30\">\n    <path d=\"M 418.551038 81.121069 \nL 419.553553 58.243716 \nL 420.556068 37.103247 \nL 421.558583 34.770599 \nL 422.561099 34.44064 \nL 423.563614 32.91915 \nL 424.566129 30.866049 \nL 425.568644 28.739628 \nL 426.57116 27.630591 \nL 427.573675 26.585712 \nL 428.57619 25.898292 \nL 429.578706 25.307114 \nL 430.581221 25.032143 \nL 431.583736 24.427216 \nL 432.586251 24.330974 \nL 433.588767 23.950601 \nL 434.591282 23.735208 \nL 435.593797 23.771872 \nL 436.596312 22.740741 \nL 437.598828 21.732526 \nL 438.601343 20.944283 \nL 439.603858 20.614321 \nL 440.606374 20.339357 \nL 441.608889 19.995647 \nL 442.611404 19.734423 \nL 443.613919 19.528199 \nL 444.616435 19.230312 \nL 445.61895 18.749124 \nL 446.621465 18.387078 \nL 447.62398 18.102947 \nL 448.626496 17.983796 \nL 449.629011 17.736321 \nL 450.631526 17.429274 \nL 451.634042 17.213882 \nL 452.636557 17.030573 \nL 453.639072 16.897667 \nL 454.641587 16.691443 \nL 455.644103 16.54479 \nL 456.646618 16.283573 \nL 457.649133 16.095677 \nL 458.651648 15.921535 \nL 459.654164 15.715303 \nL 460.656679 15.518246 \nL 461.659194 15.477003 \nL 462.661709 15.270771 \nL 463.664225 15.257023 \nL 464.66674 15.110377 \nL 465.669255 14.849154 \nL 466.671771 14.684173 \nL 467.674286 14.519191 \nL 468.676801 14.340462 \nL 469.679316 14.216732 \nL 470.681832 14.019668 \nL 471.684347 13.928013 \nL 472.686862 13.808863 \nL 473.689377 13.740116 \nL 474.691893 13.59347 \nL 475.694408 13.520144 \nL 476.696923 13.382658 \nL 477.699439 13.222257 \nL 478.701954 13.066444 \nL 479.704469 13.089359 \nL 480.706984 12.956461 \nL 481.7095 12.90605 \nL 482.712015 12.759397 \nL 483.71453 12.736481 \nL 484.717045 12.631079 \nL 485.719561 12.484433 \nL 486.722076 12.401939 \nL 487.724591 12.379023 \nL 488.727107 12.351528 \nL 489.729622 12.236958 \nL 490.732137 12.232377 \nL 491.734652 12.250705 \nL 492.737168 12.090312 \nL 493.739683 12.035313 \nL 494.742198 11.760349 \nL 495.744713 11.760349 \nL 496.747229 11.723686 \nL 497.749744 11.65494 \nL 498.752259 11.604529 \nL 499.754775 11.595368 \nL 500.75729 11.572453 \nL 501.759805 11.457882 \nL 502.76232 11.370808 \nL 503.764836 11.315817 \nL 504.767351 11.269986 \nL 505.769866 11.279153 \nL 506.772381 11.205827 \nL 507.774897 11.150836 \nL 508.777412 11.1325 \nL 509.779927 11.022518 \nL 510.782443 11.022518 \nL 511.784958 10.962939 \nL 512.787473 10.976687 \nL 513.789988 10.802538 \nL 514.792504 10.8942 \nL 515.795019 10.825453 \nL 516.797534 10.720051 \nL 517.800049 10.830041 \n\" clip-path=\"url(#pb8e43fb990)\" style=\"fill: none; stroke: #1f77b4; stroke-width: 1.5; stroke-linecap: square\"/>\n   </g>\n   <g id=\"patch_18\">\n    <path d=\"M 413.588587 90.36 \nL 413.588587 7.2 \n\" style=\"fill: none; stroke: #000000; stroke-width: 0.8; stroke-linejoin: miter; stroke-linecap: square\"/>\n   </g>\n   <g id=\"patch_19\">\n    <path d=\"M 522.7625 90.36 \nL 522.7625 7.2 \n\" style=\"fill: none; stroke: #000000; stroke-width: 0.8; stroke-linejoin: miter; stroke-linecap: square\"/>\n   </g>\n   <g id=\"patch_20\">\n    <path d=\"M 413.588587 90.36 \nL 522.7625 90.36 \n\" style=\"fill: none; stroke: #000000; stroke-width: 0.8; stroke-linejoin: miter; stroke-linecap: square\"/>\n   </g>\n   <g id=\"patch_21\">\n    <path d=\"M 413.588587 7.2 \nL 522.7625 7.2 \n\" style=\"fill: none; stroke: #000000; stroke-width: 0.8; stroke-linejoin: miter; stroke-linecap: square\"/>\n   </g>\n  </g>\n </g>\n <defs>\n  <clipPath id=\"pea076d6081\">\n   <rect x=\"20.5625\" y=\"7.2\" width=\"109.173913\" height=\"83.16\"/>\n  </clipPath>\n  <clipPath id=\"p42b4360d1a\">\n   <rect x=\"151.571196\" y=\"7.2\" width=\"109.173913\" height=\"83.16\"/>\n  </clipPath>\n  <clipPath id=\"pdc52580695\">\n   <rect x=\"282.579891\" y=\"7.2\" width=\"109.173913\" height=\"83.16\"/>\n  </clipPath>\n  <clipPath id=\"pb8e43fb990\">\n   <rect x=\"413.588587\" y=\"7.2\" width=\"109.173913\" height=\"83.16\"/>\n  </clipPath>\n </defs>\n</svg>\n",
            "text/plain": [
              "<Figure size 900x150 with 4 Axes>"
            ]
          },
          "metadata": {},
          "output_type": "display_data"
        }
      ],
      "source": [
        "## TODO \n",
        "hidden_layer = 200\n",
        "\n",
        "\n",
        "model2 = nn.Sequential(\n",
        "    nn.Linear(D_in, hidden_layer),\n",
        "    nn.Sigmoid(),\n",
        "    nn.Linear(hidden_layer, D_out),\n",
        "    nn.LogSoftmax(dim=1)\n",
        "    )\n",
        "\n",
        "train(model2, lr=0.001, epochs=30)\n",
        "\n"
      ]
    },
    {
      "cell_type": "markdown",
      "metadata": {
        "id": "eCB-LBFoyoFc"
      },
      "source": [
        "# Deeper network\n",
        "\n",
        "Now we add one more hidden layer and consider a NNet with two hidden layers. \n",
        "The first setup is: \n",
        "- two hidden layers of size 50 with a ReLU activation\n",
        "- a learning rate of 0.0001\n",
        "\n",
        "Train it during 100 epochs "
      ]
    },
    {
      "cell_type": "code",
      "execution_count": null,
      "metadata": {
        "id": "0ZQIo7KkyoFc"
      },
      "outputs": [],
      "source": []
    },
    {
      "cell_type": "markdown",
      "metadata": {
        "id": "carZoofAyoFc"
      },
      "source": [
        "Try different value of dropout to assess its impact on the training process. For example 0.3 and 0.5. "
      ]
    },
    {
      "cell_type": "code",
      "execution_count": null,
      "metadata": {
        "id": "EnloaqG0yoFd"
      },
      "outputs": [],
      "source": []
    },
    {
      "cell_type": "markdown",
      "metadata": {
        "id": "g1_JGRXuyoFd"
      },
      "source": [
        "Then you can play with different  \"hyper-parameters\":\n",
        "- Increase the size (double for example) of the first hidden layer\n",
        "- Add a third hidden layer. \n"
      ]
    },
    {
      "cell_type": "code",
      "execution_count": null,
      "metadata": {
        "id": "8thrPAnVyoFd"
      },
      "outputs": [],
      "source": []
    },
    {
      "cell_type": "markdown",
      "metadata": {
        "id": "_VZK7EbhyoFn"
      },
      "source": [
        "# Confusion matrix\n",
        "\n",
        "For a good model you obtained, compute the confusion matrix and look at it. \n"
      ]
    },
    {
      "cell_type": "code",
      "execution_count": null,
      "metadata": {
        "id": "bqFO5STJyoFn"
      },
      "outputs": [],
      "source": []
    },
    {
      "cell_type": "markdown",
      "metadata": {
        "id": "aKgOicnzyoFn"
      },
      "source": [
        "\n",
        "# Dropout \n",
        "\n",
        "You should observe overfitting. One solution is to add a dropout layer to the model (with a probability of 0.2 for example). Code this modification and rerun the training process to observe the impact. When you use a Dropout layer, the layer acts differently in the train mode and evaluation mode. You should take this into account when you train the model end when you compute the performance on the validation set. \n",
        "\n"
      ]
    },
    {
      "cell_type": "code",
      "execution_count": null,
      "metadata": {
        "id": "Xsdf2rJzyoFn"
      },
      "outputs": [],
      "source": []
    },
    {
      "cell_type": "markdown",
      "metadata": {
        "id": "Uj4omEtKyoFo"
      },
      "source": [
        "# PCA \n",
        "\n",
        "To analyse the results, beyond the confusion matrix, we can compute the PCA (in 2D) and plot the projected datapoints depending on their classes, for instance by considering every pairs of classes. To compute the PCA and project the data, we can use the implementation provided by sklearn (https://scikit-learn.org/stable/modules/generated/sklearn.decomposition.PCA.html). "
      ]
    },
    {
      "cell_type": "code",
      "execution_count": null,
      "metadata": {
        "id": "JUIZ4sTlyoFo"
      },
      "outputs": [],
      "source": [
        "# compute the PCA in 2D\n",
        "from sklearn.decomposition import PCA\n",
        "#  .... \n"
      ]
    },
    {
      "cell_type": "markdown",
      "metadata": {
        "id": "mXJHeVxeyoFo"
      },
      "source": [
        "# Test \n",
        "- Take two best models (with one and two hidden layers) and run the evaluation on the test set. \n",
        "- Train the best two models with all the training data and compute the results on the test set. \n"
      ]
    },
    {
      "cell_type": "code",
      "execution_count": null,
      "metadata": {
        "id": "2TcAvS88yoFo"
      },
      "outputs": [],
      "source": []
    }
  ],
  "metadata": {
    "kernelspec": {
      "display_name": "Python 3 (ipykernel)",
      "language": "python",
      "name": "python3"
    },
    "language_info": {
      "codemirror_mode": {
        "name": "ipython",
        "version": 3
      },
      "file_extension": ".py",
      "mimetype": "text/x-python",
      "name": "python",
      "nbconvert_exporter": "python",
      "pygments_lexer": "ipython3",
      "version": "3.10.1"
    },
    "toc": {
      "base_numbering": 1,
      "nav_menu": {},
      "number_sections": true,
      "sideBar": true,
      "skip_h1_title": false,
      "title_cell": "Table of Contents",
      "title_sidebar": "Contents",
      "toc_cell": false,
      "toc_position": {},
      "toc_section_display": true,
      "toc_window_display": false
    },
    "colab": {
      "provenance": []
    }
  },
  "nbformat": 4,
  "nbformat_minor": 0
}